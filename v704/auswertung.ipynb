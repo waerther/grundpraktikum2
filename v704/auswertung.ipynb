{
 "cells": [
  {
   "cell_type": "code",
   "execution_count": 2,
   "metadata": {},
   "outputs": [],
   "source": [
    "import numpy as np\n",
    "from numpy import sqrt\n",
    "import matplotlib.pyplot as plt\n",
    "import pandas as pd\n",
    "import scipy.constants as const\n",
    "from scipy.optimize import curve_fit                        # Funktionsfit:     popt, pcov = curve_fit(func, xdata, ydata) \n",
    "from uncertainties import ufloat                            # Fehler:           fehlerwert =  ulfaot(x, err)\n",
    "from uncertainties import unumpy as unp \n",
    "from uncertainties.unumpy import uarray                     # Array von Fehler: fehlerarray =  uarray(array, errarray)\n",
    "from uncertainties.unumpy import (nominal_values as noms,   # Wert:             noms(fehlerwert) = x\n",
    "                                  std_devs as stds)         # Abweichung:       stds(fehlerarray) = errarray"
   ]
  },
  {
   "cell_type": "markdown",
   "metadata": {},
   "source": [
    "Tabelle erstellen und Daten einlesen:"
   ]
  },
  {
   "cell_type": "code",
   "execution_count": 9,
   "metadata": {},
   "outputs": [],
   "source": [
    "Nulleffekt1 = 960 / 900; Nulleffekt2 = 525 / 900                                    # Nullmessungen\n",
    "\n",
    "md1blei = pd.read_csv('tables/md1blei.csv')\n",
    "md2kupfer = pd.read_csv('tables/md2kupfer.csv')\n",
    "md3alu = pd.read_csv('tables/md3alu.csv')\n",
    "\n",
    "# print(md1blei.to_latex(index = False, column_format= \"c c c\", decimal=',')) \n",
    "# print(md2kupfer.to_latex(index = False, column_format= \"c c c\", decimal=',')) \n",
    "# print(md3alu.to_latex(index = False, column_format= \"c c c\", decimal=',')) \n",
    "\n",
    "md1 = pd.DataFrame(md1blei).to_numpy()\n",
    "md2 = pd.DataFrame(md2kupfer).to_numpy()\n",
    "md3 = pd.DataFrame(md3alu).to_numpy()\n",
    "\n",
    "\n",
    "# Aktivität bei Eisen mit Fehlern berechnen\n",
    "\n",
    "fehler_n1 = np.sqrt(md1[:,2]); fehler_n1 = np.round_(fehler_n1)\n",
    "n1 = unp.uarray(md1[:,2], fehler_n1)\n",
    "A1 = n1 / md1[:,1] - Nulleffekt1\n",
    "\n",
    "n1 = pd.DataFrame(n1 ); A1 = pd.DataFrame(A1)\n",
    "# print(A1.to_latex(index = False, column_format= \"c\", decimal=',')) \n",
    "\n",
    "# Aktivität bei Kupfer mit Fehlern berechnen\n",
    "\n",
    "fehler_n2 = np.sqrt(md2[:,2]); fehler_n2 = np.round_(fehler_n2)\n",
    "n2 = unp.uarray(md2[:,2], fehler_n2)\n",
    "A2 = n2 / md2[:,1] - Nulleffekt1\n",
    "\n",
    "n2 = pd.DataFrame(n2); A2 = pd.DataFrame(A2)\n",
    "#print(A2.to_latex(index = False, column_format= \"c\", decimal=','))\n",
    "\n",
    "# Aktivität bei Aluminium mit Fehlern berechnen\n",
    "\n",
    "fehler_n3 = np.sqrt(md3[:,2]); fehler_n3 = np.round_(fehler_n3)\n",
    "n3 = unp.uarray(md3[:,2], fehler_n3)\n",
    "A3 = n3 / md3[:,1] - Nulleffekt2\n",
    "\n",
    "n3 = pd.DataFrame(n3 * 10 **(-3)); A3 = pd.DataFrame(A3)\n",
    "# print(n3.to_latex(index = False, column_format= \"c\", decimal=',')) \n",
    "\n"
   ]
  },
  {
   "cell_type": "markdown",
   "metadata": {},
   "source": [
    "Auswertung des Absorptionskoeffizienten"
   ]
  },
  {
   "cell_type": "code",
   "execution_count": 15,
   "metadata": {},
   "outputs": [
    {
     "name": "stdout",
     "output_type": "stream",
     "text": [
      "a = -2.386 ± 0.486\n",
      "b = 76.972 ± 11.336\n"
     ]
    },
    {
     "data": {
      "text/plain": [
       "<matplotlib.legend.Legend at 0x7f0508336280>"
      ]
     },
     "execution_count": 15,
     "metadata": {},
     "output_type": "execute_result"
    },
    {
     "data": {
      "image/png": "[encoded data removed]",
      "text/plain": [
       "<Figure size 432x288 with 1 Axes>"
      ]
     },
     "metadata": {
      "needs_background": "light"
     },
     "output_type": "display_data"
    }
   ],
   "source": [
    "# Fit a polynomial of degree 1, return covariance matrix\n",
    "params, covariance_matrix = np.polyfit(md1[:, 0], md1[:,2] / md1[:,1] - Nulleffekt1, deg=1, cov=True)\n",
    "\n",
    "errors = np.sqrt(np.diag(covariance_matrix))\n",
    "\n",
    "for name, value, error in zip('ab', params, errors):\n",
    "    print(f'{name} = {value:.3f} ± {error:.3f}')\n",
    "\n",
    "x_plot = np.linspace(np.min(md1[:,0]), np.max(md1[:,0]), 1000)\n",
    "\n",
    "plt.plot(md1[:,0], md1[:,2] / md1[:,1] - Nulleffekt1, '.', label=\"Messwerte\")\n",
    "plt.plot(\n",
    "    x_plot,\n",
    "    params[0] * x_plot + params[1],\n",
    "    label='Lineare Regression',\n",
    "    linewidth=3,\n",
    ")\n",
    "plt.legend(loc=\"best\")"
   ]
  },
  {
   "cell_type": "markdown",
   "metadata": {},
   "source": [
    "Plot erstellen:"
   ]
  },
  {
   "cell_type": "code",
   "execution_count": null,
   "metadata": {},
   "outputs": [],
   "source": [
    "\n",
    "plt.plot(f, Uc, 'xr', markersize=6 , label = 'Messdaten', alpha=0.5)\n",
    "xx = np.linspace(100, 150000, 10**4)\n",
    "plt.plot(xx, g(xx, a), '-b', linewidth = 1, label = 'Ausgleichsfunktion')\n",
    "\n",
    "plt.xlabel(r'$f \\, / \\, \\mathrm{Hz}$')\n",
    "plt.ylabel(r'$A(\\omega) \\, / \\, U_0$')\n",
    "plt.xscale('log')                       # axis scale \n",
    "plt.legend(loc=\"best\")                  # legend position\n",
    "plt.grid(True)                          # grid style\n",
    "plt.xlim(200, 150000)                   # limitation of visible scale in plot"
   ]
  },
  {
   "cell_type": "markdown",
   "metadata": {},
   "source": [
    "Fehler berechnen"
   ]
  },
  {
   "cell_type": "code",
   "execution_count": null,
   "metadata": {},
   "outputs": [
    {
     "name": "stdout",
     "output_type": "stream",
     "text": [
      "Aktivität:  1.0666666666666667 0.034444444444444444\n"
     ]
    }
   ],
   "source": [
    "N = ufloat(960, 31)     # Zählrate Nullmessung\n",
    "print('Aktivität: ', noms(N) / 900 , stds(N / 900))"
   ]
  }
 ],
 "metadata": {
  "interpreter": {
   "hash": "4ef32ed23c28cedd878486b9bb2ae1d1ed39a4ae162496b7d4dd2e637309db31"
  },
  "kernelspec": {
   "display_name": "Python 3.8.8 ('base')",
   "language": "python",
   "name": "python3"
  },
  "language_info": {
   "codemirror_mode": {
    "name": "ipython",
    "version": 3
   },
   "file_extension": ".py",
   "mimetype": "text/x-python",
   "name": "python",
   "nbconvert_exporter": "python",
   "pygments_lexer": "ipython3",
   "version": "3.8.8"
  },
  "orig_nbformat": 4
 },
 "nbformat": 4,
 "nbformat_minor": 2
}

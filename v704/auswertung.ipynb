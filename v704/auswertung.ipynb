{
 "cells": [
  {
   "cell_type": "code",
   "execution_count": 1,
   "metadata": {},
   "outputs": [],
   "source": [
    "import numpy as np\n",
    "from numpy import sqrt\n",
    "import matplotlib.pyplot as plt\n",
    "import pandas as pd\n",
    "import scipy.constants as const\n",
    "from scipy.optimize import curve_fit                        # Funktionsfit:     popt, pcov = curve_fit(func, xdata, ydata) \n",
    "from uncertainties import ufloat                            # Fehler:           fehlerwert =  ulfaot(x, err)\n",
    "from uncertainties import unumpy as unp \n",
    "from uncertainties.unumpy import uarray                     # Array von Fehler: fehlerarray =  uarray(array, errarray)\n",
    "from uncertainties.unumpy import (nominal_values as noms,   # Wert:             noms(fehlerwert) = x\n",
    "                                  std_devs as stds)         # Abweichung:       stds(fehlerarray) = errarray"
   ]
  },
  {
   "cell_type": "markdown",
   "metadata": {},
   "source": [
    "Tabelle erstellen und Daten einlesen:"
   ]
  },
  {
   "cell_type": "code",
   "execution_count": 2,
   "metadata": {},
   "outputs": [],
   "source": [
    "Nulleffekt1 = 960 / 900; Nulleffekt2 = 525 / 900                                    # Nullmessungen\n",
    "\n",
    "md1blei = pd.read_csv('tables/md1blei.csv')         ;md1 = pd.DataFrame(md1blei).to_numpy()     # print(md1blei.to_latex(index = False, column_format= \"c c c\", decimal=',')) \n",
    "md2kupfer = pd.read_csv('tables/md2kupfer.csv')     ;md2 = pd.DataFrame(md2kupfer).to_numpy()   # print(md2kupfer.to_latex(index = False, column_format= \"c c c\", decimal=',')) \n",
    "md3alu = pd.read_csv('tables/md3alu.csv')           ;md3 = pd.DataFrame(md3alu).to_numpy()      # print(md3alu.to_latex(index = False, column_format= \"c c c\", decimal=',')) \n",
    "\n",
    "\n",
    "# Aktivität bei Eisen mit Fehlern berechnen\n",
    "d1 = md1[:,0]\n",
    "fehler_n1 = np.sqrt(md1[:,2]); fehler_n1 = np.round_(fehler_n1)\n",
    "n1 = unp.uarray(md1[:,2], fehler_n1)\n",
    "A1 = n1 / md1[:,1] - Nulleffekt1\n",
    "\n",
    "n1 = pd.DataFrame(n1 ); A1 = pd.DataFrame(A1)\n",
    "# print(A1.to_latex(index = False, column_format= \"c\", decimal=',')) \n",
    "\n",
    "\n",
    "# Aktivität bei Kupfer mit Fehlern berechnen\n",
    "d2 = md2[:,0]\n",
    "fehler_n2 = np.sqrt(md2[:,2]); fehler_n2 = np.round_(fehler_n2)\n",
    "n2 = unp.uarray(md2[:,2], fehler_n2)\n",
    "A2 = n2 / md2[:,1] - Nulleffekt1\n",
    "\n",
    "n2 = pd.DataFrame(n2); A2 = pd.DataFrame(A2)\n",
    "# print(A2.to_latex(index = False, column_format= \"c\", decimal=','))\n",
    "\n",
    "\n",
    "# Aktivität bei Aluminium mit Fehlern berechnen\n",
    "d3 = md3[:,0]\n",
    "fehler_n3 = np.sqrt(md3[:,2]); fehler_n3 = np.round_(fehler_n3)\n",
    "n3 = unp.uarray(md3[:,2], fehler_n3)\n",
    "A3 = n3 / md3[:,1] - Nulleffekt2\n",
    "\n",
    "n3 = pd.DataFrame(n3 * 10 **(-3)); A3 = pd.DataFrame(A3)\n",
    "# print(n3.to_latex(index = False, column_format= \"c\", decimal=',')) "
   ]
  },
  {
   "cell_type": "code",
   "execution_count": 3,
   "metadata": {},
   "outputs": [
    {
     "name": "stdout",
     "output_type": "stream",
     "text": [
      "a= -37.31569402535437 +- 2.889376292543148\n",
      "b= 114.10713593426303 +- 2.169446989783951\n"
     ]
    },
    {
     "data": {
      "image/png": "[encoded data removed]",
      "text/plain": [
       "<Figure size 432x288 with 1 Axes>"
      ]
     },
     "metadata": {
      "needs_background": "light"
     },
     "output_type": "display_data"
    }
   ],
   "source": [
    "A2 = pd.DataFrame(A2).to_numpy()\n",
    "d=d2*1e-3\n",
    "cts = noms(A2[:,0])\n",
    "errY = stds(A2[0,:])\n",
    "\n",
    "def f(x, a, b):\n",
    "    return np.exp(a*x)*b\n",
    "\n",
    "params, covariance_matrix = curve_fit(f,d,cts)\n",
    "errors = np.sqrt(np.diag(covariance_matrix))\n",
    "\n",
    "print('a=', params[0], '+-', errors[0])\n",
    "print('b=', params[1], '+-', errors[1])\n",
    "a=ufloat(params[0],errors[0])\n",
    "b=ufloat(params[1],errors[1])\n",
    "\n",
    "plt.yscale('log')\n",
    "plt.errorbar(d, cts, yerr=errY, fmt='.k', label='Messdaten')\n",
    "plt.plot(d, f(d, *params), 'r-', label='Linearer Fit')\n",
    "plt.plot(d, cts, 'k.', label=\"Messdaten\", ms=2.5)\n",
    "plt.legend(loc=\"best\")\n",
    "plt.grid()"
   ]
  },
  {
   "cell_type": "markdown",
   "metadata": {},
   "source": [
    "Absorbtionskoeffizient von Aluminium"
   ]
  },
  {
   "cell_type": "code",
   "execution_count": 4,
   "metadata": {},
   "outputs": [
    {
     "name": "stdout",
     "output_type": "stream",
     "text": [
      "a= 0.6083260477850386 +- 0.06214358013495256\n",
      "b= -2.604489490107649 +- 0.024772547324876788\n",
      "a= -16.457247456658088 +- 6.405923657373177\n",
      "b= 4.34131917752433 +- 0.9220913853574121\n",
      "Rmax= 0.41+/-0.16\n",
      "Emax[MeV]=  0.97+/-0.32\n"
     ]
    },
    {
     "data": {
      "text/plain": [
       "Text(0, 0.5, '$(A - A_0) / (1 / $ s $)$')"
      ]
     },
     "execution_count": 4,
     "metadata": {},
     "output_type": "execute_result"
    },
    {
     "data": {
      "image/png": "[encoded data removed]",
      "text/plain": [
       "<Figure size 432x288 with 1 Axes>"
      ]
     },
     "metadata": {
      "needs_background": "light"
     },
     "output_type": "display_data"
    }
   ],
   "source": [
    "A3 = pd.DataFrame(A3).to_numpy()\n",
    "cts=noms(A3[:,0])\n",
    "ctserr=stds(A3[:,0])\n",
    "d=d3*1e-3\n",
    "derr = np.array([0,0,0.5,1,1,1,1,5,1,2,1]) * 1e-3\n",
    "null=Nulleffekt2\n",
    "\n",
    "ctsfit2=cts[1:7]\n",
    "dfit2 = d[1:7]\n",
    "ctsfit1=cts[7:-1]\n",
    "dfit1 = d[7:-1]\n",
    "\n",
    "def f(x, a, b):\n",
    "    return np.exp(a*x+b)\n",
    "\n",
    "\n",
    "params, covariance_matrix = curve_fit(f,dfit1, ctsfit1) #,p0=(-110,0)\n",
    "errors = np.sqrt(np.diag(covariance_matrix))\n",
    "\n",
    "print('a=', params[0], '+-', errors[0])\n",
    "print('b=', params[1], '+-', errors[1])\n",
    "a1=ufloat(params[0],errors[0])\n",
    "b1=ufloat(params[1],errors[1])\n",
    "schnittfit1=np.linspace(0,d[10])\n",
    "plt.plot(schnittfit1, f(schnittfit1, *params), 'r-', label='Fit 1')\n",
    "\n",
    "params, covariance_matrix = curve_fit(f,dfit2,ctsfit2) # ,p0=(1.5,0)\n",
    "errors = np.sqrt(np.diag(covariance_matrix))\n",
    "\n",
    "print('a=', params[0], '+-', errors[0])\n",
    "print('b=', params[1], '+-', errors[1])\n",
    "a2=ufloat(params[0],errors[0])\n",
    "b2=ufloat(params[1],errors[1])\n",
    "schnittfit2=np.linspace(0,d[10])\n",
    "plt.plot(schnittfit2, f(schnittfit2, *params), 'b-', label='Fit 2')\n",
    "\n",
    "rmax=(b2-b1)/(a1-a2)\n",
    "print(\"Rmax=\",rmax)\n",
    "emax=1.92*unp.sqrt(rmax**2 + 0.22 * rmax)\n",
    "print(\"Emax[MeV]= \",emax)\n",
    "plt.yscale(\"log\")\n",
    "plt.errorbar(d, cts,yerr=ctserr, xerr=derr,fmt='.k', label=\"Daten\")\n",
    "plt.axvline(noms(rmax),color=\"k\",label=\"Rmax\")\n",
    "plt.legend(loc=\"best\")\n",
    "plt.grid()\n",
    "plt.xlabel(r\"D / m\")\n",
    "plt.ylabel(r'$(A - A_0) / (1 / $ s $)$')"
   ]
  },
  {
   "cell_type": "markdown",
   "metadata": {},
   "source": [
    "Fehler berechnen"
   ]
  },
  {
   "cell_type": "code",
   "execution_count": 5,
   "metadata": {},
   "outputs": [
    {
     "name": "stdout",
     "output_type": "stream",
     "text": [
      "Aktivität:  1.0666666666666667 0.034444444444444444\n"
     ]
    }
   ],
   "source": [
    "N = ufloat(960, 31)     # Zählrate Nullmessung\n",
    "print('Aktivität: ', noms(N) / 900 , stds(N / 900))"
   ]
  }
 ],
 "metadata": {
  "interpreter": {
   "hash": "4ef32ed23c28cedd878486b9bb2ae1d1ed39a4ae162496b7d4dd2e637309db31"
  },
  "kernelspec": {
   "display_name": "Python 3.8.8 ('base')",
   "language": "python",
   "name": "python3"
  },
  "language_info": {
   "codemirror_mode": {
    "name": "ipython",
    "version": 3
   },
   "file_extension": ".py",
   "mimetype": "text/x-python",
   "name": "python",
   "nbconvert_exporter": "python",
   "pygments_lexer": "ipython3",
   "version": "3.8.8"
  },
  "orig_nbformat": 4
 },
 "nbformat": 4,
 "nbformat_minor": 2
}

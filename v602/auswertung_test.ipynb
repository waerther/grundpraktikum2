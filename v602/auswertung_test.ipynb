{
 "cells": [
  {
   "cell_type": "code",
   "execution_count": 1,
   "metadata": {},
   "outputs": [],
   "source": [
    "import pandas as pd\n",
    "import matplotlib.pyplot as plt\n",
    "import numpy as np\n",
    "from scipy.optimize import curve_fit                        # Funktionsfit:     popt, pcov = curve_fit(func, xdata, ydata) \n",
    "from uncertainties import ufloat                            # Fehler:           fehlerwert =  ulfaot(x, err)\n",
    "from uncertainties.unumpy import uarray                     # Array von Fehler: fehlerarray =  uarray(array, errarray)\n",
    "from uncertainties.unumpy import (nominal_values as noms,   # Wert:             noms(fehlerwert) = x\n",
    "                                  std_devs as stds)         # Abweichung:       stds(fehlerarray) = errarray\n",
    "from uncertainties import unumpy as unp \n",
    "import scipy.constants as const\n",
    "\n",
    "from scipy.interpolate import UnivariateSpline\n",
    "from scipy.signal import find_peaks\n",
    "from scipy.signal import peak_widths\n",
    "\n",
    "def theta(E):\n",
    "    return 180 / np.pi * np.arcsin(const.h * const.c / (2 * 201.4e-12 * const.e * E))\n",
    "\n",
    "\n",
    "def sigma(E, Z):\n",
    "    return Z - np.sqrt((E / 13.6) - ((1 / 137) ** 2 * Z ** 4) / 4)\n",
    "\n",
    "\n",
    "def s1(E):\n",
    "    return 29 - np.sqrt(E / 13.6)\n",
    "\n",
    "\n",
    "def s2(E, s1):\n",
    "    return 29 - np.sqrt(4 * (29 - s1) ** 2 - 4 * E / 13.6)\n",
    "\n",
    "\n",
    "def s3(E, s1):\n",
    "    return 29 - np.sqrt(9 * (29 - s1) ** 2 - 9 * E / 13.6)\n",
    "\n",
    "\n",
    "def energ(the):\n",
    "    return const.h * const.c / (2 * 201.4e-12 * np.sin(np.pi / 180 * the) * const.e)"
   ]
  },
  {
   "cell_type": "code",
   "execution_count": 24,
   "metadata": {},
   "outputs": [
    {
     "name": "stdout",
     "output_type": "stream",
     "text": [
      "21.5\n",
      "13546.72532056334\n",
      "13.133333333333333\n"
     ]
    },
    {
     "data": {
      "image/png": "[encoded data removed]",
      "text/plain": [
       "<Figure size 432x288 with 1 Axes>"
      ]
     },
     "metadata": {
      "needs_background": "light"
     },
     "output_type": "display_data"
    }
   ],
   "source": [
    "# Brom\n",
    "data = pd.read_csv('tables/messdaten/Messung_Brom/Brom_2.txt', decimal=',', delimiter = \"\\t\")\n",
    "data = data.to_numpy()\n",
    "x = data[:,0]\n",
    "y = data[:,1]\n",
    "\n",
    "rel_min = np.min(y)\n",
    "rel_max = np.max(y)\n",
    "theta_mitte_y = (rel_max - rel_min) / 2\n",
    "theta_mitte = (x[y==rel_max] - x[y==rel_min]) / 2\n",
    "\n",
    "\n",
    "x1 = np.diff(y)\n",
    "# print(x1)\n",
    "tolger = 3\n",
    "x3 = []\n",
    "x4 = []\n",
    "x8 = []\n",
    "n = 0\n",
    "for i in range(len(x1)):\n",
    "    if n == 0:\n",
    "        if abs(x1[i]) < tolger:\n",
    "            x3.append(i)\n",
    "        else:\n",
    "            x8.append(i)\n",
    "            n = 1\n",
    "    else:\n",
    "        if abs(x1[i]) < tolger:\n",
    "            x4.append(i)\n",
    "\n",
    "        else:\n",
    "            x8.append(i)\n",
    "            n = 1\n",
    "\n",
    "x5 = []\n",
    "for i in range(len(x3)):\n",
    "    x5.append(y[x3[i]])\n",
    "\n",
    "plt.axhline(np.mean(x5),c='darkgreen',  label='Plateau')\n",
    "x6 = []\n",
    "for i in range(len(x4)):\n",
    "    x6.append(y[x4[i]])\n",
    "\n",
    "plt.axhline(np.mean(x6), c='darkgreen')\n",
    "y2 = np.mean(x6) + (np.mean(x5) - np.mean(x6)) / 2\n",
    "regx = x[x8]\n",
    "regy = y[x8]\n",
    "regx = regx[1:-1]\n",
    "regy = regy[1:-1]\n",
    "\n",
    "\n",
    "def f(x, a, b):\n",
    "    return a * x + b\n",
    "\n",
    "\n",
    "params, covariance_matrix = curve_fit(f, regx, regy)\n",
    "\n",
    "plt.plot(\n",
    "    regx,\n",
    "    f(regx, params[0], params[1]),\n",
    "    color=\"red\",\n",
    "    ms=4,\n",
    "    marker=\"\",\n",
    "    linestyle=\"-\",\n",
    "    label=\"Regression\",\n",
    ")\n",
    "theta_x = (rel_min + theta_mitte_y - params[1]) / (params[0])\n",
    "plt.axvline(theta_x, c='k', label='Mittleres Theta')\n",
    "plt.axhline(rel_min + theta_mitte_y, c='grey')\n",
    "\n",
    "plt.plot(x, y, color=\"darkred\", ms=6, marker=\".\", linestyle=\"\", label=\"Messwerte\")\n",
    "plt.xlabel(r\"$\\theta \\, / \\, °$\")\n",
    "plt.ylabel(r\"Impulse\")\n",
    "plt.legend(loc=\"best\")\n",
    "plt.grid(linestyle=\":\")\n",
    "\n",
    "\n",
    "energy = energ(theta_x)\n",
    "print(energy)\n",
    "print(theta_x)"
   ]
  }
 ],
 "metadata": {
  "kernelspec": {
   "display_name": "Python 3.8.8 ('base')",
   "language": "python",
   "name": "python3"
  },
  "language_info": {
   "codemirror_mode": {
    "name": "ipython",
    "version": 3
   },
   "file_extension": ".py",
   "mimetype": "text/x-python",
   "name": "python",
   "nbconvert_exporter": "python",
   "pygments_lexer": "ipython3",
   "version": "3.8.8"
  },
  "orig_nbformat": 4,
  "vscode": {
   "interpreter": {
    "hash": "4ef32ed23c28cedd878486b9bb2ae1d1ed39a4ae162496b7d4dd2e637309db31"
   }
  }
 },
 "nbformat": 4,
 "nbformat_minor": 2
}

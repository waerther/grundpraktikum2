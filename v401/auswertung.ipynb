{
 "cells": [
  {
   "cell_type": "code",
   "execution_count": 249,
   "metadata": {},
   "outputs": [],
   "source": [
    "import pandas as pd\n",
    "import matplotlib.pyplot as plt\n",
    "#%matplotlib widget\n",
    "import numpy as np\n",
    "from scipy.optimize import curve_fit                        # Funktionsfit:     popt, pcov = curve_fit(func, xdata, ydata) \n",
    "from uncertainties import ufloat                            # Fehler:           fehlerwert =  ulfaot(x, err)\n",
    "from uncertainties.unumpy import uarray                     # Array von Fehler: fehlerarray =  uarray(array, errarray)\n",
    "from uncertainties.unumpy import (nominal_values as noms,   # Wert:             noms(fehlerwert) = x\n",
    "                                  std_devs as stds)         # Abweichung:       stds(fehlerarray) = errarray\n",
    "from uncertainties import unumpy as unp \n",
    "import scipy.constants as const"
   ]
  },
  {
   "cell_type": "markdown",
   "metadata": {},
   "source": [
    "Berechnung der Wellenlänge:"
   ]
  },
  {
   "cell_type": "code",
   "execution_count": 250,
   "metadata": {},
   "outputs": [
    {
     "name": "stdout",
     "output_type": "stream",
     "text": [
      "[3.30294623e-06 3.56433046e-06 4.60876218e-06 4.71849461e-06\n",
      " 3.53887096e-06 3.09651209e-06 2.28841540e-06 2.92727878e-06\n",
      " 3.50135643e-06 2.49592914e-06]\n",
      "\\begin{tabular}{c c}\n",
      "\\toprule\n",
      "    z &  lambda \\\\\n",
      "\\midrule\n",
      "600,0 & 3302,95 \\\\\n",
      "556,0 & 3564,33 \\\\\n",
      "430,0 & 4608,76 \\\\\n",
      "420,0 & 4718,49 \\\\\n",
      "560,0 & 3538,87 \\\\\n",
      "640,0 & 3096,51 \\\\\n",
      "866,0 & 2288,42 \\\\\n",
      "677,0 & 2927,28 \\\\\n",
      "566,0 & 3501,36 \\\\\n",
      "794,0 & 2495,93 \\\\\n",
      "\\bottomrule\n",
      "\\end{tabular}\n",
      "\n"
     ]
    }
   ],
   "source": [
    "md = pd.read_csv('tables/md.csv')\n",
    "z = md.iloc[:, [0]]\n",
    "np.savetxt('tables/z1.txt', z.values, header='z', fmt='%.0f')\n",
    "z = np.genfromtxt('tables/z1.txt', unpack=True, skip_header=1)\n",
    "\n",
    "ü = 1/5.046             # Übersezungszahl\n",
    "d = 5e-3                # Strecke in m\n",
    "l = 2 * ü * d / z       # Wellenlänge in m\n",
    "print(l)\n",
    "\n",
    "f = {'z': z, 'lambda': np.round(l*1e9, 2)}\n",
    "df = pd.DataFrame(data = f)\n",
    "print(df.to_latex(index = False, column_format= \"c c\", decimal=',')) "
   ]
  },
  {
   "cell_type": "markdown",
   "metadata": {},
   "source": [
    "Fehler berechnen:"
   ]
  },
  {
   "cell_type": "code",
   "execution_count": 251,
   "metadata": {},
   "outputs": [
    {
     "name": "stdout",
     "output_type": "stream",
     "text": [
      "lambda = (3404.290 +- 750.591)*10^-9 m\n"
     ]
    }
   ],
   "source": [
    "al = np.mean(l)     # Mittelwert l\n",
    "fal = np.std(l)     # Fehler des Mittelwerts\n",
    "print('lambda = (%.3f +- %.3f)*10^-9 m' % (al*1e9, fal*1e9))"
   ]
  },
  {
   "cell_type": "markdown",
   "metadata": {},
   "source": [
    "Berechnung des Brechungsindexes von Luft:"
   ]
  },
  {
   "cell_type": "code",
   "execution_count": 254,
   "metadata": {},
   "outputs": [
    {
     "name": "stdout",
     "output_type": "stream",
     "text": [
      "\\begin{tabular}{c c}\n",
      "\\toprule\n",
      "   z &        n \\\\\n",
      "\\midrule\n",
      "80,0 & 1,013369 \\\\\n",
      "30,0 & 1,005013 \\\\\n",
      "50,0 & 1,008355 \\\\\n",
      "34,0 & 1,005682 \\\\\n",
      "34,0 & 1,005682 \\\\\n",
      "41,0 & 1,006851 \\\\\n",
      "34,0 & 1,005682 \\\\\n",
      "35,0 & 1,005849 \\\\\n",
      "\\bottomrule\n",
      "\\end{tabular}\n",
      "\n",
      "lambda = (1.007 +- 0.003)\n"
     ]
    }
   ],
   "source": [
    "z = md.iloc[0:8, [1]]\n",
    "np.savetxt('tables/z2.txt', z.values, header='z', fmt='%.0f')\n",
    "z = np.genfromtxt('tables/z2.txt', unpack=True, skip_header=1)\n",
    "\n",
    "p0 = 1.0132     # Normdruck in bar\n",
    "T0 = 273.15     # Normaltemperatur in K\n",
    "T = 293.15      # Umgebungstemperatur in K\n",
    "b = 5e-3        # Größe der Messzelle in m\n",
    "p = 0.6         # p' abgesenkter Druck in bar\n",
    "\n",
    "n = 1 + (z*al/(2*b)) * (T/T0) * (p0/(p0-p))\n",
    "\n",
    "f = {'z': z, 'n': n}\n",
    "df = pd.DataFrame(data = f)\n",
    "print(df.to_latex(index = False, column_format= \"c c\", decimal=',')) \n",
    "\n",
    "an = np.mean(n)     # Mittelwert n\n",
    "fan = np.std(n)     # Fehler des Mittelwerts\n",
    "print('lambda = (%.3f +- %.3f)' % (an, fan))"
   ]
  },
  {
   "cell_type": "markdown",
   "metadata": {},
   "source": [
    "Abweichungen:"
   ]
  },
  {
   "cell_type": "code",
   "execution_count": 253,
   "metadata": {},
   "outputs": [
    {
     "name": "stdout",
     "output_type": "stream",
     "text": [
      "Abweichung von lambda = 635 nm: 436.11 %\n",
      "Abweichung von n = 1,000292: 0.0375 %\n"
     ]
    }
   ],
   "source": [
    "l_abw = (al*1e9 -635)*100 / 635 \n",
    "print('Abweichung von lambda = 635 nm:', np.round(l_abw, 2), '%')\n",
    "\n",
    "n_abw = (an -1.000292)/1.000292\n",
    "print('Abweichung von n = 1,000292:',np.round(n_abw, 4), '%')"
   ]
  }
 ],
 "metadata": {
  "interpreter": {
   "hash": "35caa7b82a3757becf5a71cac731e28ec147500c0075d0177139a56986d9e143"
  },
  "kernelspec": {
   "display_name": "Python 3.8.8 ('base')",
   "language": "python",
   "name": "python3"
  },
  "language_info": {
   "codemirror_mode": {
    "name": "ipython",
    "version": 3
   },
   "file_extension": ".py",
   "mimetype": "text/x-python",
   "name": "python",
   "nbconvert_exporter": "python",
   "pygments_lexer": "ipython3",
   "version": "3.8.8"
  },
  "orig_nbformat": 4
 },
 "nbformat": 4,
 "nbformat_minor": 2
}

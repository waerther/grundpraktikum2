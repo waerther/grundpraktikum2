{
 "cells": [
  {
   "cell_type": "code",
   "execution_count": 2,
   "metadata": {},
   "outputs": [],
   "source": [
    "import pandas as pd\n",
    "import matplotlib.pyplot as plt\n",
    "import numpy as np\n",
    "from scipy.optimize import curve_fit                        # Funktionsfit:     popt, pcov = curve_fit(func, xdata, ydata) \n",
    "from uncertainties import ufloat                            # Fehler:           fehlerwert =  ulfaot(x, err)\n",
    "from uncertainties.unumpy import uarray                     # Array von Fehler: fehlerarray =  uarray(array, errarray)\n",
    "from uncertainties.unumpy import (nominal_values as noms,   # Wert:             noms(fehlerwert) = x\n",
    "                                  std_devs as stds)         # Abweichung:       stds(fehlerarray) = errarray\n",
    "from uncertainties import unumpy as unp \n",
    "import scipy.constants as const"
   ]
  },
  {
   "cell_type": "code",
   "execution_count": 3,
   "metadata": {},
   "outputs": [
    {
     "name": "stdout",
     "output_type": "stream",
     "text": [
      "[5.38412049e-01 4.11729527e-04 2.39611051e-04 1.68743997e-04]\n"
     ]
    }
   ],
   "source": [
    "# omegas bestimmen\n",
    "T = np.array([298.35, 433.25, 448.55, 459.05])\n",
    "omega = 0.0029 / (5.5 * 10**7 * np.exp(-6876 / T))\n",
    "print(omega)\n",
    "# print(10**(-2) / omega)"
   ]
  },
  {
   "cell_type": "markdown",
   "metadata": {},
   "source": [
    "Energieverteilung für Messung bei Raumtemperatur"
   ]
  },
  {
   "cell_type": "code",
   "execution_count": 4,
   "metadata": {},
   "outputs": [
    {
     "name": "stderr",
     "output_type": "stream",
     "text": [
      "/tmp/ipykernel_414/4051425108.py:12: RuntimeWarning: invalid value encountered in true_divide\n",
      "  m = -(delta_I / delta_U)\n"
     ]
    },
    {
     "data": {
      "image/png": "[encoded data removed]",
      "text/plain": [
       "<Figure size 432x288 with 1 Axes>"
      ]
     },
     "metadata": {
      "needs_background": "light"
     },
     "output_type": "display_data"
    }
   ],
   "source": [
    "U = np.array([0  ,1  ,2  ,3  ,4  ,5  ,6  ,7  ,7.5, 7.75, 8  ,9  ,10 ])\n",
    "y = np.array([15.8, 14.1, 12.6, 11.1, 9.6, 7.8, 6, 4, 2.8, 1.5, 0.8, 0.3, 0.3])\n",
    "\n",
    "delta_U = np.zeros_like(U)\n",
    "delta_I = np.zeros_like(U)\n",
    "\n",
    "for i, U_i in enumerate(U):\n",
    "    if i < np.size(U) - 1:\n",
    "        delta_U[i + 1] = U[i + 1] - U[i]\n",
    "        delta_I[i + 1] = y[i + 1] - y[i]\n",
    "\n",
    "m = -(delta_I / delta_U)\n",
    "\n",
    "plt.plot(U[1:], m[1:], 'x', c = 'r')\n",
    "plt.plot(U[1:], m[1:], '--', c = 'b')\n",
    "plt.xlabel(r'$U \\, / \\,V$')\n",
    "plt.ylabel(r'$- m$')\n",
    "plt.grid()"
   ]
  },
  {
   "cell_type": "markdown",
   "metadata": {},
   "source": [
    "Energieverteilung für Messung bei 433,25 Kelvin"
   ]
  },
  {
   "cell_type": "code",
   "execution_count": 1,
   "metadata": {},
   "outputs": [
    {
     "ename": "NameError",
     "evalue": "name 'np' is not defined",
     "output_type": "error",
     "traceback": [
      "\u001b[0;31m---------------------------------------------------------------------------\u001b[0m",
      "\u001b[0;31mNameError\u001b[0m                                 Traceback (most recent call last)",
      "\u001b[1;32m/mnt/c/Users/tobyt/OneDrive/Desktop/Praktikumsberichte/grundpraktikum2/v601/auswertung.ipynb Cell 6'\u001b[0m in \u001b[0;36m<cell line: 1>\u001b[0;34m()\u001b[0m\n\u001b[0;32m----> <a href='vscode-notebook-cell://wsl%2Bubuntu-20.04/mnt/c/Users/tobyt/OneDrive/Desktop/Praktikumsberichte/grundpraktikum2/v601/auswertung.ipynb#ch0000005vscode-remote?line=0'>1</a>\u001b[0m U \u001b[39m=\u001b[39m np\u001b[39m.\u001b[39marray([\u001b[39m0\u001b[39m, \u001b[39m0.5\u001b[39m, \u001b[39m1\u001b[39m, \u001b[39m1.5\u001b[39m, \u001b[39m2\u001b[39m, \u001b[39m2.5\u001b[39m, \u001b[39m3\u001b[39m, \u001b[39m4\u001b[39m, \u001b[39m5\u001b[39m, \u001b[39m6\u001b[39m , \u001b[39m7\u001b[39m, \u001b[39m8\u001b[39m, \u001b[39m9\u001b[39m, \u001b[39m10\u001b[39m])\n\u001b[1;32m      <a href='vscode-notebook-cell://wsl%2Bubuntu-20.04/mnt/c/Users/tobyt/OneDrive/Desktop/Praktikumsberichte/grundpraktikum2/v601/auswertung.ipynb#ch0000005vscode-remote?line=1'>2</a>\u001b[0m y \u001b[39m=\u001b[39m np\u001b[39m.\u001b[39marray([\u001b[39m17.8\u001b[39m, \u001b[39m14.3\u001b[39m, \u001b[39m11\u001b[39m, \u001b[39m8.3\u001b[39m, \u001b[39m5.8\u001b[39m, \u001b[39m3.2\u001b[39m, \u001b[39m1.4\u001b[39m, \u001b[39m0.7\u001b[39m, \u001b[39m0.7\u001b[39m, \u001b[39m0.6\u001b[39m, \u001b[39m0.6\u001b[39m, \u001b[39m0.5\u001b[39m, \u001b[39m0.5\u001b[39m, \u001b[39m0.4\u001b[39m])\n\u001b[1;32m      <a href='vscode-notebook-cell://wsl%2Bubuntu-20.04/mnt/c/Users/tobyt/OneDrive/Desktop/Praktikumsberichte/grundpraktikum2/v601/auswertung.ipynb#ch0000005vscode-remote?line=3'>4</a>\u001b[0m delta_U \u001b[39m=\u001b[39m np\u001b[39m.\u001b[39mzeros_like(U)\n",
      "\u001b[0;31mNameError\u001b[0m: name 'np' is not defined"
     ]
    }
   ],
   "source": [
    "U = np.array([0, 0.5, 1, 1.5, 2, 2.5, 3, 4, 5, 6 , 7, 8, 9, 10])\n",
    "y = np.array([17.8, 14.3, 11, 8.3, 5.8, 3.2, 1.4, 0.7, 0.7, 0.6, 0.6, 0.5, 0.5, 0.4])\n",
    "\n",
    "delta_U = np.zeros_like(U)\n",
    "delta_I = np.zeros_like(U)\n",
    "\n",
    "for i, U_i in enumerate(U):\n",
    "    if i < np.size(U) - 1:\n",
    "        delta_U[i + 1] = U[i + 1] - U[i]\n",
    "        delta_I[i + 1] = y[i + 1] - y[i]\n",
    "\n",
    "m = -(delta_I / delta_U)\n",
    "print(m)\n",
    "\n",
    "plt.plot(U[1:], m[1:], 'x', c = 'r')\n",
    "plt.plot(U[1:], m[1:], '--', c = 'b')\n",
    "plt.xlabel(r'$U \\, / \\,V$')\n",
    "plt.ylabel(r'$I(U + dU) - I(U)$')\n",
    "plt.grid()"
   ]
  },
  {
   "cell_type": "markdown",
   "metadata": {},
   "source": [
    "Franck-Hertz Auswertung"
   ]
  },
  {
   "cell_type": "code",
   "execution_count": 20,
   "metadata": {},
   "outputs": [
    {
     "name": "stdout",
     "output_type": "stream",
     "text": [
      "(2.26+/-0.33)e-07\n",
      "(2.24+/-0.32)e-07\n"
     ]
    }
   ],
   "source": [
    "U_maxima_1 = np.array([7.30,4.62,5.00,5.39,5.39,5.00,5.77])\n",
    "U_maxima_2 = np.array([6.92,4.62,5.34,5.00,5.39,5.01,6.55])\n",
    "\n",
    "U_maxima_1 = ufloat(np.mean(U_maxima_1), np.std(U_maxima_1))\n",
    "U_maxima_2 = ufloat(np.mean(U_maxima_2), np.std(U_maxima_2))\n",
    "\n",
    "# print((const.hbar * const.c) / (const.e * U_maxima_1))\n",
    "print((const.h * const.c) / (const.e * U_maxima_1))\n",
    "print((const.h * const.c) / (const.e * U_maxima_2))\n"
   ]
  }
 ],
 "metadata": {
  "kernelspec": {
   "display_name": "Python 3.8.10 64-bit",
   "language": "python",
   "name": "python3"
  },
  "language_info": {
   "codemirror_mode": {
    "name": "ipython",
    "version": 3
   },
   "file_extension": ".py",
   "mimetype": "text/x-python",
   "name": "python",
   "nbconvert_exporter": "python",
   "pygments_lexer": "ipython3",
   "version": "3.8.10"
  },
  "orig_nbformat": 4,
  "vscode": {
   "interpreter": {
    "hash": "916dbcbb3f70747c44a77c7bcd40155683ae19c65e1c03b4aa3499c5328201f1"
   }
  }
 },
 "nbformat": 4,
 "nbformat_minor": 2
}

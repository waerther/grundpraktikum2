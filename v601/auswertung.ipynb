{
 "cells": [
  {
   "cell_type": "code",
   "execution_count": 1,
   "metadata": {},
   "outputs": [],
   "source": [
    "import pandas as pd\n",
    "import matplotlib.pyplot as plt\n",
    "import numpy as np\n",
    "from scipy.optimize import curve_fit                        # Funktionsfit:     popt, pcov = curve_fit(func, xdata, ydata) \n",
    "from uncertainties import ufloat                            # Fehler:           fehlerwert =  ulfaot(x, err)\n",
    "from uncertainties.unumpy import uarray                     # Array von Fehler: fehlerarray =  uarray(array, errarray)\n",
    "from uncertainties.unumpy import (nominal_values as noms,   # Wert:             noms(fehlerwert) = x\n",
    "                                  std_devs as stds)         # Abweichung:       stds(fehlerarray) = errarray\n",
    "from uncertainties import unumpy as unp \n",
    "import scipy.constants as const"
   ]
  },
  {
   "cell_type": "code",
   "execution_count": 8,
   "metadata": {},
   "outputs": [
    {
     "name": "stdout",
     "output_type": "stream",
     "text": [
      "[6.07275705e-01 7.36088936e-04 4.11729527e-04 2.39611051e-04]\n",
      "[1.64669851e-02 1.35853149e+01 2.42877893e+01 4.17343021e+01]\n"
     ]
    }
   ],
   "source": [
    "# omegas bestimmen\n",
    "T = np.array([298.35, 417.95, 433.25, 448.55])\n",
    "omega = 0.0029 / (5.5 * 10**7 * np.exp(-6876 / T))\n",
    "print(omega)\n",
    "print(10**(-2) / omega)"
   ]
  }
 ],
 "metadata": {
  "interpreter": {
   "hash": "4ef32ed23c28cedd878486b9bb2ae1d1ed39a4ae162496b7d4dd2e637309db31"
  },
  "kernelspec": {
   "display_name": "Python 3.8.8 ('base')",
   "language": "python",
   "name": "python3"
  },
  "language_info": {
   "codemirror_mode": {
    "name": "ipython",
    "version": 3
   },
   "file_extension": ".py",
   "mimetype": "text/x-python",
   "name": "python",
   "nbconvert_exporter": "python",
   "pygments_lexer": "ipython3",
   "version": "3.8.8"
  },
  "orig_nbformat": 4
 },
 "nbformat": 4,
 "nbformat_minor": 2
}

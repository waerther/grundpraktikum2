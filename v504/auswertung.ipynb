{
 "cells": [
  {
   "cell_type": "code",
   "execution_count": 378,
   "metadata": {},
   "outputs": [],
   "source": [
    "import pandas as pd\n",
    "import matplotlib.pyplot as plt\n",
    "import numpy as np\n",
    "from scipy.optimize import curve_fit                        # Funktionsfit:     popt, pcov = curve_fit(func, xdata, ydata) \n",
    "from uncertainties import ufloat                            # Fehler:           fehlerwert =  ulfaot(x, err)\n",
    "from uncertainties.unumpy import uarray                     # Array von Fehler: fehlerarray =  uarray(array, errarray)\n",
    "from uncertainties.unumpy import (nominal_values as noms,   # Wert:             noms(fehlerwert) = x\n",
    "                                  std_devs as stds)         # Abweichung:       stds(fehlerarray) = errarray\n",
    "from uncertainties import unumpy as unp \n",
    "import scipy.constants as const"
   ]
  },
  {
   "cell_type": "markdown",
   "metadata": {},
   "source": [
    "Tabelle: Kennlinien"
   ]
  },
  {
   "cell_type": "code",
   "execution_count": 379,
   "metadata": {},
   "outputs": [
    {
     "name": "stdout",
     "output_type": "stream",
     "text": [
      "\\begin{tabular}{c c c c c c}\n",
      "\\toprule\n",
      " U/V &  I/mA &  I/mA.1 &  I/mA.2 &  I/mA.3 &  I/mA.4 \\\\\n",
      "\\midrule\n",
      "   0 &  0,00 &    0,00 &    0,00 &   0,000 &    0,00 \\\\\n",
      "   5 &  0,01 &    0,01 &    0,01 &   0,020 &    0,03 \\\\\n",
      "  10 &  0,03 &    0,04 &    0,05 &   0,050 &    0,10 \\\\\n",
      "  15 &  0,05 &    0,06 &    0,10 &   0,100 &    0,18 \\\\\n",
      "  20 &  0,07 &    0,09 &    0,16 &   0,200 &    0,26 \\\\\n",
      "  25 &  0,08 &    0,12 &    0,22 &   0,290 &    0,37 \\\\\n",
      "  30 &  0,08 &    0,14 &    0,26 &   0,370 &    0,48 \\\\\n",
      "  35 &  0,08 &    0,15 &    0,29 &   0,450 &    0,60 \\\\\n",
      "  40 &  0,08 &    0,15 &    0,32 &   0,510 &    0,72 \\\\\n",
      "  45 &  0,08 &    0,15 &    0,33 &   0,570 &    0,86 \\\\\n",
      "  50 &  0,08 &    0,17 &    0,34 &   0,620 &    0,99 \\\\\n",
      "  60 &   NaN &     NaN &    0,35 &   0,690 &    1,25 \\\\\n",
      "  70 &   NaN &     NaN &    0,36 &   0,730 &    1,48 \\\\\n",
      "  80 &   NaN &     NaN &     NaN &   0,750 &    1,68 \\\\\n",
      "  90 &   NaN &     NaN &     NaN &   0,760 &    1,89 \\\\\n",
      " 100 &   NaN &     NaN &     NaN &   0,770 &    2,07 \\\\\n",
      " 110 &   NaN &     NaN &     NaN &   0,841 &    2,22 \\\\\n",
      " 120 &   NaN &     NaN &     NaN &   0,780 &    2,33 \\\\\n",
      " 130 &   NaN &     NaN &     NaN &     NaN &    2,43 \\\\\n",
      " 140 &   NaN &     NaN &     NaN &     NaN &    2,50 \\\\\n",
      "\\bottomrule\n",
      "\\end{tabular}\n",
      "\n"
     ]
    }
   ],
   "source": [
    "md1 = pd.read_csv('tables/md1.csv')\n",
    "print(md1.to_latex(index = False, column_format= \"c c c c c c\", decimal=',')) "
   ]
  },
  {
   "cell_type": "markdown",
   "metadata": {},
   "source": [
    "Daten auswerten:"
   ]
  },
  {
   "cell_type": "code",
   "execution_count": 380,
   "metadata": {},
   "outputs": [],
   "source": [
    "np.savetxt('tables/md1.txt', md1.values, fmt='%.3f')\n",
    "U, k1, k2, k3, k4, k5 = np.genfromtxt('tables/md1.txt', unpack=True)"
   ]
  },
  {
   "cell_type": "markdown",
   "metadata": {},
   "source": [
    "Plot 1:"
   ]
  },
  {
   "cell_type": "code",
   "execution_count": 381,
   "metadata": {},
   "outputs": [
    {
     "data": {
      "image/png": "[encoded data removed]",
      "text/plain": [
       "<Figure size 432x288 with 1 Axes>"
      ]
     },
     "metadata": {
      "needs_background": "light"
     },
     "output_type": "display_data"
    }
   ],
   "source": [
    "plt.plot(U, k1, 'xr', label = \"Kennlinie 1\", zorder=2)\n",
    "\n",
    "plt.xlabel(r'$U \\, / \\, \\mathrm{V}$')\n",
    "plt.ylabel(r'$I \\, / \\, \\mathrm{mA}$')\n",
    "plt.legend(loc=\"best\")     \n",
    "plt.grid(True)\n",
    "\n",
    "plt.show()"
   ]
  },
  {
   "cell_type": "markdown",
   "metadata": {},
   "source": [
    "Plot 2:"
   ]
  },
  {
   "cell_type": "code",
   "execution_count": 382,
   "metadata": {},
   "outputs": [
    {
     "data": {
      "image/png": "[encoded data removed]",
      "text/plain": [
       "<Figure size 432x288 with 1 Axes>"
      ]
     },
     "metadata": {
      "needs_background": "light"
     },
     "output_type": "display_data"
    }
   ],
   "source": [
    "plt.plot(U, k2, 'xr', label = \"Kennlinie 2\")\n",
    "\n",
    "plt.xlabel(r'$U \\, / \\, \\mathrm{V}$')\n",
    "plt.ylabel(r'$I \\, / \\, \\mathrm{mA}$')\n",
    "plt.legend(loc=\"best\")     \n",
    "plt.grid(True)\n"
   ]
  },
  {
   "cell_type": "markdown",
   "metadata": {},
   "source": [
    "Plot 3:"
   ]
  },
  {
   "cell_type": "code",
   "execution_count": 383,
   "metadata": {},
   "outputs": [
    {
     "data": {
      "image/png": "[encoded data removed]",
      "text/plain": [
       "<Figure size 432x288 with 1 Axes>"
      ]
     },
     "metadata": {
      "needs_background": "light"
     },
     "output_type": "display_data"
    }
   ],
   "source": [
    "plt.plot(U, k3, 'xr', label = \"Kennlinie 3\")\n",
    "\n",
    "plt.xlabel(r'$U \\, / \\, \\mathrm{V}$')\n",
    "plt.ylabel(r'$I \\, / \\, \\mathrm{mA}$')\n",
    "plt.legend(loc=\"best\")     \n",
    "plt.grid(True)   "
   ]
  },
  {
   "cell_type": "markdown",
   "metadata": {},
   "source": [
    "Plot 4:"
   ]
  },
  {
   "cell_type": "code",
   "execution_count": 384,
   "metadata": {},
   "outputs": [
    {
     "data": {
      "image/png": "[encoded data removed]",
      "text/plain": [
       "<Figure size 432x288 with 1 Axes>"
      ]
     },
     "metadata": {
      "needs_background": "light"
     },
     "output_type": "display_data"
    }
   ],
   "source": [
    "plt.plot(U, k4, 'xr', label = \"Kennlinie 4\")\n",
    "\n",
    "plt.xlabel(r'$U \\, / \\, \\mathrm{V}$')\n",
    "plt.ylabel(r'$I \\, / \\, \\mathrm{mA}$')\n",
    "plt.legend(loc=\"best\")     \n",
    "plt.grid(True)   "
   ]
  },
  {
   "cell_type": "markdown",
   "metadata": {},
   "source": [
    "Plot 5:\n"
   ]
  },
  {
   "cell_type": "markdown",
   "metadata": {},
   "source": [
    "Plot 5: Berechnung der Parameter mithilfe des Raumladungsgesetzes"
   ]
  },
  {
   "cell_type": "code",
   "execution_count": 385,
   "metadata": {},
   "outputs": [
    {
     "name": "stdout",
     "output_type": "stream",
     "text": [
      "0.0033+/-0.0004\n",
      "1.232+/-0.031\n",
      "a = (-17.475 +- 1.148 )*10-3\n",
      "b = (1.232 +- 0.031 )*10-3\n"
     ]
    },
    {
     "data": {
      "image/png": "[encoded data removed]",
      "text/plain": [
       "<Figure size 432x288 with 1 Axes>"
      ]
     },
     "metadata": {
      "needs_background": "light"
     },
     "output_type": "display_data"
    }
   ],
   "source": [
    "plt.plot(U, k5, 'xr', label = \"Kennlinie 5\", zorder=2, alpha = 0.7)\n",
    "\n",
    "def lsr(u, a, b):\n",
    "    return (4/9) * const.epsilon_0 * np.sqrt(2 * const.elementary_charge/ const.electron_mass) * u**(b)/a**2\n",
    "\n",
    "para, pcov = curve_fit(lsr, U[:15], k5[:15])\n",
    "a, b = para\n",
    "fa, fb = np.sqrt(np.diag(pcov))\n",
    "\n",
    "ua = ufloat(a, fa) \n",
    "ub = ufloat(b, fb)\n",
    "\n",
    "xx = np.linspace(0, 280, 100)\n",
    "plt.plot(xx, lsr(xx, noms(ua), noms(ub)), '-b', label = \"Ausgleichsfunktion\", linewidth = 1, zorder=1)\n",
    "\n",
    "plt.xlabel(r'$U \\, / \\, \\mathrm{V}$')\n",
    "plt.ylabel(r'$I \\, / \\, \\mathrm{mA}$')\n",
    "plt.legend(loc=\"best\")     \n",
    "plt.grid(True)\n",
    "plt.xlim(-10, 150)\n",
    "plt.ylim(-0.1, 3)\n",
    "\n",
    "ua = ua*10**3\n",
    "print(1/ua**2)\n",
    "print(ub)\n",
    "print('a = (%.3f +- %.3f )*10-3' % (noms(ua), stds(ua)))\n",
    "print('b = (%.3f +- %.3f )' % (noms(ub), stds(ub)))"
   ]
  },
  {
   "cell_type": "markdown",
   "metadata": {},
   "source": [
    "Tabelle Anlaufstrom:"
   ]
  },
  {
   "cell_type": "code",
   "execution_count": 386,
   "metadata": {},
   "outputs": [
    {
     "name": "stdout",
     "output_type": "stream",
     "text": [
      "\\begin{tabular}{c c}\n",
      "\\toprule\n",
      " U/V &    I/nA \\\\\n",
      "\\midrule\n",
      "0,00 & 13,0000 \\\\\n",
      "0,10 &  8,1000 \\\\\n",
      "0,20 &  4,6500 \\\\\n",
      "0,30 &  2,5000 \\\\\n",
      "0,40 &  1,2000 \\\\\n",
      "0,50 &  0,4500 \\\\\n",
      "0,60 &  0,4000 \\\\\n",
      "0,70 &  0,2000 \\\\\n",
      "0,80 &  0,0600 \\\\\n",
      "0,90 &  0,0230 \\\\\n",
      "0,96 &  0,0005 \\\\\n",
      "\\bottomrule\n",
      "\\end{tabular}\n",
      "\n"
     ]
    }
   ],
   "source": [
    "md2 = pd.read_csv('tables/md2.csv')\n",
    "print(md2.to_latex(index = False, column_format= \"c c\", decimal=',')) "
   ]
  },
  {
   "cell_type": "code",
   "execution_count": 387,
   "metadata": {},
   "outputs": [
    {
     "name": "stdout",
     "output_type": "stream",
     "text": [
      "13.227546902708719\n",
      "0.18367613564673194\n",
      "a = (13.228 +- 0.240) nA\n",
      "b = (2131.473 +- 70.377) K\n"
     ]
    },
    {
     "data": {
      "image/png": "[encoded data removed]",
      "text/plain": [
       "<Figure size 432x288 with 1 Axes>"
      ]
     },
     "metadata": {
      "needs_background": "light"
     },
     "output_type": "display_data"
    }
   ],
   "source": [
    "np.savetxt('tables/md2.txt', md2.values, fmt='%.4f')\n",
    "U, I = np.genfromtxt('tables/md2.txt', unpack=True)\n",
    "\n",
    "plt.plot(U, I, 'xr', label = \"Messdaten\",  alpha = 0.7)\n",
    "\n",
    "def f(u, a, b):\n",
    "    return a * np.exp(-u / b)\n",
    "\n",
    "para, pcov = curve_fit(f, U, I)\n",
    "a, b = para\n",
    "fa, fb = np.sqrt(np.diag(pcov))\n",
    "\n",
    "ua = ufloat(a, fa) \n",
    "ub = ufloat(b, fb)\n",
    "\n",
    "xx = np.linspace(-0.5, 1.5, 100)\n",
    "plt.plot(xx, f(xx, a, b), '-b', label = \"Ausgleichsfunktion\")\n",
    "\n",
    "plt.xlabel(r'$U \\, / \\, \\mathrm{V}$')\n",
    "plt.ylabel(r'$I \\, / \\, \\mathrm{nA}$')\n",
    "plt.legend(loc=\"best\")     \n",
    "plt.grid(True)\n",
    "plt.xlim(0, 1.05)\n",
    "plt.ylim(-0.5, 9)\n",
    "\n",
    "ub = const.elementary_charge * ub / const.Boltzmann # nach umformen im exponenten\n",
    "\n",
    "print(a)\n",
    "print(b)\n",
    "\n",
    "print('a = (%.3f +- %.3f) nA' % (noms(ua), stds(ua)))\n",
    "print('b = (%.3f +- %.3f) K' % (noms(ub), stds(ub)))"
   ]
  },
  {
   "cell_type": "markdown",
   "metadata": {},
   "source": [
    "Temperaturen berechnen: c)"
   ]
  },
  {
   "cell_type": "code",
   "execution_count": 388,
   "metadata": {},
   "outputs": [
    {
     "name": "stdout",
     "output_type": "stream",
     "text": [
      "\\begin{tabular}{c c c}\n",
      "\\toprule\n",
      " U/V &  I/A &     T/K \\\\\n",
      "\\midrule\n",
      " 4,5 &  1,9 & 1960,83 \\\\\n",
      " 4,9 &  2,0 & 2037,39 \\\\\n",
      " 5,0 &  2,1 & 2076,75 \\\\\n",
      " 5,5 &  2,2 & 2159,16 \\\\\n",
      " 6,2 &  2,4 & 2283,24 \\\\\n",
      "\\bottomrule\n",
      "\\end{tabular}\n",
      "\n"
     ]
    }
   ],
   "source": [
    "md3 = pd.read_csv('tables/md3.csv')\n",
    "np.savetxt('tables/md3.txt', md3.values, fmt='%.1f')\n",
    "I, U = np.genfromtxt('tables/md3.txt', unpack=True)\n",
    "\n",
    "def temp(u, i): # Berechnung der Temperatur mit U und I\n",
    "    f = 0.32; eta = 0.28; sigma = 5.7e-12; Nwl =1\n",
    "    return ( (u * i - Nwl) / (f*eta*sigma) )**(1/4)\n",
    "\n",
    "T = temp(U, I)\n",
    "T = np.round(T, 2)\n",
    "\n",
    "z = {'U/V': U, 'I/A': I, 'T/K': T}\n",
    "dz = pd.DataFrame(data=z)\n",
    "print(dz.to_latex(index = False, column_format= \"c c c\", decimal=',')) "
   ]
  },
  {
   "cell_type": "markdown",
   "metadata": {},
   "source": [
    "Berechnung der Austrittsarbeit: e)"
   ]
  },
  {
   "cell_type": "code",
   "execution_count": 389,
   "metadata": {},
   "outputs": [
    {
     "name": "stdout",
     "output_type": "stream",
     "text": [
      "W/J = [5.04339135e-19 5.03374872e-19 4.91301452e-19 4.92454513e-19\n",
      " 5.06636062e-19]\n",
      "W/eV = [3.14783729 3.14181883 3.06646247 3.07365931 3.16217358]\n",
      "Mittelwert und Fehler: (3.118 +- 0.040) eV \n",
      "\n",
      "\\begin{tabular}{c c c}\n",
      "\\toprule\n",
      "            &  Wa/eV &  Wa/J*10**-19 \\\\\n",
      "\\midrule\n",
      "Kennlinie 1 &  3,148 &         5,043 \\\\\n",
      "Kennlinie 2 &  3,142 &         5,034 \\\\\n",
      "Kennlinie 3 &  3,066 &         4,913 \\\\\n",
      "Kennlinie 4 &  3,074 &         4,925 \\\\\n",
      "Kennlinie 5 &  3,162 &         5,066 \\\\\n",
      "\\bottomrule\n",
      "\\end{tabular}\n",
      "\n"
     ]
    }
   ],
   "source": [
    "def a(t):   # Austrittsarbeit\n",
    "    kb = const.Boltzmann\n",
    "    e0 = const.elementary_charge\n",
    "    m0 = const.electron_mass\n",
    "    h = const.Planck\n",
    "    Is = [0.12, 0.27, 0.6, 1.2, 2.1]\n",
    "    Is = np.multiply(Is, 1000)    # Sättigungstrom in Ampere\n",
    "    f = 0.32e-2                   # Fläche in m\n",
    "    js = Is/f                     # Sättigungsstromdichte\n",
    "    return - T * kb * np.log( js * h**3 / (4*np.pi*e0*m0*kb**2 * T**2) )\n",
    "\n",
    "WJ = a(T)\n",
    "WeV = a(T)/const.e\n",
    "print('W/J =', WJ)\n",
    "print('W/eV =', WeV)\n",
    "print('Mittelwert und Fehler: (%.3f +- %.3f) eV' % (np.mean(WeV), np.std(WeV)), '\\n')\n",
    "\n",
    "K = ['Kennlinie 1', 'Kennlinie 2', 'Kennlinie 3', 'Kennlinie 4', 'Kennlinie 5']\n",
    "z = {' ': K, 'Wa/eV': np.round(a(T)/const.e, 3), 'Wa/J*10**-19': np.round(a(T)*10**19, 3)}\n",
    "dz = pd.DataFrame(data=z)\n",
    "print(dz.to_latex(index = False, column_format= \"c c c\", decimal=',')) \n"
   ]
  }
 ],
 "metadata": {
  "interpreter": {
   "hash": "35caa7b82a3757becf5a71cac731e28ec147500c0075d0177139a56986d9e143"
  },
  "kernelspec": {
   "display_name": "Python 3.8.8 ('base')",
   "language": "python",
   "name": "python3"
  },
  "language_info": {
   "codemirror_mode": {
    "name": "ipython",
    "version": 3
   },
   "file_extension": ".py",
   "mimetype": "text/x-python",
   "name": "python",
   "nbconvert_exporter": "python",
   "pygments_lexer": "ipython3",
   "version": "3.8.8"
  },
  "orig_nbformat": 4
 },
 "nbformat": 4,
 "nbformat_minor": 2
}

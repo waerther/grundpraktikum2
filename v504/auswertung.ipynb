{
 "cells": [
  {
   "cell_type": "code",
   "execution_count": 21,
   "metadata": {},
   "outputs": [],
   "source": [
    "import pandas as pd\n",
    "import matplotlib.pyplot as plt\n",
    "import numpy as np\n",
    "from scipy.optimize import curve_fit                        # Funktionsfit:     popt, pcov = curve_fit(func, xdata, ydata) \n",
    "from uncertainties import ufloat                            # Fehler:           fehlerwert =  ulfaot(x, err)\n",
    "from uncertainties.unumpy import uarray                     # Array von Fehler: fehlerarray =  uarray(array, errarray)\n",
    "from uncertainties.unumpy import (nominal_values as noms,   # Wert:             noms(fehlerwert) = x\n",
    "                                  std_devs as stds)         # Abweichung:       stds(fehlerarray) = errarray\n",
    "from uncertainties import unumpy as unp \n",
    "import scipy.constants as const"
   ]
  },
  {
   "cell_type": "markdown",
   "metadata": {},
   "source": [
    "Tabelle: Kennlinien"
   ]
  },
  {
   "cell_type": "code",
   "execution_count": 22,
   "metadata": {},
   "outputs": [
    {
     "name": "stdout",
     "output_type": "stream",
     "text": [
      "\\begin{tabular}{c c c c c c}\n",
      "\\toprule\n",
      " U/V &  I/mA &  I/mA.1 &  I/mA.2 &  I/mA.3 &  I/mA.4 \\\\\n",
      "\\midrule\n",
      "   0 & 0,000 &   0,000 &   0,000 &   0,000 &   0,000 \\\\\n",
      "   5 & 0,010 &   0,012 &   0,014 &   0,016 &   0,017 \\\\\n",
      "  10 & 0,022 &   0,028 &   0,033 &   0,036 &   0,039 \\\\\n",
      "  15 & 0,034 &   0,045 &   0,053 &   0,058 &   0,061 \\\\\n",
      "  20 & 0,044 &   0,062 &   0,076 &   0,084 &   0,089 \\\\\n",
      "  25 & 0,060 &   0,080 &   0,096 &   0,104 &   0,110 \\\\\n",
      "  30 & 0,070 &   0,096 &   0,116 &   0,130 &   0,137 \\\\\n",
      "  35 & 0,082 &   0,114 &   0,140 &   0,158 &   0,169 \\\\\n",
      "  40 & 0,092 &   0,134 &   0,168 &   0,194 &   0,207 \\\\\n",
      "  45 & 0,102 &   0,155 &   0,201 &   0,230 &   0,246 \\\\\n",
      "  50 & 0,107 &   0,170 &   0,228 &   0,265 &   0,287 \\\\\n",
      "  60 & 0,111 &   0,213 &   0,285 &   0,337 &   0,371 \\\\\n",
      "  70 & 0,119 &   0,231 &   0,340 &   0,425 &   0,480 \\\\\n",
      "  80 & 0,123 &   0,247 &   0,402 &   0,515 &   0,586 \\\\\n",
      "  90 & 0,124 &   0,270 &   0,459 &   0,608 &   0,694 \\\\\n",
      " 100 & 0,124 &   0,272 &   0,517 &   0,685 &   0,790 \\\\\n",
      " 120 & 0,124 &   0,268 &   0,604 &   0,841 &   1,010 \\\\\n",
      " 140 & 0,124 &   0,269 &   0,614 &   0,909 &   1,219 \\\\\n",
      " 160 & 0,124 &   0,275 &   0,592 &   1,077 &   1,422 \\\\\n",
      " 180 & 0,124 &   0,281 &   0,593 &   1,110 &   1,592 \\\\\n",
      " 200 & 0,124 &   0,289 &   0,619 &   1,220 &   1,700 \\\\\n",
      " 250 & 0,124 &   0,281 &   0,636 &   1,286 &   2,100 \\\\\n",
      "\\bottomrule\n",
      "\\end{tabular}\n",
      "\n"
     ]
    }
   ],
   "source": [
    "md1 = pd.read_csv('tables/md1.csv')\n",
    "print(md1.to_latex(index = False, column_format= \"c c c c c c\", decimal=',')) "
   ]
  },
  {
   "cell_type": "markdown",
   "metadata": {},
   "source": [
    "Daten auswerten:"
   ]
  },
  {
   "cell_type": "code",
   "execution_count": 23,
   "metadata": {},
   "outputs": [],
   "source": [
    "np.savetxt('tables/md1.txt', md1.values, fmt='%.3f')\n",
    "U, k1, k2, k3, k4, k5 = np.genfromtxt('tables/md1.txt', unpack=True)\n",
    "\n",
    "# para, pcov = curve_fit(g, f, U)\n",
    "# pcov = np.sqrt(np.diag(pcov))\n",
    "# a = para\n",
    "# fa = pcov "
   ]
  },
  {
   "cell_type": "markdown",
   "metadata": {},
   "source": [
    "Plot erstellen:"
   ]
  },
  {
   "cell_type": "code",
   "execution_count": 24,
   "metadata": {},
   "outputs": [
    {
     "data": {
      "image/png": "[encoded data removed]",
      "text/plain": [
       "<Figure size 432x288 with 1 Axes>"
      ]
     },
     "metadata": {
      "needs_background": "light"
     },
     "output_type": "display_data"
    }
   ],
   "source": [
    "\n",
    "# plt.plot(f, Uc, 'xr', markersize=6 , label = 'Messwerte', alpha=0.5)        # alpha: opacity\n",
    "# xx = np.linspace(100, 150000, 10**4)\n",
    "# plt.plot(xx, g(xx, a), '-b', linewidth = 1, label = 'Ausgleichsfunktion')\n",
    "\n",
    "plt.plot(U, k1, 'xm', markersize=3, label = \"Kennlinie 1\", alpha=0.5)\n",
    "plt.plot(U, k2, 'xb', markersize=3, label = \"Kennlinie 2\", alpha=0.5)\n",
    "plt.plot(U, k3, 'xg', markersize=3, label = \"Kennlinie 3\", alpha=0.5)\n",
    "plt.plot(U, k4, 'xy', markersize=3, label = \"Kennlinie 4\", alpha=0.5)\n",
    "plt.plot(U, k5, 'xr', markersize=3, label = \"Kennlinie 5\", alpha=0.5)\n",
    "\n",
    "plt.xlabel(r'$U \\, / \\, \\mathrm{V}$')\n",
    "plt.ylabel(r'$I \\, / \\, \\mathrm{A}$')\n",
    "plt.legend(loc=\"best\")                  # legend position\n",
    "plt.grid(True)                          # grid style\n",
    "#plt.xlim(200, 150000)                   # limitation of visible scale in plot\n",
    "\n",
    "plt.show()"
   ]
  }
 ],
 "metadata": {
  "interpreter": {
   "hash": "35caa7b82a3757becf5a71cac731e28ec147500c0075d0177139a56986d9e143"
  },
  "kernelspec": {
   "display_name": "Python 3.8.8 ('base')",
   "language": "python",
   "name": "python3"
  },
  "language_info": {
   "codemirror_mode": {
    "name": "ipython",
    "version": 3
   },
   "file_extension": ".py",
   "mimetype": "text/x-python",
   "name": "python",
   "nbconvert_exporter": "python",
   "pygments_lexer": "ipython3",
   "version": "3.8.8"
  },
  "orig_nbformat": 4
 },
 "nbformat": 4,
 "nbformat_minor": 2
}

{
 "cells": [
  {
   "cell_type": "code",
   "execution_count": 1,
   "metadata": {},
   "outputs": [],
   "source": [
    "import pandas as pd\n",
    "import matplotlib.pyplot as plt\n",
    "import numpy as np\n",
    "from scipy.optimize import curve_fit                        # Funktionsfit:     popt, pcov = curve_fit(func, xdata, ydata) \n",
    "from uncertainties import ufloat                            # Fehler:           fehlerwert =  ulfaot(x, err)\n",
    "from uncertainties.unumpy import uarray                     # Array von Fehler: fehlerarray =  uarray(array, errarray)\n",
    "from uncertainties.unumpy import (nominal_values as noms,   # Wert:             noms(fehlerwert) = x\n",
    "                                  std_devs as stds)         # Abweichung:       stds(fehlerarray) = errarray\n",
    "from uncertainties import unumpy as unp \n",
    "import scipy.constants as const"
   ]
  },
  {
   "cell_type": "markdown",
   "metadata": {},
   "source": [
    "Tabelle: Kennlinien"
   ]
  },
  {
   "cell_type": "code",
   "execution_count": 2,
   "metadata": {},
   "outputs": [
    {
     "name": "stdout",
     "output_type": "stream",
     "text": [
      "\\begin{tabular}{c c c c c c}\n",
      "\\toprule\n",
      " U/V &  I/mA &  I/mA.1 &  I/mA.2 &  I/mA.3 &  I/mA.4 \\\\\n",
      "\\midrule\n",
      "   0 & 0,000 &   0,000 &   0,000 &   0,000 &   0,000 \\\\\n",
      "   5 & 0,010 &   0,012 &   0,014 &   0,016 &   0,017 \\\\\n",
      "  10 & 0,022 &   0,028 &   0,033 &   0,036 &   0,039 \\\\\n",
      "  15 & 0,034 &   0,045 &   0,053 &   0,058 &   0,061 \\\\\n",
      "  20 & 0,044 &   0,062 &   0,076 &   0,084 &   0,089 \\\\\n",
      "  25 & 0,060 &   0,080 &   0,096 &   0,104 &   0,110 \\\\\n",
      "  30 & 0,070 &   0,096 &   0,116 &   0,130 &   0,137 \\\\\n",
      "  35 & 0,082 &   0,114 &   0,140 &   0,158 &   0,169 \\\\\n",
      "  40 & 0,092 &   0,134 &   0,168 &   0,194 &   0,207 \\\\\n",
      "  45 & 0,102 &   0,155 &   0,201 &   0,230 &   0,246 \\\\\n",
      "  50 & 0,107 &   0,170 &   0,228 &   0,265 &   0,287 \\\\\n",
      "  60 & 0,111 &   0,213 &   0,285 &   0,337 &   0,371 \\\\\n",
      "  70 & 0,119 &   0,231 &   0,340 &   0,425 &   0,480 \\\\\n",
      "  80 & 0,123 &   0,247 &   0,402 &   0,515 &   0,586 \\\\\n",
      "  90 & 0,124 &   0,270 &   0,459 &   0,608 &   0,694 \\\\\n",
      " 100 & 0,124 &   0,272 &   0,517 &   0,685 &   0,790 \\\\\n",
      " 120 & 0,124 &   0,268 &   0,604 &   0,841 &   1,010 \\\\\n",
      " 140 & 0,124 &   0,269 &   0,614 &   0,909 &   1,219 \\\\\n",
      " 160 & 0,124 &   0,275 &   0,592 &   1,077 &   1,422 \\\\\n",
      " 180 & 0,124 &   0,281 &   0,593 &   1,110 &   1,592 \\\\\n",
      " 200 & 0,124 &   0,289 &   0,619 &   1,220 &   1,700 \\\\\n",
      " 250 & 0,124 &   0,281 &   0,636 &   1,286 &   2,100 \\\\\n",
      "\\bottomrule\n",
      "\\end{tabular}\n",
      "\n"
     ]
    }
   ],
   "source": [
    "md1 = pd.read_csv('tables/md1.csv')\n",
    "print(md1.to_latex(index = False, column_format= \"c c c c c c\", decimal=',')) "
   ]
  },
  {
   "cell_type": "markdown",
   "metadata": {},
   "source": [
    "Daten auswerten:"
   ]
  },
  {
   "cell_type": "code",
   "execution_count": 3,
   "metadata": {},
   "outputs": [
    {
     "ename": "NameError",
     "evalue": "name 'md' is not defined",
     "output_type": "error",
     "traceback": [
      "\u001b[0;31m---------------------------------------------------------------------------\u001b[0m",
      "\u001b[0;31mNameError\u001b[0m                                 Traceback (most recent call last)",
      "\u001b[0;32m/tmp/ipykernel_9067/1761004684.py\u001b[0m in \u001b[0;36m<module>\u001b[0;34m\u001b[0m\n\u001b[0;32m----> 1\u001b[0;31m \u001b[0mnp\u001b[0m\u001b[0;34m.\u001b[0m\u001b[0msavetxt\u001b[0m\u001b[0;34m(\u001b[0m\u001b[0;34m'tables/a.txt'\u001b[0m\u001b[0;34m,\u001b[0m \u001b[0mmd\u001b[0m\u001b[0;34m.\u001b[0m\u001b[0mvalues\u001b[0m\u001b[0;34m,\u001b[0m \u001b[0mheader\u001b[0m\u001b[0;34m=\u001b[0m\u001b[0;34m'f/Hz U/V'\u001b[0m\u001b[0;34m,\u001b[0m \u001b[0mfmt\u001b[0m\u001b[0;34m=\u001b[0m\u001b[0;34m'%.3f'\u001b[0m\u001b[0;34m)\u001b[0m\u001b[0;34m\u001b[0m\u001b[0;34m\u001b[0m\u001b[0m\n\u001b[0m\u001b[1;32m      2\u001b[0m \u001b[0mf\u001b[0m\u001b[0;34m,\u001b[0m \u001b[0mU\u001b[0m \u001b[0;34m=\u001b[0m \u001b[0mnp\u001b[0m\u001b[0;34m.\u001b[0m\u001b[0mgenfromtxt\u001b[0m\u001b[0;34m(\u001b[0m\u001b[0;34m'tables/a.txt'\u001b[0m\u001b[0;34m,\u001b[0m \u001b[0munpack\u001b[0m\u001b[0;34m=\u001b[0m\u001b[0;32mTrue\u001b[0m\u001b[0;34m,\u001b[0m \u001b[0mskip_header\u001b[0m\u001b[0;34m=\u001b[0m\u001b[0;36m1\u001b[0m\u001b[0;34m)\u001b[0m\u001b[0;34m\u001b[0m\u001b[0;34m\u001b[0m\u001b[0m\n\u001b[1;32m      3\u001b[0m \u001b[0;34m\u001b[0m\u001b[0m\n\u001b[1;32m      4\u001b[0m \u001b[0;32mdef\u001b[0m \u001b[0mg\u001b[0m\u001b[0;34m(\u001b[0m\u001b[0mf\u001b[0m\u001b[0;34m,\u001b[0m \u001b[0mT\u001b[0m\u001b[0;34m)\u001b[0m\u001b[0;34m:\u001b[0m\u001b[0;34m\u001b[0m\u001b[0;34m\u001b[0m\u001b[0m\n\u001b[1;32m      5\u001b[0m     \u001b[0mw\u001b[0m \u001b[0;34m=\u001b[0m \u001b[0;36m2\u001b[0m \u001b[0;34m*\u001b[0m \u001b[0mnp\u001b[0m\u001b[0;34m.\u001b[0m\u001b[0mpi\u001b[0m \u001b[0;34m*\u001b[0m \u001b[0mf\u001b[0m\u001b[0;34m\u001b[0m\u001b[0;34m\u001b[0m\u001b[0m\n",
      "\u001b[0;31mNameError\u001b[0m: name 'md' is not defined"
     ]
    }
   ],
   "source": [
    "np.savetxt('tables/a.txt', md.values, header='f/Hz U/V', fmt='%.3f')\n",
    "f, U = np.genfromtxt('tables/a.txt', unpack=True, skip_header=1)\n",
    "\n",
    "def g(f, T):\n",
    "    w = 2 * np.pi * f\n",
    "    return 1 / (np.sqrt(1 + w**2 * T**2))\n",
    "\n",
    "para, pcov = curve_fit(g, f, U)\n",
    "pcov = np.sqrt(np.diag(pcov))\n",
    "a = para\n",
    "fa = pcov "
   ]
  },
  {
   "cell_type": "code",
   "execution_count": null,
   "metadata": {},
   "outputs": [],
   "source": [
    "Fehler berechnen:"
   ]
  },
  {
   "cell_type": "code",
   "execution_count": null,
   "metadata": {},
   "outputs": [],
   "source": [
    "ua = ufloat(a, fa) * 1e6\n",
    "T = ua\n",
    "print('T = (%.3f +- %.3f )10^-6' % (noms(T), stds(T)))"
   ]
  },
  {
   "cell_type": "markdown",
   "metadata": {},
   "source": [
    "Plot erstellen:"
   ]
  },
  {
   "cell_type": "code",
   "execution_count": null,
   "metadata": {},
   "outputs": [],
   "source": [
    "\n",
    "plt.plot(f, Uc, 'xr', markersize=6 , label = 'Messwerte', alpha=0.5)        # alpha: opacity\n",
    "xx = np.linspace(100, 150000, 10**4)\n",
    "plt.plot(xx, g(xx, a), '-b', linewidth = 1, label = 'Ausgleichsfunktion')\n",
    "\n",
    "plt.xlabel(r'$f \\, / \\, \\mathrm{Hz}$')\n",
    "plt.ylabel(r'$A(\\omega) \\, / \\, U_0$')\n",
    "plt.xscale('log')                       # axis scale \n",
    "plt.legend(loc=\"best\")                  # legend position\n",
    "plt.grid(True)                          # grid style\n",
    "plt.xlim(200, 150000)                   # limitation of visible scale in plot"
   ]
  }
 ],
 "metadata": {
  "interpreter": {
   "hash": "35caa7b82a3757becf5a71cac731e28ec147500c0075d0177139a56986d9e143"
  },
  "kernelspec": {
   "display_name": "Python 3.8.8 ('base')",
   "language": "python",
   "name": "python3"
  },
  "language_info": {
   "codemirror_mode": {
    "name": "ipython",
    "version": 3
   },
   "file_extension": ".py",
   "mimetype": "text/x-python",
   "name": "python",
   "nbconvert_exporter": "python",
   "pygments_lexer": "ipython3",
   "version": "3.8.8"
  },
  "orig_nbformat": 4
 },
 "nbformat": 4,
 "nbformat_minor": 2
}

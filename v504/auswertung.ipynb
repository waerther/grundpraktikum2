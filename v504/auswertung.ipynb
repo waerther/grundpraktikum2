{
 "cells": [
  {
   "cell_type": "code",
   "execution_count": 374,
   "metadata": {},
   "outputs": [],
   "source": [
    "import pandas as pd\n",
    "import matplotlib.pyplot as plt\n",
    "import numpy as np\n",
    "from scipy.optimize import curve_fit                        # Funktionsfit:     popt, pcov = curve_fit(func, xdata, ydata) \n",
    "from uncertainties import ufloat                            # Fehler:           fehlerwert =  ulfaot(x, err)\n",
    "from uncertainties.unumpy import uarray                     # Array von Fehler: fehlerarray =  uarray(array, errarray)\n",
    "from uncertainties.unumpy import (nominal_values as noms,   # Wert:             noms(fehlerwert) = x\n",
    "                                  std_devs as stds)         # Abweichung:       stds(fehlerarray) = errarray\n",
    "from uncertainties import unumpy as unp \n",
    "import scipy.constants as const"
   ]
  },
  {
   "cell_type": "markdown",
   "metadata": {},
   "source": [
    "Tabelle: Kennlinien"
   ]
  },
  {
   "cell_type": "code",
   "execution_count": 375,
   "metadata": {},
   "outputs": [
    {
     "name": "stdout",
     "output_type": "stream",
     "text": [
      "\\begin{tabular}{c c c c c c}\n",
      "\\toprule\n",
      " U/V &  I/mA &  I/mA.1 &  I/mA.2 &  I/mA.3 &  I/mA.4 \\\\\n",
      "\\midrule\n",
      "   0 & 0,000 &   0,000 &   0,000 &   0,000 &   0,000 \\\\\n",
      "   5 & 0,010 &   0,012 &   0,014 &   0,016 &   0,017 \\\\\n",
      "  10 & 0,022 &   0,028 &   0,033 &   0,036 &   0,039 \\\\\n",
      "  15 & 0,034 &   0,045 &   0,053 &   0,058 &   0,061 \\\\\n",
      "  20 & 0,044 &   0,062 &   0,076 &   0,084 &   0,089 \\\\\n",
      "  25 & 0,060 &   0,080 &   0,096 &   0,104 &   0,110 \\\\\n",
      "  30 & 0,070 &   0,096 &   0,116 &   0,130 &   0,137 \\\\\n",
      "  35 & 0,082 &   0,114 &   0,140 &   0,158 &   0,169 \\\\\n",
      "  40 & 0,092 &   0,134 &   0,168 &   0,194 &   0,207 \\\\\n",
      "  45 & 0,102 &   0,155 &   0,201 &   0,230 &   0,246 \\\\\n",
      "  50 & 0,107 &   0,170 &   0,228 &   0,265 &   0,287 \\\\\n",
      "  60 & 0,111 &   0,213 &   0,285 &   0,337 &   0,371 \\\\\n",
      "  70 & 0,119 &   0,231 &   0,340 &   0,425 &   0,480 \\\\\n",
      "  80 & 0,123 &   0,247 &   0,402 &   0,515 &   0,586 \\\\\n",
      "  90 & 0,124 &   0,270 &   0,459 &   0,608 &   0,694 \\\\\n",
      " 100 & 0,124 &   0,272 &   0,517 &   0,685 &   0,790 \\\\\n",
      " 120 & 0,124 &   0,268 &   0,604 &   0,841 &   1,010 \\\\\n",
      " 140 & 0,124 &   0,269 &   0,614 &   0,909 &   1,219 \\\\\n",
      " 160 & 0,124 &   0,275 &   0,592 &   1,077 &   1,422 \\\\\n",
      " 180 & 0,124 &   0,281 &   0,593 &   1,110 &   1,592 \\\\\n",
      " 200 & 0,124 &   0,289 &   0,619 &   1,220 &   1,700 \\\\\n",
      " 250 & 0,124 &   0,281 &   0,636 &   1,286 &   2,100 \\\\\n",
      "\\bottomrule\n",
      "\\end{tabular}\n",
      "\n"
     ]
    }
   ],
   "source": [
    "md1 = pd.read_csv('tables/md1.csv')\n",
    "print(md1.to_latex(index = False, column_format= \"c c c c c c\", decimal=',')) "
   ]
  },
  {
   "cell_type": "markdown",
   "metadata": {},
   "source": [
    "Daten auswerten:"
   ]
  },
  {
   "cell_type": "code",
   "execution_count": 376,
   "metadata": {},
   "outputs": [],
   "source": [
    "np.savetxt('tables/md1.txt', md1.values, fmt='%.3f')\n",
    "U, k1, k2, k3, k4, k5 = np.genfromtxt('tables/md1.txt', unpack=True)"
   ]
  },
  {
   "cell_type": "markdown",
   "metadata": {},
   "source": [
    "Plot 1:"
   ]
  },
  {
   "cell_type": "code",
   "execution_count": 377,
   "metadata": {},
   "outputs": [
    {
     "data": {
      "image/png": "[encoded data removed]",
      "text/plain": [
       "<Figure size 432x288 with 1 Axes>"
      ]
     },
     "metadata": {
      "needs_background": "light"
     },
     "output_type": "display_data"
    }
   ],
   "source": [
    "plt.plot(U, k1, 'xr', label = \"Kennlinie 1\", zorder=2)\n",
    "\n",
    "plt.xlabel(r'$U \\, / \\, \\mathrm{V}$')\n",
    "plt.ylabel(r'$I \\, / \\, \\mathrm{mA}$')\n",
    "plt.legend(loc=\"best\")     \n",
    "plt.grid(True)\n",
    "\n",
    "plt.show()"
   ]
  },
  {
   "cell_type": "markdown",
   "metadata": {},
   "source": [
    "Plot 2:"
   ]
  },
  {
   "cell_type": "code",
   "execution_count": 378,
   "metadata": {},
   "outputs": [
    {
     "data": {
      "image/png": "[encoded data removed]",
      "text/plain": [
       "<Figure size 432x288 with 1 Axes>"
      ]
     },
     "metadata": {
      "needs_background": "light"
     },
     "output_type": "display_data"
    }
   ],
   "source": [
    "plt.plot(U, k2, 'xr', label = \"Kennlinie 2\")\n",
    "\n",
    "plt.xlabel(r'$U \\, / \\, \\mathrm{V}$')\n",
    "plt.ylabel(r'$I \\, / \\, \\mathrm{mA}$')\n",
    "plt.legend(loc=\"best\")     \n",
    "plt.grid(True)\n"
   ]
  },
  {
   "cell_type": "markdown",
   "metadata": {},
   "source": [
    "Plot 3:"
   ]
  },
  {
   "cell_type": "code",
   "execution_count": 379,
   "metadata": {},
   "outputs": [
    {
     "data": {
      "image/png": "[encoded data removed]",
      "text/plain": [
       "<Figure size 432x288 with 1 Axes>"
      ]
     },
     "metadata": {
      "needs_background": "light"
     },
     "output_type": "display_data"
    }
   ],
   "source": [
    "plt.plot(U, k3, 'xr', label = \"Kennlinie 3\")\n",
    "\n",
    "plt.xlabel(r'$U \\, / \\, \\mathrm{V}$')\n",
    "plt.ylabel(r'$I \\, / \\, \\mathrm{mA}$')\n",
    "plt.legend(loc=\"best\")     \n",
    "plt.grid(True)   "
   ]
  },
  {
   "cell_type": "markdown",
   "metadata": {},
   "source": [
    "Plot 4:"
   ]
  },
  {
   "cell_type": "code",
   "execution_count": 380,
   "metadata": {},
   "outputs": [
    {
     "data": {
      "image/png": "[encoded data removed]",
      "text/plain": [
       "<Figure size 432x288 with 1 Axes>"
      ]
     },
     "metadata": {
      "needs_background": "light"
     },
     "output_type": "display_data"
    }
   ],
   "source": [
    "plt.plot(U, k4, 'xr', label = \"Kennlinie 4\")\n",
    "\n",
    "plt.xlabel(r'$U \\, / \\, \\mathrm{V}$')\n",
    "plt.ylabel(r'$I \\, / \\, \\mathrm{mA}$')\n",
    "plt.legend(loc=\"best\")     \n",
    "plt.grid(True)   "
   ]
  },
  {
   "cell_type": "markdown",
   "metadata": {},
   "source": [
    "Plot 5:"
   ]
  },
  {
   "cell_type": "code",
   "execution_count": 381,
   "metadata": {},
   "outputs": [
    {
     "name": "stdout",
     "output_type": "stream",
     "text": [
      "            3             2\n",
      "-1.413e-07 x + 5.232e-05 x + 0.004119 x - 0.01655\n",
      "            2\n",
      "-4.239e-07 x + 0.0001046 x + 0.004119\n",
      " \n",
      "-8.479e-07 x + 0.0001046\n",
      " \n",
      "-8.479e-07\n",
      "2.045161068051923\n"
     ]
    },
    {
     "data": {
      "image/png": "[encoded data removed]",
      "text/plain": [
       "<Figure size 432x288 with 1 Axes>"
      ]
     },
     "metadata": {
      "needs_background": "light"
     },
     "output_type": "display_data"
    }
   ],
   "source": [
    "plt.plot(U, k5, 'xr', label = \"Kennlinie 5\", zorder=2, alpha = 0.7)\n",
    "\n",
    "z = np.polyfit(U, k5, 3)\n",
    "p = np.poly1d(z)\n",
    "xp = np.linspace(-50, 280, 100)\n",
    "plt.plot(xp, p(xp), '-b', label = \"Ausgleichsrechnung\", linewidth = 1, zorder=1)\n",
    "\n",
    "dp = p.deriv()\n",
    "ddp = dp.deriv()\n",
    "dddp = ddp.deriv()\n",
    "\n",
    "print(p)\n",
    "print(dp)\n",
    "print(ddp)\n",
    "print(dddp)\n",
    "\n",
    "x = 0.0001046/8.479e-07\n",
    "\n",
    "xp = np.linspace(-50, 280, 100)\n",
    "plt.plot(x, p(x), 'Db', label = \"Wendepunkt\", markersize = 6, zorder=3)\n",
    "\n",
    "plt.xlabel(r'$U \\, / \\, \\mathrm{V}$')\n",
    "plt.ylabel(r'$I \\, / \\, \\mathrm{mA}$')\n",
    "plt.legend(loc=\"best\")     \n",
    "plt.grid(True)\n",
    "plt.xlim(-10, 280) \n",
    "plt.ylim(-0.1, 2.3) \n",
    "\n",
    "print(2*p(x))"
   ]
  },
  {
   "cell_type": "code",
   "execution_count": 382,
   "metadata": {},
   "outputs": [
    {
     "name": "stdout",
     "output_type": "stream",
     "text": [
      "0.000403+/-0.000034\n",
      "1.467+/-0.020\n",
      "a = (-49.826 +- 2.123 )*10-3\n",
      "b = (1.467 +- 0.020 )*10-3\n"
     ]
    },
    {
     "data": {
      "image/png": "[encoded data removed]",
      "text/plain": [
       "<Figure size 432x288 with 1 Axes>"
      ]
     },
     "metadata": {
      "needs_background": "light"
     },
     "output_type": "display_data"
    }
   ],
   "source": [
    "plt.plot(U, k5, 'xr', label = \"Kennlinie 5\", zorder=2, alpha = 0.7)\n",
    "\n",
    "def lsr(u, a, b):\n",
    "    return (4/9) * const.epsilon_0 * np.sqrt(2 * const.elementary_charge/ const.electron_mass) * u**(b)/a**2\n",
    "\n",
    "para, pcov = curve_fit(lsr, U[:15], k5[:15])\n",
    "a, b = para\n",
    "fa, fb = np.sqrt(np.diag(pcov))\n",
    "\n",
    "ua = ufloat(a, fa) \n",
    "ub = ufloat(b, fb)\n",
    "\n",
    "xx = np.linspace(0, 280, 100)\n",
    "plt.plot(xx, lsr(xx, noms(ua), noms(ub)), '-b', label = \"Ausgleichsfunktion\", linewidth = 1, zorder=1)\n",
    "\n",
    "plt.xlabel(r'$U \\, / \\, \\mathrm{V}$')\n",
    "plt.ylabel(r'$I \\, / \\, \\mathrm{mA}$')\n",
    "plt.legend(loc=\"best\")     \n",
    "plt.grid(True)\n",
    "plt.xlim(-10, 280)\n",
    "plt.ylim(-0.1, 2.3)\n",
    "\n",
    "ua = ua*10**3\n",
    "print(1/ua**2)\n",
    "print(ub)\n",
    "print('a = (%.3f +- %.3f )*10-3' % (noms(ua), stds(ua)))\n",
    "print('b = (%.3f +- %.3f )*10-3' % (noms(ub), stds(ub)))"
   ]
  },
  {
   "cell_type": "markdown",
   "metadata": {},
   "source": [
    "Tabelle Anlaufstrom:"
   ]
  },
  {
   "cell_type": "code",
   "execution_count": 383,
   "metadata": {},
   "outputs": [
    {
     "name": "stdout",
     "output_type": "stream",
     "text": [
      "\\begin{tabular}{c c}\n",
      "\\toprule\n",
      " U/V &    I/nA \\\\\n",
      "\\midrule\n",
      "0,00 & 13,0000 \\\\\n",
      "0,10 &  8,1000 \\\\\n",
      "0,20 &  4,6500 \\\\\n",
      "0,30 &  2,5000 \\\\\n",
      "0,40 &  1,2000 \\\\\n",
      "0,50 &  0,4500 \\\\\n",
      "0,60 &  0,4000 \\\\\n",
      "0,70 &  0,2000 \\\\\n",
      "0,80 &  0,0600 \\\\\n",
      "0,90 &  0,0230 \\\\\n",
      "0,96 &  0,0005 \\\\\n",
      "\\bottomrule\n",
      "\\end{tabular}\n",
      "\n"
     ]
    }
   ],
   "source": [
    "md2 = pd.read_csv('tables/md2.csv')\n",
    "print(md2.to_latex(index = False, column_format= \"c c\", decimal=',')) "
   ]
  },
  {
   "cell_type": "code",
   "execution_count": 384,
   "metadata": {},
   "outputs": [
    {
     "name": "stdout",
     "output_type": "stream",
     "text": [
      "13.227546902708719\n",
      "0.18367613564673194\n",
      "a = (13.228 +- 0.240) nA\n",
      "b = (2131.473 +- 70.377) K\n"
     ]
    },
    {
     "data": {
      "image/png": "[encoded data removed]",
      "text/plain": [
       "<Figure size 432x288 with 1 Axes>"
      ]
     },
     "metadata": {
      "needs_background": "light"
     },
     "output_type": "display_data"
    }
   ],
   "source": [
    "np.savetxt('tables/md2.txt', md2.values, fmt='%.4f')\n",
    "U, I = np.genfromtxt('tables/md2.txt', unpack=True)\n",
    "\n",
    "plt.plot(U, I, 'xr', label = \"Messdaten\",  alpha = 0.7)\n",
    "\n",
    "def f(u, a, b):\n",
    "    return a * np.exp(-u / b)\n",
    "\n",
    "para, pcov = curve_fit(f, U, I)\n",
    "a, b = para\n",
    "fa, fb = np.sqrt(np.diag(pcov))\n",
    "\n",
    "ua = ufloat(a, fa) \n",
    "ub = ufloat(b, fb)\n",
    "\n",
    "xx = np.linspace(-0.5, 1.5, 100)\n",
    "plt.plot(xx, f(xx, a, b), '-b', label = \"Ausgleichsfunktion\")\n",
    "\n",
    "plt.xlabel(r'$U \\, / \\, \\mathrm{V}$')\n",
    "plt.ylabel(r'$I \\, / \\, \\mathrm{nA}$')\n",
    "plt.legend(loc=\"best\")     \n",
    "plt.grid(True)\n",
    "plt.xlim(0, 1.05)\n",
    "plt.ylim(-0.5, 9)\n",
    "\n",
    "ub = const.elementary_charge * ub / const.Boltzmann # nach umformen im exponenten\n",
    "\n",
    "print(a)\n",
    "print(b)\n",
    "\n",
    "print('a = (%.3f +- %.3f) nA' % (noms(ua), stds(ua)))\n",
    "print('b = (%.3f +- %.3f) K' % (noms(ub), stds(ub)))"
   ]
  },
  {
   "cell_type": "markdown",
   "metadata": {},
   "source": [
    "Temperaturen berechnen: c)"
   ]
  },
  {
   "cell_type": "code",
   "execution_count": 385,
   "metadata": {},
   "outputs": [
    {
     "ename": "SyntaxError",
     "evalue": "invalid syntax (3952858581.py, line 3)",
     "output_type": "error",
     "traceback": [
      "\u001b[0;36m  File \u001b[0;32m\"/tmp/ipykernel_6136/3952858581.py\"\u001b[0;36m, line \u001b[0;32m3\u001b[0m\n\u001b[0;31m    return T = ( (u * i - Nwl) / (f*eta*sigma) )**(1/4)\u001b[0m\n\u001b[0m             ^\u001b[0m\n\u001b[0;31mSyntaxError\u001b[0m\u001b[0;31m:\u001b[0m invalid syntax\n"
     ]
    }
   ],
   "source": [
    "def T(u, i):\n",
    "    f = 0.32; eta = 0.28; sigma = 5.7e-12; Nwl =1\n",
    "    return T = ( (u * i - Nwl) / (f*eta*sigma) )**(1/4)"
   ]
  }
 ],
 "metadata": {
  "interpreter": {
   "hash": "35caa7b82a3757becf5a71cac731e28ec147500c0075d0177139a56986d9e143"
  },
  "kernelspec": {
   "display_name": "Python 3.8.8 ('base')",
   "language": "python",
   "name": "python3"
  },
  "language_info": {
   "codemirror_mode": {
    "name": "ipython",
    "version": 3
   },
   "file_extension": ".py",
   "mimetype": "text/x-python",
   "name": "python",
   "nbconvert_exporter": "python",
   "pygments_lexer": "ipython3",
   "version": "3.8.8"
  },
  "orig_nbformat": 4
 },
 "nbformat": 4,
 "nbformat_minor": 2
}

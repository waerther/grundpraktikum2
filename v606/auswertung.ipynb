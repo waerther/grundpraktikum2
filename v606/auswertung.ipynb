{
 "cells": [
  {
   "cell_type": "code",
   "execution_count": 199,
   "metadata": {},
   "outputs": [],
   "source": [
    "import matplotlib.pyplot as plt\n",
    "import matplotlib as mpl\n",
    "import numpy as np\n",
    "from numpy import sqrt\n",
    "import pandas as pd\n",
    "import scipy.constants as const\n",
    "from scipy.optimize import fsolve\n",
    "from scipy.optimize import curve_fit                        # Funktionsfit:     popt, pcov = curve_fit(func, xdata, ydata) \n",
    "from uncertainties import ufloat                            # Fehler:           fehlerwert =  ulfaot(x, err)\n",
    "from uncertainties import unumpy as unp \n",
    "from uncertainties.unumpy import uarray                     # Array von Fehler: fehlerarray =  uarray(array, errarray)\n",
    "from uncertainties.unumpy import (nominal_values as noms,   # Wert:             noms(fehlerwert) = x\n",
    "                                  std_devs as stds)         # Abweichung:       stds(fehlerarray) = errarray"
   ]
  },
  {
   "cell_type": "markdown",
   "metadata": {},
   "source": [
    "Tabelle erstellen:"
   ]
  },
  {
   "cell_type": "code",
   "execution_count": 200,
   "metadata": {},
   "outputs": [
    {
     "name": "stdout",
     "output_type": "stream",
     "text": [
      "\\begin{tabular}{c c}\n",
      "\\toprule\n",
      " f/kHz &   U/V \\\\\n",
      "\\midrule\n",
      "  20,0 & 0,085 \\\\\n",
      "  22,5 & 0,110 \\\\\n",
      "  25,0 & 0,150 \\\\\n",
      "  27,0 & 0,190 \\\\\n",
      "  30,0 & 0,310 \\\\\n",
      "  32,8 & 0,800 \\\\\n",
      "  33,3 & 1,200 \\\\\n",
      "  34,1 & 1,900 \\\\\n",
      "  35,4 & 2,000 \\\\\n",
      "  36,0 & 1,600 \\\\\n",
      "  36,9 & 0,840 \\\\\n",
      "  38,3 & 0,530 \\\\\n",
      "  39,3 & 0,410 \\\\\n",
      "\\bottomrule\n",
      "\\end{tabular}\n",
      "\n"
     ]
    }
   ],
   "source": [
    "Ua = pd.read_csv('tables/spannung.csv')\n",
    "print(Ua.to_latex(index = False, column_format= \"c c\", decimal=',')) "
   ]
  },
  {
   "cell_type": "markdown",
   "metadata": {},
   "source": [
    "Daten auswerten:"
   ]
  },
  {
   "cell_type": "code",
   "execution_count": 248,
   "metadata": {},
   "outputs": [
    {
     "name": "stdout",
     "output_type": "stream",
     "text": [
      "33.50+/-0.14 36.41+/-0.14\n"
     ]
    },
    {
     "data": {
      "text/plain": [
       "(-0.05, 1.05)"
      ]
     },
     "execution_count": 248,
     "metadata": {},
     "output_type": "execute_result"
    },
    {
     "data": {
      "image/png": "[encoded data removed]",
      "text/plain": [
       "<Figure size 432x288 with 1 Axes>"
      ]
     },
     "metadata": {
      "needs_background": "light"
     },
     "output_type": "display_data"
    }
   ],
   "source": [
    "np.savetxt('tables/Ua.txt', Ua.values, header='f/Hz U/V', fmt='%.3f')\n",
    "nu, U = np.genfromtxt('tables/Ua.txt', unpack=True, skip_header=1)\n",
    "U = U/(2*0.9892978920131985)\n",
    "\n",
    "plt.plot(nu, U, 'xr', markersize=6 , label = 'Messdaten', alpha=0.5)\n",
    "\n",
    "# für den initial guess bei curvefit()\n",
    "n = len(nu)                              #the number of data\n",
    "mean = sum(nu*U)/n                       #note this correction\n",
    "# sigma = sum(U*(nu - mean)**2)/n        #note this correction\n",
    "sigma = np.sqrt(sum(U*(nu - mean)**2))\n",
    "\n",
    "# Ausgleichsrechung nach Gaußverteilung\n",
    "def g(x,a,x0,b):\n",
    "    return a*np.exp(-(x-x0)**2/(b)) # b = 2*sigma**2\n",
    "\n",
    "para, pcov = curve_fit(g, nu, U, p0=[1,mean,sigma])\n",
    "a, nu0, b = para\n",
    "pcov = np.sqrt(np.diag(pcov))\n",
    "fa, fnu0, fb = pcov\n",
    "ua = ufloat(a, fa) \n",
    "ub = ufloat(b, fb)\n",
    "unu0 = ufloat(nu0, fnu0)\n",
    "\n",
    "xx = np.linspace(18, 42, 10**4)\n",
    "plt.plot(xx, g(xx, *para), '-b', linewidth = 1, label = 'Ausgleichsfunktion', alpha=0.5)\n",
    "\n",
    "# \\nu_+- für U_A/U_E = 1/sqrt(2)\n",
    "nu_m = nu0 - np.sqrt(-b*np.log(1/(a*np.sqrt(2))))\n",
    "fnu_m = fnu0 #- np.sqrt(-fb*np.log(1/(fa*np.sqrt(2))))\n",
    "unu_m = ufloat(nu_m, fnu_m)\n",
    "\n",
    "nu_p = nu0 + np.sqrt(-b*np.log(1/(a*np.sqrt(2))))\n",
    "fnu_p = fnu0\n",
    "unu_p = ufloat(nu_p, fnu_p)\n",
    "print(unu_m, unu_p)\n",
    "\n",
    "\n",
    "plt.vlines(nu_m, -1, g(nu_m, *para), linestyle='dotted', colors='black')\n",
    "plt.vlines(nu_p, -1, g(nu_p, *para), linestyle='dotted', colors='black')\n",
    "plt.hlines(g(nu_m, *para), 0, nu_p,  linestyle='dotted', colors='black')\n",
    "\n",
    "plt.vlines(nu0, -1, g(nu0, *para), linestyle='dotted', colors='black')\n",
    "plt.hlines(g(nu0, *para), 0, nu0,  linestyle='dotted', colors='black')\n",
    "\n",
    "# x = [nu_m, nu0, nu_p]\n",
    "# x_labels = [r'$\\nu_{-}$', r'$\\nu_{0}$', r'$\\nu_{+}$']\n",
    "# plt.xticks(ticks=x, labels=x_labels)\n",
    "# plt.xlabels()\n",
    "\n",
    "# plt.axvline(x=nu_m, color='gray', linestyle='--')\n",
    "# plt.axhline(y=g(nu_m, *para), color='gray', linestyle='--')\n",
    "\n",
    "# plt.annotate(r'$\\frac{1}{\\sqrt{2}}$', xy=(35, 0.7), xycoords = 'data', textcoords = 'offset pixels')\n",
    "\n",
    "plt.xlabel(r'$\\nu \\, / \\, \\mathrm{kHz}$')\n",
    "plt.ylabel(r'$U_A \\, / \\, U_E$')\n",
    "plt.legend(loc=\"best\")                  # legend position\n",
    "plt.grid(True)                          # grid style\n",
    "plt.xlim(22, 40)\n",
    "plt.ylim(-0.05, 1.05)\n"
   ]
  },
  {
   "cell_type": "markdown",
   "metadata": {},
   "source": [
    "Fehler berechnen:"
   ]
  },
  {
   "cell_type": "code",
   "execution_count": 202,
   "metadata": {},
   "outputs": [
    {
     "name": "stdout",
     "output_type": "stream",
     "text": [
      "a = 0.99+/-0.07\n",
      "b = 6.1+/-1.2\n",
      "nu_m = 33.52+/-0.14\n",
      "nu0 = 34.95+/-0.14\n",
      "nu_p = 36.38+/-0.14\n",
      "U0 = 0.9892978920131985\n"
     ]
    }
   ],
   "source": [
    "print('a =', ua)\n",
    "print('b =', ub)\n",
    "print('nu_m =', unu_m)\n",
    "print('nu0 =', unu0)\n",
    "print('nu_p =', unu_p)\n",
    "print('U0 =', g(nu0, a, nu0, b))"
   ]
  },
  {
   "cell_type": "markdown",
   "metadata": {},
   "source": [
    "Güte des Selektivverstärkers:"
   ]
  },
  {
   "cell_type": "code",
   "execution_count": 250,
   "metadata": {},
   "outputs": [
    {
     "name": "stdout",
     "output_type": "stream",
     "text": [
      "12.0+/-0.8\n",
      "40+/-4\n"
     ]
    }
   ],
   "source": [
    "Q = unu0 / (unu_p - unu_m)\n",
    "print(Q)\n",
    "delta_Q = 100 *abs(Q - 20)/20\n",
    "print(delta_Q)"
   ]
  },
  {
   "cell_type": "markdown",
   "metadata": {},
   "source": [
    "Querschnitt der Proben berechnen:"
   ]
  },
  {
   "cell_type": "code",
   "execution_count": 203,
   "metadata": {},
   "outputs": [
    {
     "name": "stdout",
     "output_type": "stream",
     "text": [
      "\\begin{tabular}{c c c c}\n",
      "\\toprule\n",
      "Stoff &   m/g &  l/cm &  rho\\_w/g/cm**3 &  Q/cm**2 \\\\\n",
      "\\midrule\n",
      "Dy2O3 & 15,10 &  15,9 &           7,80 & 0,121755 \\\\\n",
      "Gd2O3 & 14,08 &  16,5 &           7,40 & 0,115315 \\\\\n",
      "Nd2O3 &  8,48 &  16,5 &           7,24 & 0,070986 \\\\\n",
      "\\bottomrule\n",
      "\\end{tabular}\n",
      "\n"
     ]
    }
   ],
   "source": [
    "d_m = 15.10; d_l = 15.9; d_rho = 7.80 #g/cm^3\n",
    "g_m = 14.08; g_l = 16.5; g_rho = 7.40\n",
    "n_m =  8.48; n_l = 16.5; n_rho = 7.24\n",
    "\n",
    "def Q(m, l ,rho):\n",
    "    return m/(l*rho)\n",
    "\n",
    "d_Q = Q(d_m, d_l, d_rho)\n",
    "g_Q = Q(g_m, g_l, g_rho)\n",
    "n_Q = Q(n_m, n_l, n_rho)\n",
    "\n",
    "m = [d_m, g_m, n_m]\n",
    "l = [d_l, g_l, n_l]\n",
    "rho = [d_rho, g_rho, n_rho]\n",
    "Q = np.array([d_Q, g_Q, n_Q])\n",
    "stoffe = ['Dy2O3', 'Gd2O3', 'Nd2O3']\n",
    "\n",
    "f = {'Stoff': stoffe, 'm/g': m, 'l/cm': l, 'rho_w/g/cm**3': rho, 'Q/cm**2': Q}\n",
    "df = pd.DataFrame(data = f)\n",
    "print(df.to_latex(index = False, column_format= \"c c c c\", decimal=',')) \n"
   ]
  },
  {
   "cell_type": "markdown",
   "metadata": {},
   "source": [
    "Anzahl der Momente $N$ berechnen:"
   ]
  },
  {
   "cell_type": "code",
   "execution_count": 204,
   "metadata": {},
   "outputs": [
    {
     "name": "stdout",
     "output_type": "stream",
     "text": [
      "6.02214076e+23\n",
      "\\begin{tabular}{c c c c}\n",
      "\\toprule\n",
      "Stoff &  rho/g/cm**3 &  M\\_mol/g/mol &  N/1/cm**3 * 10**22 \\\\\n",
      "\\midrule\n",
      "Dy2O3 &         7,80 &       373,00 &            2,518643 \\\\\n",
      "Gd2O3 &         7,40 &       362,50 &            2,405534 \\\\\n",
      "Nd2O3 &         7,24 &       336,48 &            2,591554 \\\\\n",
      "\\bottomrule\n",
      "\\end{tabular}\n",
      "\n"
     ]
    }
   ],
   "source": [
    "d_mol = 373; g_mol = 362.5; n_mol = 336.48\n",
    "def N(rho, M_mol):\n",
    "    return 2 * const.Avogadro * (rho/M_mol)\n",
    "\n",
    "print(const.Avogadro)\n",
    "\n",
    "d_N = N(d_rho, d_mol) \n",
    "g_N = N(n_rho, g_mol)\n",
    "n_N = N(n_rho, n_mol)\n",
    "M_mol = [d_mol, g_mol, n_mol]\n",
    "N = np.array([d_N, g_N, n_N])\n",
    "f = {'Stoff': stoffe, 'rho/g/cm**3': rho, 'M_mol/g/mol': M_mol, 'N/1/cm**3 * 10**22': N*1e-22}\n",
    "df = pd.DataFrame(data = f)\n",
    "print(df.to_latex(index = False, column_format= \"c c c c\", decimal=','))"
   ]
  },
  {
   "cell_type": "markdown",
   "metadata": {},
   "source": [
    "Messdaten der Stoffe auswerten:"
   ]
  },
  {
   "cell_type": "code",
   "execution_count": 205,
   "metadata": {},
   "outputs": [
    {
     "name": "stdout",
     "output_type": "stream",
     "text": [
      "5.153333333333333\n",
      "\\begin{tabular}{c c c c c c}\n",
      "\\toprule\n",
      " Uv &    Rv &   Un &    Rn &  deltaU &  deltaR \\\\\n",
      "\\midrule\n",
      "5,5 & 3,405 & 0,40 & 1,855 &    5,10 &   1,550 \\\\\n",
      "5,6 & 3,330 & 0,33 & 1,825 &    5,27 &   1,505 \\\\\n",
      "5,4 & 3,330 & 0,31 & 1,830 &    5,09 &   1,500 \\\\\n",
      "\\bottomrule\n",
      "\\end{tabular}\n",
      "\n"
     ]
    }
   ],
   "source": [
    "# Dy2 O3\n",
    "dy = pd.read_csv('tables/dy.csv')\n",
    "np.savetxt('tables/dy.txt', dy.values, header='Uv Rv Uv Rn', fmt='%.3f')\n",
    "d_Uv, d_Rv, d_Un, d_Rn = np.genfromtxt('tables/dy.txt', unpack=True, skip_header=1)\n",
    "d_Rv *= 0.005; d_Rn *= 0.005\n",
    "d_delR = d_Rv - d_Rn\n",
    "d_delU = d_Uv - d_Un\n",
    "print(np.mean(d_delU))\n",
    "\n",
    "dy = {'Uv':d_Uv, 'Rv':d_Rv, 'Un':d_Un, 'Rn':d_Rn, 'deltaU':d_delU, 'deltaR':d_delR}\n",
    "df_dy = pd.DataFrame(data = dy)\n",
    "print(df_dy.to_latex(index = False, column_format= \"c c c c c c\", decimal=',')) "
   ]
  },
  {
   "cell_type": "code",
   "execution_count": 206,
   "metadata": {},
   "outputs": [
    {
     "name": "stdout",
     "output_type": "stream",
     "text": [
      "\\begin{tabular}{c c c c c c}\n",
      "\\toprule\n",
      " Uv &    Rv &   Un &   Rn &  deltaU &  deltaR \\\\\n",
      "\\midrule\n",
      "2,5 & 3,370 & 0,29 & 2,69 &    2,21 &   0,680 \\\\\n",
      "2,8 & 3,355 & 0,28 & 2,64 &    2,52 &   0,715 \\\\\n",
      "2,7 & 3,370 & 0,26 & 2,68 &    2,44 &   0,690 \\\\\n",
      "\\bottomrule\n",
      "\\end{tabular}\n",
      "\n"
     ]
    }
   ],
   "source": [
    "# Gd2 O3\n",
    "gd = pd.read_csv('tables/gd.csv')\n",
    "np.savetxt('tables/gd.txt', gd.values, header='Uv Rv Uv Rn', fmt='%.3f')\n",
    "g_Uv, g_Rv, g_Un, g_Rn = np.genfromtxt('tables/gd.txt', unpack=True, skip_header=1)\n",
    "g_Rv *= 0.005; g_Rn *= 0.005\n",
    "g_delR = g_Rv - g_Rn\n",
    "g_delU = g_Uv - g_Un\n",
    "\n",
    "gd = {'Uv':g_Uv, 'Rv':g_Rv, 'Un':g_Un, 'Rn':g_Rn, 'deltaU':g_delU, 'deltaR':g_delR}\n",
    "df_gd = pd.DataFrame(data = gd)\n",
    "print(df_gd.to_latex(index = False, column_format= \"c c c c c c\", decimal=','))"
   ]
  },
  {
   "cell_type": "code",
   "execution_count": 207,
   "metadata": {},
   "outputs": [
    {
     "name": "stdout",
     "output_type": "stream",
     "text": [
      "\\begin{tabular}{c c c c c c}\n",
      "\\toprule\n",
      "   Uv &    Rv &   Un &    Rn &  deltaU &  deltaR \\\\\n",
      "\\midrule\n",
      "0,440 & 3,340 & 0,38 & 3,305 &   0,060 &   0,035 \\\\\n",
      "0,425 & 3,380 & 0,36 & 3,285 &   0,065 &   0,095 \\\\\n",
      "0,510 & 3,405 & 0,34 & 3,315 &   0,170 &   0,090 \\\\\n",
      "\\bottomrule\n",
      "\\end{tabular}\n",
      "\n"
     ]
    }
   ],
   "source": [
    "# Nd2 O3\n",
    "nd = pd.read_csv('tables/nd.csv')\n",
    "np.savetxt('tables/nd.txt', nd.values, header='Uv Rv Uv Rn', fmt='%.3f')\n",
    "n_Uv, n_Rv, n_Un, n_Rn = np.genfromtxt('tables/nd.txt', unpack=True, skip_header=1)\n",
    "n_Rv *= 0.005; n_Rn *= 0.005\n",
    "n_delR = n_Rv - n_Rn\n",
    "n_delU = n_Uv - n_Un\n",
    "\n",
    "nd = {'Uv':n_Uv, 'Rv':n_Rv, 'Un':n_Un, 'Rn':n_Rn, 'deltaU':n_delU, 'deltaR':n_delR}\n",
    "df_nd = pd.DataFrame(data = nd)\n",
    "print(df_nd.to_latex(index = False, column_format= \"c c c c c c\", decimal=','))"
   ]
  },
  {
   "cell_type": "markdown",
   "metadata": {},
   "source": [
    "Suszeptibiltäten berechnen:"
   ]
  },
  {
   "cell_type": "code",
   "execution_count": 208,
   "metadata": {},
   "outputs": [
    {
     "name": "stdout",
     "output_type": "stream",
     "text": [
      "1.25663706212e-06\n",
      "\\begin{tabular}{c c c c}\n",
      "\\toprule\n",
      "Stoff &    chi\\_U &    chi\\_R &  chie\\_theo \\\\\n",
      "\\midrule\n",
      "Dy2O3 & 0,146616 & 0,021642 &   0,025421 \\\\\n",
      "Gd2O3 & 0,071794 & 0,010460 &   0,013497 \\\\\n",
      "Nd2O3 & 0,004798 & 0,001793 &   0,003021 \\\\\n",
      "\\bottomrule\n",
      "\\end{tabular}\n",
      "\n"
     ]
    }
   ],
   "source": [
    "F = 86.6 / 100  # Querschnitt der Spule im cm^2\n",
    "Q = Q           # von oben\n",
    "U_sp = 1        # Speisespannung = 1 ?\n",
    "\n",
    "U = np.array([np.mean(d_delU), np.mean(g_delU), np.mean(n_delU)])\n",
    "U /= 1000\n",
    "\n",
    "def chi_U(U):\n",
    "    return 4 * (F/Q) * (U/U_sp)\n",
    "\n",
    "chi_U = chi_U(U)\n",
    "\n",
    "R3 = 998        # ohm\n",
    "def chi_R(R):\n",
    "    return 2 * (F/Q) * (R/R3)\n",
    "\n",
    "R = np.array([np.mean(d_delR), np.mean(g_delR), np.mean(n_delR)])\n",
    "chi_R = chi_R(R)\n",
    "\n",
    "N_a = const.Avogadro\n",
    "mu_0 = const.mu_0\n",
    "mu_b = const.physical_constants['Bohr magneton'][0]\n",
    "k_b = const.Boltzmann\n",
    "print(mu_0)\n",
    "T = 293                 # Raumtemperatur\n",
    "def chi_theo(N, g_j, J):\n",
    "    return (mu_0 * mu_b**2 * np.square(g_j) * N * J*(J+1))/(3 * k_b * T)\n",
    "\n",
    "J = np.array([7.5, 3.5, 4.5])       # Gesamtdrehimpulse Dy, Gd, Nd\n",
    "g_j = np.array([4/3, 2, 8/11])      # Landre-Faktoren ''\n",
    "\n",
    "chi_theo = chi_theo(N, g_j, J)\n",
    "chi_theo *= 1e6                      # sehr illegal\n",
    "\n",
    "f = {'Stoff': stoffe, 'chi_U': chi_U, 'chi_R': chi_R, 'chie_theo': chi_theo}\n",
    "df = pd.DataFrame(data = f)\n",
    "print(df.to_latex(index = False, column_format= \"c c c c\", decimal=','))"
   ]
  },
  {
   "cell_type": "markdown",
   "metadata": {},
   "source": [
    "Relative Abweichung:"
   ]
  },
  {
   "cell_type": "code",
   "execution_count": 209,
   "metadata": {},
   "outputs": [
    {
     "name": "stdout",
     "output_type": "stream",
     "text": [
      "\\begin{tabular}{c c c}\n",
      "\\toprule\n",
      "Stoff &  delta chi\\_U &  delta chi\\_R \\\\\n",
      "\\midrule\n",
      "Dy2O3 &   476,744861 &    14,866186 \\\\\n",
      "Gd2O3 &   431,941602 &    22,502031 \\\\\n",
      "Nd2O3 &    58,818999 &    40,660678 \\\\\n",
      "\\bottomrule\n",
      "\\end{tabular}\n",
      "\n"
     ]
    }
   ],
   "source": [
    "delta_chi_U = 100 *abs(chi_U - chi_theo)/chi_theo\n",
    "delta_chi_R = 100 *abs(chi_R - chi_theo)/chi_theo\n",
    "\n",
    "f = {'Stoff': stoffe, 'delta chi_U': delta_chi_U, 'delta chi_R': delta_chi_R}\n",
    "df = pd.DataFrame(data = f)\n",
    "print(df.to_latex(index = False, column_format= \"c c c\", decimal=','))"
   ]
  }
 ],
 "metadata": {
  "interpreter": {
   "hash": "35caa7b82a3757becf5a71cac731e28ec147500c0075d0177139a56986d9e143"
  },
  "kernelspec": {
   "display_name": "Python 3.8.8 ('base')",
   "language": "python",
   "name": "python3"
  },
  "language_info": {
   "codemirror_mode": {
    "name": "ipython",
    "version": 3
   },
   "file_extension": ".py",
   "mimetype": "text/x-python",
   "name": "python",
   "nbconvert_exporter": "python",
   "pygments_lexer": "ipython3",
   "version": "3.8.8"
  },
  "orig_nbformat": 4
 },
 "nbformat": 4,
 "nbformat_minor": 2
}

{
 "cells": [
  {
   "cell_type": "code",
   "execution_count": 134,
   "metadata": {},
   "outputs": [],
   "source": [
    "import matplotlib.pyplot as plt\n",
    "import matplotlib as mpl\n",
    "# mpl.rcParams.update({\n",
    "# 'font.family': 'serif',\n",
    "# 'text.usetex': True,\n",
    "# 'pgf.rcfonts': False,\n",
    "# 'pgf.texsystem': 'lualatex',\n",
    "# 'pgf.preamble': r'\\usepackage{unicode-math}\\usepackage{siunitx}',\n",
    "# })\n",
    "import numpy as np\n",
    "from numpy import sqrt\n",
    "import pandas as pd\n",
    "import scipy.constants as const\n",
    "from scipy.optimize import curve_fit                        # Funktionsfit:     popt, pcov = curve_fit(func, xdata, ydata) \n",
    "from uncertainties import ufloat                            # Fehler:           fehlerwert =  ulfaot(x, err)\n",
    "from uncertainties import unumpy as unp \n",
    "from uncertainties.unumpy import uarray                     # Array von Fehler: fehlerarray =  uarray(array, errarray)\n",
    "from uncertainties.unumpy import (nominal_values as noms,   # Wert:             noms(fehlerwert) = x\n",
    "                                  std_devs as stds)         # Abweichung:       stds(fehlerarray) = errarray"
   ]
  },
  {
   "cell_type": "markdown",
   "metadata": {},
   "source": [
    "Tabelle erstellen:"
   ]
  },
  {
   "cell_type": "code",
   "execution_count": 135,
   "metadata": {},
   "outputs": [
    {
     "name": "stdout",
     "output_type": "stream",
     "text": [
      "   mean_nu/Hz  -15   30   45\n",
      "0          33   34  -45   74\n",
      "1          50   60 -124  192\n",
      "2          66  140 -186  321\n",
      "3          83  202 -377  563\n",
      "4         100  221 -552  803\n"
     ]
    }
   ],
   "source": [
    "delta_nu = pd.read_csv('tables/winkel.csv')\n",
    "print(delta_nu) "
   ]
  },
  {
   "cell_type": "markdown",
   "metadata": {},
   "source": [
    "Strömungsgeschwindigkeiten berrechnen:"
   ]
  },
  {
   "cell_type": "code",
   "execution_count": 147,
   "metadata": {},
   "outputs": [
    {
     "name": "stdout",
     "output_type": "stream",
     "text": [
      "\\begin{tabular}{c c c}\n",
      "\\toprule\n",
      " v15/m/s &  v30/m/s &  v60/m/s \\\\\n",
      "\\midrule\n",
      "   0,148 &   -0,101 &    0,096 \\\\\n",
      "   0,261 &   -0,279 &    0,249 \\\\\n",
      "   0,608 &   -0,418 &    0,417 \\\\\n",
      "   0,877 &   -0,848 &    0,731 \\\\\n",
      "   0,960 &   -1,241 &    1,043 \\\\\n",
      "\\bottomrule\n",
      "\\end{tabular}\n",
      "\n"
     ]
    }
   ],
   "source": [
    "np.savetxt('tables/delta_nu.txt', delta_nu.values, header='f/Hz U/V', fmt='%.3f')\n",
    "P, dnu15, dnu30, dnu60 = np.genfromtxt('tables/delta_nu.txt', unpack=True, skip_header=1)\n",
    "\n",
    "alpha = [80.06, 70.53, 54.74]   # Prismenwinkel\n",
    "alpha = np.multiply(alpha, (np.pi/180)) \n",
    "c = const.speed_of_light\n",
    "nu0 = 2e6   # 2 MHz\n",
    "\n",
    "def v(nu, a):\n",
    "    return (nu * c)/(2 * nu0 * np.cos(a)) /1e5\n",
    "\n",
    "v15 = np.zeros(5)\n",
    "v30 = np.zeros(5)\n",
    "v60 = np.zeros(5)\n",
    "\n",
    "for j in range(5):\n",
    "    v15[j] = v(dnu15[j], alpha[0])\n",
    "    v30[j] = v(dnu30[j], alpha[1])\n",
    "    v60[j] = v(dnu60[j], alpha[2])\n",
    "\n",
    "f = {'v15/m/s': np.around(v15, 3), 'v30/m/s': np.around(v30, 3), 'v60/m/s': np.around(v60, 3)}\n",
    "df = pd.DataFrame(data = f)\n",
    "print(df.to_latex(index = False, column_format= \"c c c\", decimal=',')) "
   ]
  },
  {
   "cell_type": "markdown",
   "metadata": {},
   "source": [
    "$\\frac{\\Delta \\nu}{\\cos (\\alpha)} (v)$-Diagramme:"
   ]
  },
  {
   "cell_type": "markdown",
   "metadata": {},
   "source": [
    "15°:"
   ]
  },
  {
   "cell_type": "code",
   "execution_count": 137,
   "metadata": {},
   "outputs": [
    {
     "name": "stderr",
     "output_type": "stream",
     "text": [
      "/home/erich/.local/anaconda3/lib/python3.8/site-packages/scipy/optimize/minpack.py:833: OptimizeWarning: Covariance of the parameters could not be estimated\n",
      "  warnings.warn('Covariance of the parameters could not be estimated',\n"
     ]
    },
    {
     "data": {
      "text/plain": [
       "(0.0, 0.014)"
      ]
     },
     "execution_count": 137,
     "metadata": {},
     "output_type": "execute_result"
    },
    {
     "data": {
      "image/png": "[encoded data removed]",
      "text/plain": [
       "<Figure size 432x288 with 1 Axes>"
      ]
     },
     "metadata": {
      "needs_background": "light"
     },
     "output_type": "display_data"
    }
   ],
   "source": [
    "def f(v):\n",
    "    return (2 * nu0 * v)/c\n",
    "\n",
    "plt.plot(v15, f(v15), 'xr', markersize=6 , label = 'Messdaten')\n",
    "\n",
    "# Ausgleichsrechung\n",
    "def g(x, a, b):\n",
    "    return a*x + b\n",
    "\n",
    "para, pcov = curve_fit(g, v15, f(v15))\n",
    "a, b = para\n",
    "fa, fb = np.sqrt(np.diag(pcov))\n",
    "ua = ufloat(a, fa) \n",
    "ub = ufloat(b, fb)\n",
    "\n",
    "xx = np.linspace(0, 1, 10**4)\n",
    "plt.plot(xx, g(xx, a, b), '-b', linewidth = 1, label = 'Ausgleichsfunktion', alpha=0.5)\n",
    "\n",
    "plt.xlabel(r'$v \\, / \\, \\mathrm{ms^{-1}}$')\n",
    "plt.ylabel(r'$\\frac{\\Delta \\nu}{\\cos (\\alpha)}$')\n",
    "plt.legend(loc=\"best\")                  \n",
    "plt.grid(True)                          \n",
    "plt.xlim(0, 1)                  \n",
    "plt.ylim(0, 0.014)"
   ]
  },
  {
   "cell_type": "markdown",
   "metadata": {},
   "source": [
    "30°:"
   ]
  },
  {
   "cell_type": "code",
   "execution_count": 138,
   "metadata": {},
   "outputs": [
    {
     "data": {
      "text/plain": [
       "(0.0, 0.018)"
      ]
     },
     "execution_count": 138,
     "metadata": {},
     "output_type": "execute_result"
    },
    {
     "data": {
      "image/png": "[encoded data removed]",
      "text/plain": [
       "<Figure size 432x288 with 1 Axes>"
      ]
     },
     "metadata": {
      "needs_background": "light"
     },
     "output_type": "display_data"
    }
   ],
   "source": [
    "v30 = abs(v30)\n",
    "plt.plot(v30, f(v30), 'xr', markersize=6 , label = 'Messdaten')\n",
    "\n",
    "# Ausgleichsrechung\n",
    "para, pcov = curve_fit(g, v30, f(v30))\n",
    "a, b = para\n",
    "fa, fb = np.sqrt(np.diag(pcov))\n",
    "ua = ufloat(a, fa) \n",
    "ub = ufloat(b, fb)\n",
    "\n",
    "xx = np.linspace(0, 1.4, 10**4)\n",
    "plt.plot(xx, g(xx, a, b), '-b', linewidth = 1, label = 'Ausgleichsfunktion', alpha=0.5)\n",
    "\n",
    "plt.xlabel(r'$v \\, / \\, \\mathrm{ms^{-1}}$')\n",
    "plt.ylabel(r'$\\frac{\\Delta \\nu}{\\cos (\\alpha)}$')\n",
    "plt.legend(loc=\"best\")                  \n",
    "plt.grid(True)                          \n",
    "plt.xlim(0, 1.3)                  \n",
    "plt.ylim(0, 0.018)"
   ]
  },
  {
   "cell_type": "markdown",
   "metadata": {},
   "source": [
    "60°:"
   ]
  },
  {
   "cell_type": "code",
   "execution_count": 139,
   "metadata": {},
   "outputs": [
    {
     "data": {
      "text/plain": [
       "(0.0, 0.015)"
      ]
     },
     "execution_count": 139,
     "metadata": {},
     "output_type": "execute_result"
    },
    {
     "data": {
      "image/png": "[encoded data removed]",
      "text/plain": [
       "<Figure size 432x288 with 1 Axes>"
      ]
     },
     "metadata": {
      "needs_background": "light"
     },
     "output_type": "display_data"
    }
   ],
   "source": [
    "plt.plot(v60, f(v60), 'xr', markersize=6 , label = 'Messdaten')\n",
    "\n",
    "# Ausgleichsrechung\n",
    "para, pcov = curve_fit(g, v60, f(v60))\n",
    "a, b = para\n",
    "fa, fb = np.sqrt(np.diag(pcov))\n",
    "ua = ufloat(a, fa) \n",
    "ub = ufloat(b, fb)\n",
    "\n",
    "xx = np.linspace(0, 1.4, 10**4)\n",
    "plt.plot(xx, g(xx, a, b), '-b', linewidth = 1, label = 'Ausgleichsfunktion', alpha=0.5)\n",
    "\n",
    "plt.xlabel(r'$v \\, / \\, \\mathrm{ms^{-1}}$')\n",
    "plt.ylabel(r'$\\frac{\\Delta \\nu}{\\cos (\\alpha)}$')\n",
    "plt.legend(loc=\"best\")                  \n",
    "plt.grid(True)                          \n",
    "plt.xlim(0, 1.1)                  \n",
    "plt.ylim(0, 0.015)"
   ]
  },
  {
   "cell_type": "markdown",
   "metadata": {},
   "source": [
    "#### Strömungsprofile bestimmen:"
   ]
  },
  {
   "cell_type": "markdown",
   "metadata": {},
   "source": [
    "70% Leistung:"
   ]
  },
  {
   "cell_type": "code",
   "execution_count": 140,
   "metadata": {},
   "outputs": [
    {
     "name": "stdout",
     "output_type": "stream",
     "text": [
      "[12.  12.5 13.  13.5 14.  14.5 15.  15.5 16.  16.5 17.  17.5 18.  18.5\n",
      " 19. ]\n",
      "\\begin{tabular}{c c c c}\n",
      "\\toprule\n",
      " x\\_mm &  v75 &   I75 \\\\\n",
      "\\midrule\n",
      " 0,00 &  0,0 &  20,0 \\\\\n",
      " 0,75 & 45,1 &  40,0 \\\\\n",
      " 1,50 & 53,1 &  59,0 \\\\\n",
      " 2,25 & 58,4 &  65,0 \\\\\n",
      " 3,00 & 66,3 &  74,0 \\\\\n",
      " 3,75 & 66,3 &  82,0 \\\\\n",
      " 4,50 & 63,7 &  99,0 \\\\\n",
      " 5,25 & 53,1 & 117,0 \\\\\n",
      " 6,00 & 53,1 & 140,0 \\\\\n",
      " 6,75 & 42,4 & 130,0 \\\\\n",
      " 7,50 & 37,1 &  88,0 \\\\\n",
      " 8,25 & 31,8 &  52,0 \\\\\n",
      " 9,00 &  0,0 &  27,0 \\\\\n",
      " 9,75 &  0,0 &  19,0 \\\\\n",
      "10,50 &  0,0 &  17,0 \\\\\n",
      "\\bottomrule\n",
      "\\end{tabular}\n",
      "\n"
     ]
    }
   ],
   "source": [
    "p75 = pd.read_csv('tables/75p.csv')\n",
    "np.savetxt('tables/p75.txt', p75.values, header='x_sec/micros delta_nu/Hz I_s/V^2/s', fmt='%.3f')\n",
    "x_sec, v75, I75 = np.genfromtxt('tables/p75.txt', unpack=True, skip_header=1)\n",
    "print(x_sec)\n",
    "x_mm = (6/4) * x_sec -18\n",
    "\n",
    "f = {'x_mm': x_mm, 'v75': v75, 'I75': I75}\n",
    "df = pd.DataFrame(data = f)\n",
    "print(df.to_latex(index = False, column_format= \"c c c c\", decimal=','))"
   ]
  },
  {
   "cell_type": "code",
   "execution_count": 141,
   "metadata": {},
   "outputs": [
    {
     "data": {
      "image/png": "[encoded data removed]",
      "text/plain": [
       "<Figure size 432x288 with 1 Axes>"
      ]
     },
     "metadata": {
      "needs_background": "light"
     },
     "output_type": "display_data"
    }
   ],
   "source": [
    "plt.plot(x_mm, v75, 'xr', markersize=6 , label = 'Momentangeschwindigkeit für P = 75%')\n",
    "\n",
    "plt.xlabel(r'$x \\, / \\, \\mathrm{mm}$')\n",
    "plt.ylabel(r'$v_{mom} \\, / \\, \\mathrm{cms^{-1}}$')\n",
    "plt.legend(loc=\"best\")                  \n",
    "plt.grid(True)"
   ]
  },
  {
   "cell_type": "code",
   "execution_count": 142,
   "metadata": {},
   "outputs": [
    {
     "data": {
      "image/png": "[encoded data removed]",
      "text/plain": [
       "<Figure size 432x288 with 1 Axes>"
      ]
     },
     "metadata": {
      "needs_background": "light"
     },
     "output_type": "display_data"
    }
   ],
   "source": [
    "plt.plot(x_mm, I75, 'xr', markersize=6 , label = 'Streuintensitäten für P = 75%')\n",
    "plt.xlabel(r'$x \\, / \\, \\mathrm{mm}$')\n",
    "plt.ylabel(r'$I_S \\, / \\, \\mathrm{V^2 s^{-1}}$')\n",
    "plt.legend(loc=\"best\")                  \n",
    "plt.grid(True) "
   ]
  },
  {
   "cell_type": "markdown",
   "metadata": {},
   "source": [
    "40% Leistung:"
   ]
  },
  {
   "cell_type": "code",
   "execution_count": 143,
   "metadata": {},
   "outputs": [
    {
     "name": "stdout",
     "output_type": "stream",
     "text": [
      "\\begin{tabular}{c c c c}\n",
      "\\toprule\n",
      " x\\_mm &  v45 &   I45 \\\\\n",
      "\\midrule\n",
      " 0,00 &  0,0 &   5,0 \\\\\n",
      " 0,75 &  0,0 &  18,0 \\\\\n",
      " 1,50 &  0,0 &  24,0 \\\\\n",
      " 2,25 & 26,5 &  51,0 \\\\\n",
      " 3,00 & 26,5 &  60,0 \\\\\n",
      " 3,75 & 26,5 &  73,0 \\\\\n",
      " 4,50 & 26,5 &  81,0 \\\\\n",
      " 5,25 & 23,9 & 102,0 \\\\\n",
      " 6,00 & 21,2 &  71,0 \\\\\n",
      " 6,75 & 18,6 &  69,0 \\\\\n",
      " 7,50 & 15,9 &  39,0 \\\\\n",
      " 8,25 &  0,0 &  14,0 \\\\\n",
      " 9,00 &  0,0 &   9,0 \\\\\n",
      " 9,75 &  0,0 &   8,0 \\\\\n",
      "10,50 &  0,0 &   7,0 \\\\\n",
      "\\bottomrule\n",
      "\\end{tabular}\n",
      "\n"
     ]
    }
   ],
   "source": [
    "p45 = pd.read_csv('tables/45p.csv')\n",
    "np.savetxt('tables/p45.txt', p45.values, header='x_sec/micros delta_nu/Hz I_s/V^2/s', fmt='%.3f')\n",
    "x_sec, v45, I45 = np.genfromtxt('tables/p45.txt', unpack=True, skip_header=1)\n",
    "f = {'x_mm': x_mm, 'v45': v45, 'I45': I45}\n",
    "df = pd.DataFrame(data = f)\n",
    "print(df.to_latex(index = False, column_format= \"c c c c\", decimal=','))"
   ]
  },
  {
   "cell_type": "code",
   "execution_count": 144,
   "metadata": {},
   "outputs": [
    {
     "data": {
      "image/png": "[encoded data removed]",
      "text/plain": [
       "<Figure size 432x288 with 1 Axes>"
      ]
     },
     "metadata": {
      "needs_background": "light"
     },
     "output_type": "display_data"
    }
   ],
   "source": [
    "plt.plot(x_mm, v45, 'xr', markersize=6 , label = 'Momentangeschwindigkeit für P = 45%')\n",
    "\n",
    "plt.xlabel(r'$x \\, / \\, \\mathrm{mm}$')\n",
    "plt.ylabel(r'$v_{mom} \\, / \\, \\mathrm{cms^{-1}}$')\n",
    "plt.legend(loc=\"best\")                  \n",
    "plt.grid(True)"
   ]
  },
  {
   "cell_type": "code",
   "execution_count": 145,
   "metadata": {},
   "outputs": [
    {
     "data": {
      "image/png": "[encoded data removed]",
      "text/plain": [
       "<Figure size 432x288 with 1 Axes>"
      ]
     },
     "metadata": {
      "needs_background": "light"
     },
     "output_type": "display_data"
    }
   ],
   "source": [
    "plt.plot(x_mm, I45, 'xr', markersize=6 , label = 'Streuintensitäten für P = 45%')\n",
    "plt.xlabel(r'$x \\, / \\, \\mathrm{mm}$')\n",
    "plt.ylabel(r'$I_S \\, / \\, \\mathrm{V^2 s^{-1}}$')\n",
    "plt.legend(loc=\"best\")                  \n",
    "plt.grid(True) "
   ]
  }
 ],
 "metadata": {
  "interpreter": {
   "hash": "35caa7b82a3757becf5a71cac731e28ec147500c0075d0177139a56986d9e143"
  },
  "kernelspec": {
   "display_name": "Python 3.8.8 ('base')",
   "language": "python",
   "name": "python3"
  },
  "language_info": {
   "codemirror_mode": {
    "name": "ipython",
    "version": 3
   },
   "file_extension": ".py",
   "mimetype": "text/x-python",
   "name": "python",
   "nbconvert_exporter": "python",
   "pygments_lexer": "ipython3",
   "version": "3.8.8"
  },
  "orig_nbformat": 4
 },
 "nbformat": 4,
 "nbformat_minor": 2
}

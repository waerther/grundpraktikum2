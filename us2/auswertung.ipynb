{
 "cells": [
  {
   "cell_type": "code",
   "execution_count": 114,
   "metadata": {},
   "outputs": [],
   "source": [
    "import matplotlib.pyplot as plt\n",
    "import matplotlib as mpl\n",
    "import numpy as np\n",
    "from numpy import sqrt\n",
    "import pandas as pd\n",
    "import scipy.constants as const\n",
    "from scipy.optimize import curve_fit                        # Funktionsfit:     popt, pcov = curve_fit(func, xdata, ydata) \n",
    "from uncertainties import ufloat                            # Fehler:           fehlerwert =  ulfaot(x, err)\n",
    "from uncertainties import unumpy as unp \n",
    "from uncertainties.unumpy import uarray                     # Array von Fehler: fehlerarray =  uarray(array, errarray)\n",
    "from uncertainties.unumpy import (nominal_values as noms,   # Wert:             noms(fehlerwert) = x\n",
    "                                  std_devs as stds)         # Abweichung:       stds(fehlerarray) = errarray"
   ]
  },
  {
   "cell_type": "markdown",
   "metadata": {},
   "source": [
    "A-Scan:\n",
    "Tabelle mit Laufzeiten, berechneten Abständenen und Durchmesser der Störstellen:"
   ]
  },
  {
   "cell_type": "code",
   "execution_count": 115,
   "metadata": {},
   "outputs": [
    {
     "name": "stdout",
     "output_type": "stream",
     "text": [
      "\\begin{tabular}{c c c c c c}\n",
      "\\toprule\n",
      " Stelle &  t\\_oben &  d\\_oben &  t\\_unten &  d\\_unten &  d\\_loch \\\\\n",
      "\\midrule\n",
      "      3 &    46,5 &    6,35 &     10,7 &     1,46 &    4,32 \\\\\n",
      "      4 &    40,4 &    5,51 &     17,5 &     2,39 &    3,37 \\\\\n",
      "      5 &    35,0 &    4,78 &     23,0 &     3,14 &    3,23 \\\\\n",
      "      6 &    28,5 &    3,89 &     29,4 &     4,01 &    3,37 \\\\\n",
      "      7 &    23,5 &    3,21 &     35,5 &     4,85 &    1,86 \\\\\n",
      "      8 &    16,0 &    2,18 &     40,8 &     5,57 &    4,87 \\\\\n",
      "      9 &    13,0 &    1,77 &     46,6 &     6,36 &    1,05 \\\\\n",
      "     10 &     6,5 &    0,89 &      NaN &      NaN &     NaN \\\\\n",
      "     11 &    41,5 &    5,66 &     12,4 &     1,69 &    8,83 \\\\\n",
      "\\bottomrule\n",
      "\\end{tabular}\n",
      "\n"
     ]
    }
   ],
   "source": [
    "md = pd.read_csv('tables/a_acryl.csv')\n",
    "np.savetxt('tables/a_acryl.txt', md.values, header='Störstelle t_oben t_unten', fmt='%.3f')\n",
    "stelle, t_oben, t_unten = np.genfromtxt('tables/a_acryl.txt', unpack=True, skip_header=1)\n",
    "\n",
    "c_acryl = 2730                              # m/s\n",
    "d_oben =  0.5 * c_acryl * t_oben * 1e-6     # m\n",
    "d_unten = 0.5 * c_acryl * t_unten * 1e-6    # m\n",
    "d_loch = 0.0804 - d_oben - d_unten + 0.002  # schutzschicht der sonde\n",
    "\n",
    "stelle = stelle.astype(int)\n",
    "d_oben *= 100; d_oben = np.round(d_oben, 2)\n",
    "d_unten *= 100; d_unten = np.round(d_unten, 2)\n",
    "d_loch *= 1000; d_loch_a = np.round(d_loch, 2)\n",
    "\n",
    "f = {'Stelle': stelle, 't_oben': t_oben, 'd_oben': d_oben, 't_unten': t_unten, 'd_unten': d_unten, 'd_loch': d_loch_a}\n",
    "df = pd.DataFrame(data = f)\n",
    "print(df.to_latex(index = False, column_format= \"c c c c c c\", decimal=',')) \n"
   ]
  },
  {
   "cell_type": "markdown",
   "metadata": {},
   "source": [
    "Abweichung:"
   ]
  },
  {
   "cell_type": "code",
   "execution_count": 116,
   "metadata": {},
   "outputs": [
    {
     "name": "stdout",
     "output_type": "stream",
     "text": [
      "[25.51724138 28.29787234 10.27777778 17.83216783 34.96503497 70.27972028\n",
      " 63.28671329         nan  1.88888889]\n"
     ]
    }
   ],
   "source": [
    "d_loch_real = np.array([5.8, 4.7, 3.6, 2.86, 2.86, 2.86, 2.86, 2.86, 9])\n",
    "delta_d_loch_a = 100 *abs(d_loch_a - d_loch_real)/d_loch_real\n",
    "print(delta_d_loch_a)"
   ]
  },
  {
   "cell_type": "markdown",
   "metadata": {},
   "source": [
    "B-Scan:"
   ]
  },
  {
   "cell_type": "code",
   "execution_count": 117,
   "metadata": {},
   "outputs": [
    {
     "name": "stdout",
     "output_type": "stream",
     "text": [
      "\\begin{tabular}{c c c c c c}\n",
      "\\toprule\n",
      " Stelle &  t\\_oben &  d\\_oben &  t\\_unten &  d\\_unten &  d\\_loch \\\\\n",
      "\\midrule\n",
      "      3 &    45,5 &    6,21 &     11,0 &     1,50 &    5,28 \\\\\n",
      "      4 &    40,3 &    5,50 &     16,5 &     2,25 &    4,87 \\\\\n",
      "      5 &    34,5 &    4,71 &     24,0 &     3,28 &    2,55 \\\\\n",
      "      6 &    28,8 &    3,93 &     29,5 &     4,03 &    2,82 \\\\\n",
      "      7 &    23,3 &    3,18 &     35,2 &     4,80 &    2,55 \\\\\n",
      "      8 &    17,3 &    2,36 &     41,0 &     5,60 &    2,82 \\\\\n",
      "      9 &    11,4 &    1,56 &     47,0 &     6,42 &    2,68 \\\\\n",
      "     10 &     5,5 &    0,75 &      NaN &      NaN &     NaN \\\\\n",
      "     11 &    41,5 &    5,66 &     12,0 &     1,64 &    9,37 \\\\\n",
      "\\bottomrule\n",
      "\\end{tabular}\n",
      "\n"
     ]
    }
   ],
   "source": [
    "md = pd.read_csv('tables/b_acryl.csv')\n",
    "np.savetxt('tables/b_acryl.txt', md.values, header='Störstelle t_oben t_unten', fmt='%.3f')\n",
    "stelle, t_oben, t_unten = np.genfromtxt('tables/b_acryl.txt', unpack=True, skip_header=1)\n",
    "\n",
    "c_acryl = 2730                              # m/s\n",
    "d_oben =  0.5 * c_acryl * t_oben * 1e-6     # m\n",
    "d_unten = 0.5 * c_acryl * t_unten * 1e-6    # m\n",
    "d_loch = 0.0804 - d_oben - d_unten + 0.002  # schutzschicht der sonde\n",
    "\n",
    "stelle = stelle.astype(int)\n",
    "d_oben *= 100; d_oben = np.round(d_oben, 2)\n",
    "d_unten *= 100; d_unten = np.round(d_unten, 2)\n",
    "d_loch *= 1000; d_loch_b = np.round(d_loch, 2)\n",
    "\n",
    "f = {'Stelle': stelle, 't_oben': t_oben, 'd_oben': d_oben, 't_unten': t_unten, 'd_unten': d_unten, 'd_loch': d_loch_b}\n",
    "df = pd.DataFrame(data = f)\n",
    "print(df.to_latex(index = False, column_format= \"c c c c c c\", decimal=',')) "
   ]
  },
  {
   "cell_type": "markdown",
   "metadata": {},
   "source": [
    "Vergleich:"
   ]
  },
  {
   "cell_type": "code",
   "execution_count": 125,
   "metadata": {},
   "outputs": [
    {
     "name": "stdout",
     "output_type": "stream",
     "text": [
      "\\begin{tabular}{c c c c}\n",
      "\\toprule\n",
      " Stelle &  d\\_loch (A-Scan) &  d\\_loch (B-Scan) &  d\\_loch (real) \\\\\n",
      "\\midrule\n",
      "      3 &             4,32 &             5,28 &           5,80 \\\\\n",
      "      4 &             3,37 &             4,87 &           4,70 \\\\\n",
      "      5 &             3,23 &             2,55 &           3,60 \\\\\n",
      "      6 &             3,37 &             2,82 &           2,86 \\\\\n",
      "      7 &             1,86 &             2,55 &           2,86 \\\\\n",
      "      8 &             4,87 &             2,82 &           2,86 \\\\\n",
      "      9 &             1,05 &             2,68 &           2,86 \\\\\n",
      "     10 &              NaN &              NaN &           2,86 \\\\\n",
      "     11 &             8,83 &             9,37 &           9,00 \\\\\n",
      "\\bottomrule\n",
      "\\end{tabular}\n",
      "\n"
     ]
    }
   ],
   "source": [
    "delta_d_loch_b = 100 *abs(d_loch_b - d_loch_real)/d_loch_real\n",
    "vgl = {'Stelle': stelle, 'd_loch (A-Scan)': d_loch_a, 'd_loch (B-Scan)': d_loch_b, 'd_loch (real)': d_loch_real}\n",
    "dvgl = pd.DataFrame(data = vgl)\n",
    "print(dvgl.to_latex(index = False, column_format= \"c c c c\", decimal=','))"
   ]
  },
  {
   "cell_type": "markdown",
   "metadata": {},
   "source": [
    "Abweichung insgesamt:"
   ]
  },
  {
   "cell_type": "code",
   "execution_count": 122,
   "metadata": {},
   "outputs": [
    {
     "name": "stdout",
     "output_type": "stream",
     "text": [
      "\\begin{tabular}{c c c}\n",
      "\\toprule\n",
      " Stelle &  delta\\_d\\_loch (A-Scan) &  delta\\_d\\_loch (B-Scan) \\\\\n",
      "\\midrule\n",
      "      3 &                  25,52 &                   8,97 \\\\\n",
      "      4 &                  28,30 &                   3,62 \\\\\n",
      "      5 &                  10,28 &                  29,17 \\\\\n",
      "      6 &                  17,83 &                   1,40 \\\\\n",
      "      7 &                  34,97 &                  10,84 \\\\\n",
      "      8 &                  70,28 &                   1,40 \\\\\n",
      "      9 &                  63,29 &                   6,29 \\\\\n",
      "     10 &                    NaN &                    NaN \\\\\n",
      "     11 &                   1,89 &                   4,11 \\\\\n",
      "\\bottomrule\n",
      "\\end{tabular}\n",
      "\n"
     ]
    }
   ],
   "source": [
    "f = {'Stelle': stelle, 'delta_d_loch (A-Scan)': np.round(delta_d_loch_a, 2), 'delta_d_loch (B-Scan)': np.round(delta_d_loch_b, 2)}\n",
    "df = pd.DataFrame(data = f)\n",
    "print(df.to_latex(index = False, column_format= \"c c c\", decimal=',')) "
   ]
  }
 ],
 "metadata": {
  "kernelspec": {
   "display_name": "Python 3.8.8 ('base')",
   "language": "python",
   "name": "python3"
  },
  "language_info": {
   "codemirror_mode": {
    "name": "ipython",
    "version": 3
   },
   "file_extension": ".py",
   "mimetype": "text/x-python",
   "name": "python",
   "nbconvert_exporter": "python",
   "pygments_lexer": "ipython3",
   "version": "3.8.8"
  },
  "orig_nbformat": 4,
  "vscode": {
   "interpreter": {
    "hash": "35caa7b82a3757becf5a71cac731e28ec147500c0075d0177139a56986d9e143"
   }
  }
 },
 "nbformat": 4,
 "nbformat_minor": 2
}

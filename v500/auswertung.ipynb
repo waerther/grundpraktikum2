{
 "cells": [
  {
   "cell_type": "code",
   "execution_count": 2,
   "metadata": {},
   "outputs": [],
   "source": [
    "import pandas as pd\n",
    "import matplotlib.pyplot as plt\n",
    "import numpy as np\n",
    "from scipy.optimize import curve_fit                        # Funktionsfit:     popt, pcov = curve_fit(func, xdata, ydata) \n",
    "from uncertainties import ufloat                            # Fehler:           fehlerwert =  ulfaot(x, err)\n",
    "from uncertainties.unumpy import uarray                     # Array von Fehler: fehlerarray =  uarray(array, errarray)\n",
    "from uncertainties.unumpy import (nominal_values as noms,   # Wert:             noms(fehlerwert) = x\n",
    "                                  std_devs as stds)         # Abweichung:       stds(fehlerarray) = errarray\n",
    "from uncertainties import unumpy as unp \n",
    "import scipy.constants as const\n",
    "import os\n"
   ]
  },
  {
   "cell_type": "markdown",
   "metadata": {},
   "source": [
    "Tabelle erstellen:"
   ]
  },
  {
   "cell_type": "code",
   "execution_count": 3,
   "metadata": {},
   "outputs": [
    {
     "name": "stdout",
     "output_type": "stream",
     "text": [
      "\\begin{tabular}{c c}\n",
      "\\toprule\n",
      " U / V &  I / 10\\textasciicircum -9 A \\\\\n",
      "\\midrule\n",
      " 1,283 &        0,000 \\\\\n",
      " 1,200 &        0,040 \\\\\n",
      " 1,100 &        0,075 \\\\\n",
      " 1,000 &        0,145 \\\\\n",
      " 0,900 &        0,200 \\\\\n",
      " 0,800 &        0,298 \\\\\n",
      " 0,700 &        0,415 \\\\\n",
      " 0,600 &        0,540 \\\\\n",
      " 0,500 &        0,660 \\\\\n",
      " 0,400 &        0,780 \\\\\n",
      " 0,300 &        0,920 \\\\\n",
      " 0,200 &        1,000 \\\\\n",
      " 0,100 &        1,200 \\\\\n",
      " 0,050 &        1,200 \\\\\n",
      " 0,000 &        1,300 \\\\\n",
      "\\bottomrule\n",
      "\\end{tabular}\n",
      "\n"
     ]
    },
    {
     "name": "stderr",
     "output_type": "stream",
     "text": [
      "/tmp/ipykernel_919/2291014104.py:3: FutureWarning: In future versions `DataFrame.to_latex` is expected to utilise the base implementation of `Styler.to_latex` for formatting and rendering. The arguments signature may therefore change. It is recommended instead to use `DataFrame.style.to_latex` which also contains additional functionality.\n",
      "  print(md.to_latex(index = False, column_format= \"c c\", decimal=','))\n"
     ]
    }
   ],
   "source": [
    "md = pd.read_csv('tables/spek1.csv')\n",
    "md_a = md.iloc[:, [0,1]]\n",
    "print(md.to_latex(index = False, column_format= \"c c\", decimal=',')) "
   ]
  },
  {
   "cell_type": "markdown",
   "metadata": {},
   "source": [
    "Daten auswerten:"
   ]
  },
  {
   "cell_type": "code",
   "execution_count": 1,
   "metadata": {},
   "outputs": [
    {
     "ename": "NameError",
     "evalue": "name 'pd' is not defined",
     "output_type": "error",
     "traceback": [
      "\u001b[0;31m---------------------------------------------------------------------------\u001b[0m",
      "\u001b[0;31mNameError\u001b[0m                                 Traceback (most recent call last)",
      "\u001b[1;32m/mnt/c/Users/tobyt/OneDrive/Desktop/Praktikumsberichte/grundpraktikum2/v500/auswertung.ipynb Cell 5'\u001b[0m in \u001b[0;36m<cell line: 3>\u001b[0;34m()\u001b[0m\n\u001b[1;32m      <a href='vscode-notebook-cell://wsl%2Bubuntu-20.04/mnt/c/Users/tobyt/OneDrive/Desktop/Praktikumsberichte/grundpraktikum2/v500/auswertung.ipynb#ch0000004vscode-remote?line=0'>1</a>\u001b[0m \u001b[39m# Lineare Regression\u001b[39;00m\n\u001b[1;32m      <a href='vscode-notebook-cell://wsl%2Bubuntu-20.04/mnt/c/Users/tobyt/OneDrive/Desktop/Praktikumsberichte/grundpraktikum2/v500/auswertung.ipynb#ch0000004vscode-remote?line=1'>2</a>\u001b[0m \u001b[39m#Daten auslesen\u001b[39;00m\n\u001b[0;32m----> <a href='vscode-notebook-cell://wsl%2Bubuntu-20.04/mnt/c/Users/tobyt/OneDrive/Desktop/Praktikumsberichte/grundpraktikum2/v500/auswertung.ipynb#ch0000004vscode-remote?line=2'>3</a>\u001b[0m md1 \u001b[39m=\u001b[39m pd\u001b[39m.\u001b[39mread_csv(\u001b[39mr\u001b[39m\u001b[39m\"\u001b[39m\u001b[39mtables/spek4s.csv\u001b[39m\u001b[39m\"\u001b[39m)\n\u001b[1;32m      <a href='vscode-notebook-cell://wsl%2Bubuntu-20.04/mnt/c/Users/tobyt/OneDrive/Desktop/Praktikumsberichte/grundpraktikum2/v500/auswertung.ipynb#ch0000004vscode-remote?line=3'>4</a>\u001b[0m md1 \u001b[39m=\u001b[39m pd\u001b[39m.\u001b[39mDataFrame(md1)\u001b[39m.\u001b[39mto_numpy()\n\u001b[1;32m      <a href='vscode-notebook-cell://wsl%2Bubuntu-20.04/mnt/c/Users/tobyt/OneDrive/Desktop/Praktikumsberichte/grundpraktikum2/v500/auswertung.ipynb#ch0000004vscode-remote?line=5'>6</a>\u001b[0m \u001b[39m# x = md1[:,0]\u001b[39;00m\n\u001b[1;32m      <a href='vscode-notebook-cell://wsl%2Bubuntu-20.04/mnt/c/Users/tobyt/OneDrive/Desktop/Praktikumsberichte/grundpraktikum2/v500/auswertung.ipynb#ch0000004vscode-remote?line=6'>7</a>\u001b[0m \u001b[39m# y = md1[:,1]\u001b[39;00m\n\u001b[1;32m      <a href='vscode-notebook-cell://wsl%2Bubuntu-20.04/mnt/c/Users/tobyt/OneDrive/Desktop/Praktikumsberichte/grundpraktikum2/v500/auswertung.ipynb#ch0000004vscode-remote?line=7'>8</a>\u001b[0m \u001b[39m# y = np.sqrt(y)\u001b[39;00m\n\u001b[1;32m      <a href='vscode-notebook-cell://wsl%2Bubuntu-20.04/mnt/c/Users/tobyt/OneDrive/Desktop/Praktikumsberichte/grundpraktikum2/v500/auswertung.ipynb#ch0000004vscode-remote?line=8'>9</a>\u001b[0m \n\u001b[1;32m     <a href='vscode-notebook-cell://wsl%2Bubuntu-20.04/mnt/c/Users/tobyt/OneDrive/Desktop/Praktikumsberichte/grundpraktikum2/v500/auswertung.ipynb#ch0000004vscode-remote?line=9'>10</a>\u001b[0m \u001b[39m# Für gelb\u001b[39;00m\n",
      "\u001b[0;31mNameError\u001b[0m: name 'pd' is not defined"
     ]
    }
   ],
   "source": [
    "# Lineare Regression\n",
    "#Daten auslesen\n",
    "md1 = pd.read_csv(r\"tables/spek4s.csv\")\n",
    "md1 = pd.DataFrame(md1).to_numpy()\n",
    "\n",
    "# x = md1[:,0]\n",
    "# y = md1[:,1]\n",
    "# y = np.sqrt(y)\n",
    "\n",
    "# Für gelb\n",
    "x1 = md1[:-1,0]\n",
    "x2 = md1[:,2] * -1 # Weil das mit Pandas und negativen Zahlen nicht klappt beim auslesen aus csv\n",
    "y1 = md1[:-1,1]\n",
    "y2 = md1[:,3]\n",
    "\n",
    "x = np.append(x1,x2)\n",
    "# y = np.append(y1,y2)\n",
    "\n",
    "# Fit a polynomial of degree 1, return covariance matrix\n",
    "params, covariance_matrix = np.polyfit(x, y, deg=1, cov=True)\n",
    "\n",
    "errors = np.sqrt(np.diag(covariance_matrix))\n",
    "\n",
    "for name, value, error in zip('ab', params, errors):\n",
    "    print(f'{name} = {value:.3f} ± {error:.3f}')\n",
    "\n",
    "x_plot = np.linspace(x[-1], x[0])\n",
    "\n",
    "plt.plot(x, y, 'x', label=\"Messwerte\")\n",
    "#plt.plot(\n",
    "#    x_plot,\n",
    "#    params[0] * x_plot + params[1],\n",
    "#    label='Lineare Regression',\n",
    "#    linewidth=1,\n",
    "#)\n",
    "plt.xlabel(r'$U / V$')\n",
    "plt.ylabel(r'$I / {nA} $')\n",
    "plt.grid(ls=':')\n",
    "plt.legend(loc=\"best\")\n",
    "\n",
    "#Speichern des Plots (und überprüfen ob schon vorhanden)\n",
    "path = '/pictures/'\n",
    "if os.path.exists('spek4s.pdf'):\n",
    "    os.remove('spek4s.pdf')\n",
    "plt.savefig('pictures/spek4s.pdf')"
   ]
  },
  {
   "cell_type": "code",
   "execution_count": null,
   "metadata": {},
   "outputs": [
    {
     "name": "stdout",
     "output_type": "stream",
     "text": [
      "0.57+/-0.04\n"
     ]
    }
   ],
   "source": [
    "# U_G berechnen\n",
    "a = ufloat(-0.531 ,  0.033)\n",
    "b = ufloat(0.302 , 0.010)\n",
    "Ug = - (b / a)\n",
    "print(Ug)"
   ]
  },
  {
   "cell_type": "markdown",
   "metadata": {},
   "source": [
    "Berechnung von h / e_0 und Austrittsarbeit"
   ]
  },
  {
   "cell_type": "code",
   "execution_count": null,
   "metadata": {},
   "outputs": [
    {
     "ename": "NameError",
     "evalue": "name 'np' is not defined",
     "output_type": "error",
     "traceback": [
      "\u001b[0;31m---------------------------------------------------------------------------\u001b[0m",
      "\u001b[0;31mNameError\u001b[0m                                 Traceback (most recent call last)",
      "\u001b[1;32m/mnt/c/Users/tobyt/OneDrive/Desktop/Praktikumsberichte/grundpraktikum2/v500/auswertung.ipynb Cell 8'\u001b[0m in \u001b[0;36m<cell line: 2>\u001b[0;34m()\u001b[0m\n\u001b[1;32m      <a href='vscode-notebook-cell://wsl%2Bubuntu-20.04/mnt/c/Users/tobyt/OneDrive/Desktop/Praktikumsberichte/grundpraktikum2/v500/auswertung.ipynb#ch0000007vscode-remote?line=0'>1</a>\u001b[0m \u001b[39m# Daten einlesen\u001b[39;00m\n\u001b[0;32m----> <a href='vscode-notebook-cell://wsl%2Bubuntu-20.04/mnt/c/Users/tobyt/OneDrive/Desktop/Praktikumsberichte/grundpraktikum2/v500/auswertung.ipynb#ch0000007vscode-remote?line=1'>2</a>\u001b[0m x \u001b[39m=\u001b[39m  np\u001b[39m.\u001b[39marray([\u001b[39m821.9\u001b[39m ,\u001b[39m983.6\u001b[39m ,\u001b[39m549.4\u001b[39m ,\u001b[39m519.9\u001b[39m ,\u001b[39m465.8\u001b[39m]) \u001b[39m*\u001b[39m \u001b[39m10\u001b[39m\u001b[39m*\u001b[39m\u001b[39m*\u001b[39m\u001b[39m12\u001b[39m\n\u001b[1;32m      <a href='vscode-notebook-cell://wsl%2Bubuntu-20.04/mnt/c/Users/tobyt/OneDrive/Desktop/Praktikumsberichte/grundpraktikum2/v500/auswertung.ipynb#ch0000007vscode-remote?line=2'>3</a>\u001b[0m y \u001b[39m=\u001b[39m np\u001b[39m.\u001b[39marray([\u001b[39m1.430\u001b[39m ,\u001b[39m1.24\u001b[39m  ,\u001b[39m0.687\u001b[39m ,\u001b[39m0.560\u001b[39m ,\u001b[39m0.570\u001b[39m])\n\u001b[1;32m      <a href='vscode-notebook-cell://wsl%2Bubuntu-20.04/mnt/c/Users/tobyt/OneDrive/Desktop/Praktikumsberichte/grundpraktikum2/v500/auswertung.ipynb#ch0000007vscode-remote?line=4'>5</a>\u001b[0m \u001b[39mprint\u001b[39m(x)\n",
      "\u001b[0;31mNameError\u001b[0m: name 'np' is not defined"
     ]
    }
   ],
   "source": [
    "# Daten einlesen\n",
    "x =  np.array([821.9 ,983.6 ,549.4 ,519.9 ,465.8]) * 10**12\n",
    "y = np.array([1.430 ,1.24  ,0.687 ,0.560 ,0.570])\n",
    "\n",
    "print(x)\n",
    "print(y)\n",
    "\n",
    "params, covariance_matrix = np.polyfit(x, y, deg=1, cov=True)\n",
    "\n",
    "errors = np.sqrt(np.diag(covariance_matrix))\n",
    "\n",
    "for name, value, error in zip('ab', params, errors):\n",
    "    print(f'{name} = {value} ± {error}')\n",
    "\n",
    "x_plot = np.linspace(np.min(x), np.max(x))\n",
    "\n",
    "plt.plot(x, y, 'x', label=\"Messwerte\")\n",
    "plt.plot(\n",
    "    x_plot,\n",
    "    params[0] * x_plot + params[1],\n",
    "    label='Lineare Regression',\n",
    "    linewidth=1,\n",
    ")\n",
    "plt.xlabel(r'$U / V$')\n",
    "plt.ylabel(r'$I / {nA} $')\n",
    "plt.grid(ls=':')\n",
    "plt.legend(loc=\"best\")\n",
    "\n",
    "#Speichern des Plots (und überprüfen ob schon vorhanden)\n",
    "path = '/pictures/'\n",
    "if os.path.exists('austritt.pdf'):\n",
    "    os.remove('austritt.pdf')\n",
    "plt.savefig('pictures/austritt.pdf')"
   ]
  },
  {
   "cell_type": "code",
   "execution_count": null,
   "metadata": {},
   "outputs": [],
   "source": [
    "np.savetxt('tables/a.txt', md.values, header='f/Hz U/V', fmt='%.3f')\n",
    "f, U = np.genfromtxt('tables/a.txt', unpack=True, skip_header=1)\n",
    "\n",
    "def g(f, T):\n",
    "    w = 2 * np.pi * f\n",
    "    return 1 / (np.sqrt(1 + w**2 * T**2))\n",
    "\n",
    "para, pcov = curve_fit(g, f, U)\n",
    "pcov = np.sqrt(np.diag(pcov))\n",
    "a = para\n",
    "fa = pcov "
   ]
  },
  {
   "cell_type": "markdown",
   "metadata": {},
   "source": [
    "Fehler berechnen:"
   ]
  },
  {
   "cell_type": "code",
   "execution_count": null,
   "metadata": {},
   "outputs": [
    {
     "name": "stdout",
     "output_type": "stream",
     "text": [
      "T = (500826.696 +- 87251.629 )10^-6\n"
     ]
    }
   ],
   "source": [
    "ua = ufloat(a, fa) * 1e6\n",
    "T = ua\n",
    "print('T = (%.3f +- %.3f )10^-6' % (noms(T), stds(T)))"
   ]
  },
  {
   "cell_type": "markdown",
   "metadata": {},
   "source": [
    "Plot erstellen:"
   ]
  },
  {
   "cell_type": "code",
   "execution_count": null,
   "metadata": {},
   "outputs": [
    {
     "data": {
      "text/plain": [
       "(200, 150000)"
      ]
     },
     "execution_count": 7,
     "metadata": {},
     "output_type": "execute_result"
    },
    {
     "data": {
      "image/png": "[encoded data removed]",
      "text/plain": [
       "<Figure size 432x288 with 1 Axes>"
      ]
     },
     "metadata": {
      "needs_background": "light"
     },
     "output_type": "display_data"
    }
   ],
   "source": [
    "\n",
    "plt.plot(f, U, 'xr', markersize=6 , label = 'Messwerte', alpha=0.5)        # alpha: opacity\n",
    "xx = np.linspace(100, 150000, 10**4)\n",
    "plt.plot(xx, g(xx, a), '-b', linewidth = 1, label = 'Ausgleichsfunktion')\n",
    "\n",
    "plt.xlabel(r'$f \\, / \\, \\mathrm{Hz}$')\n",
    "plt.ylabel(r'$A(\\omega) \\, / \\, U_0$')\n",
    "plt.xscale('log')                       # axis scale \n",
    "plt.legend(loc=\"best\")                  # legend position\n",
    "plt.grid(True)                          # grid style\n",
    "plt.xlim(200, 150000)                   # limitation of visible scale in plot"
   ]
  }
 ],
 "metadata": {
  "interpreter": {
   "hash": "4ef32ed23c28cedd878486b9bb2ae1d1ed39a4ae162496b7d4dd2e637309db31"
  },
  "kernelspec": {
   "display_name": "Python 3.8.8 ('base')",
   "language": "python",
   "name": "python3"
  },
  "language_info": {
   "codemirror_mode": {
    "name": "ipython",
    "version": 3
   },
   "file_extension": ".py",
   "mimetype": "text/x-python",
   "name": "python",
   "nbconvert_exporter": "python",
   "pygments_lexer": "ipython3",
   "version": "3.8.8"
  },
  "orig_nbformat": 4
 },
 "nbformat": 4,
 "nbformat_minor": 2
}

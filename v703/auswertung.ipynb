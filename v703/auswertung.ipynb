{
 "cells": [
  {
   "cell_type": "code",
   "execution_count": 111,
   "metadata": {},
   "outputs": [],
   "source": [
    "import numpy as np\n",
    "from numpy import sqrt\n",
    "import matplotlib.pyplot as plt\n",
    "import pandas as pd\n",
    "import scipy.constants as const\n",
    "from scipy.optimize import curve_fit                        # Funktionsfit:     popt, pcov = curve_fit(func, xdata, ydata) \n",
    "from uncertainties import ufloat                            # Fehler:           fehlerwert =  ulfaot(x, err)\n",
    "from uncertainties import unumpy as unp \n",
    "from uncertainties.unumpy import uarray                     # Array von Fehler: fehlerarray =  uarray(array, errarray)\n",
    "from uncertainties.unumpy import (nominal_values as noms,   # Wert:             noms(fehlerwert) = x\n",
    "                                  std_devs as stds)         # Abweichung:       stds(fehlerarray) = errarray"
   ]
  },
  {
   "cell_type": "markdown",
   "metadata": {},
   "source": [
    "Tabelle erstellen:"
   ]
  },
  {
   "cell_type": "code",
   "execution_count": 112,
   "metadata": {},
   "outputs": [
    {
     "name": "stdout",
     "output_type": "stream",
     "text": [
      "\\begin{tabular}{c c}\n",
      "\\toprule\n",
      " U/V &     n \\\\\n",
      "\\midrule\n",
      " 330 & 11649 \\\\\n",
      " 340 & 11928 \\\\\n",
      " 350 & 12322 \\\\\n",
      " 360 & 12488 \\\\\n",
      " 370 & 12538 \\\\\n",
      " 380 & 12482 \\\\\n",
      " 390 & 12726 \\\\\n",
      " 400 & 12510 \\\\\n",
      " 410 & 12494 \\\\\n",
      " 420 & 12678 \\\\\n",
      " 430 & 12718 \\\\\n",
      " 440 & 12487 \\\\\n",
      " 450 & 12825 \\\\\n",
      " 460 & 12824 \\\\\n",
      " 470 & 12850 \\\\\n",
      " 480 & 12862 \\\\\n",
      " 490 & 12962 \\\\\n",
      " 500 & 12882 \\\\\n",
      " 510 & 12815 \\\\\n",
      " 520 & 12954 \\\\\n",
      " 530 & 12922 \\\\\n",
      " 540 & 12996 \\\\\n",
      " 550 & 12914 \\\\\n",
      " 560 & 12854 \\\\\n",
      " 570 & 12916 \\\\\n",
      " 580 & 12931 \\\\\n",
      " 590 & 13047 \\\\\n",
      " 600 & 13003 \\\\\n",
      " 610 & 12837 \\\\\n",
      " 620 & 12718 \\\\\n",
      " 630 & 13000 \\\\\n",
      " 640 & 12967 \\\\\n",
      " 650 & 13132 \\\\\n",
      " 660 & 13129 \\\\\n",
      " 670 & 13269 \\\\\n",
      " 680 & 13438 \\\\\n",
      " 690 & 13413 \\\\\n",
      " 700 & 13552 \\\\\n",
      "\\bottomrule\n",
      "\\end{tabular}\n",
      "\n"
     ]
    }
   ],
   "source": [
    "md = pd.read_csv('tables/md.csv')\n",
    "md1 = md.iloc[:, [0,1]]\n",
    "print(md1.to_latex(index = False, column_format= \"c c\", decimal=',')) "
   ]
  },
  {
   "cell_type": "markdown",
   "metadata": {},
   "source": [
    "#### Aufgabenteil a)"
   ]
  },
  {
   "cell_type": "markdown",
   "metadata": {},
   "source": [
    "Daten auswerten:"
   ]
  },
  {
   "cell_type": "code",
   "execution_count": 113,
   "metadata": {},
   "outputs": [],
   "source": [
    "np.savetxt('tables/a.txt', md1.values, header='f/Hz U/V', fmt='%.3f')\n",
    "U, N = np.genfromtxt('tables/a.txt', unpack=True, skip_header=1)\n",
    "# Plateaubereich 380 - 620 V\n",
    "Up = U[5:30]\n",
    "Np = N[5:30]\n",
    "\n",
    "# Ausgleichsgerade\n",
    "def g(u, a, b):\n",
    "    return a * u + b\n",
    "\n",
    "para, pcov = curve_fit(g, Up, Np)\n",
    "a, b = para\n",
    "pcov = sqrt(np.diag(pcov))\n",
    "fa, fb = pcov "
   ]
  },
  {
   "cell_type": "markdown",
   "metadata": {},
   "source": [
    "Fehler berechnen:"
   ]
  },
  {
   "cell_type": "code",
   "execution_count": 114,
   "metadata": {},
   "outputs": [
    {
     "name": "stdout",
     "output_type": "stream",
     "text": [
      "a = (1.612 ± 0.337)\n",
      "b = (12002.203 ± 170.080)\n"
     ]
    }
   ],
   "source": [
    "ua = ufloat(a, fa)\n",
    "ub = ufloat(b, fb)\n",
    "print('a = (%.3f ± %.3f)' % (noms(ua), stds(ua)))\n",
    "print('b = (%.3f ± %.3f)' % (noms(ub), stds(ub)))"
   ]
  },
  {
   "cell_type": "markdown",
   "metadata": {},
   "source": [
    "Plot erstellen:"
   ]
  },
  {
   "cell_type": "code",
   "execution_count": 115,
   "metadata": {},
   "outputs": [
    {
     "data": {
      "text/plain": [
       "(11500.0, 13800.0)"
      ]
     },
     "execution_count": 115,
     "metadata": {},
     "output_type": "execute_result"
    },
    {
     "data": {
      "image/png": "[encoded data removed]",
      "text/plain": [
       "<Figure size 432x288 with 1 Axes>"
      ]
     },
     "metadata": {
      "needs_background": "light"
     },
     "output_type": "display_data"
    }
   ],
   "source": [
    "\n",
    "#plt.plot(N, U, 'xr', markersize=6 , label = 'Messdaten', alpha=0.5)\n",
    "xx = np.linspace(380, 620, 10000)\n",
    "# N Poisson-verteilt\n",
    "dN = sqrt(N)\n",
    "plt.errorbar(U, N, yerr = dN, fmt='r.', elinewidth = 1, capsize = 2, label = 'Messdaten')\n",
    "plt.plot(xx, g(xx, a, b), '-b', linewidth = 1, label = 'Plateaugerade')\n",
    "\n",
    "plt.xlabel(r'$U \\, / \\, \\mathrm{V}$')\n",
    "plt.ylabel(r'Impulse N')\n",
    "plt.legend(loc=\"best\")                  # legend position\n",
    "plt.grid(True)                          # grid style\n",
    "plt.xlim(300, 730)                      # limitation of visible scale in plot\n",
    "plt.ylim(11500, 13800)"
   ]
  },
  {
   "cell_type": "markdown",
   "metadata": {},
   "source": [
    "Güte des Geiger-Müller-Zählrohrs in % pro 100 V:"
   ]
  },
  {
   "cell_type": "code",
   "execution_count": 116,
   "metadata": {},
   "outputs": [
    {
     "name": "stdout",
     "output_type": "stream",
     "text": [
      "M = (1.259 ± 0.247)\n"
     ]
    }
   ],
   "source": [
    "M = (1 - (ua * 400 + ub)/(ua * 500 + ub))*100\n",
    "print('M = (%.3f ± %.3f)' % (noms(M), stds(M)))"
   ]
  },
  {
   "cell_type": "markdown",
   "metadata": {},
   "source": [
    "#### Aufgabenteil c)\n",
    "Bestimmung der Tot-Zeit (Zwei-Quellen-Methode):"
   ]
  },
  {
   "cell_type": "code",
   "execution_count": 135,
   "metadata": {},
   "outputs": [
    {
     "name": "stdout",
     "output_type": "stream",
     "text": [
      "311.35349684883903\n",
      "276.6188713735923\n",
      "398.09420995538227\n",
      "T = 121+/-4 μs\n"
     ]
    }
   ],
   "source": [
    "def T(n1, n2, n12):\n",
    "    return (n1 + n2 - n12)/(2*n1*n2)\n",
    "\n",
    "# Zählraten und Poissonfehler der Quellen\n",
    "t = 120      # Integrationszeit ind s\n",
    "\n",
    "N1 = 96941\n",
    "fN1 = sqrt(N1)\n",
    "uN1 = ufloat(N1, fN1)\n",
    "uN1 = uN1/t\n",
    "print(fN1)\n",
    "\n",
    "N2 = 76518\n",
    "fN2 = sqrt(N2)\n",
    "uN2 = ufloat(N2, fN2)\n",
    "uN2 = uN2/t\n",
    "print(fN2)\n",
    "\n",
    "N12 = 158479\n",
    "fN12 = sqrt(N12)\n",
    "uN12 = ufloat(N12, fN12)\n",
    "uN12 = uN12/t\n",
    "print(fN12)\n",
    "\n",
    "# Totzeit berechnen\n",
    "T = T(uN1, uN2, uN12)\n",
    "print('T =', T*1e6, 'μs')\n"
   ]
  }
 ],
 "metadata": {
  "interpreter": {
   "hash": "35caa7b82a3757becf5a71cac731e28ec147500c0075d0177139a56986d9e143"
  },
  "kernelspec": {
   "display_name": "Python 3.8.8 ('base')",
   "language": "python",
   "name": "python3"
  },
  "language_info": {
   "codemirror_mode": {
    "name": "ipython",
    "version": 3
   },
   "file_extension": ".py",
   "mimetype": "text/x-python",
   "name": "python",
   "nbconvert_exporter": "python",
   "pygments_lexer": "ipython3",
   "version": "3.8.8"
  },
  "orig_nbformat": 4
 },
 "nbformat": 4,
 "nbformat_minor": 2
}

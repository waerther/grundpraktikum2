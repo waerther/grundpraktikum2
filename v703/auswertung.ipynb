{
 "cells": [
  {
   "cell_type": "code",
   "execution_count": 483,
   "metadata": {},
   "outputs": [],
   "source": [
    "import numpy as np\n",
    "from numpy import sqrt\n",
    "import matplotlib.pyplot as plt\n",
    "import pandas as pd\n",
    "import scipy.constants as const\n",
    "from scipy.optimize import curve_fit                        # Funktionsfit:     popt, pcov = curve_fit(func, xdata, ydata) \n",
    "from uncertainties import ufloat                            # Fehler:           fehlerwert =  ulfaot(x, err)\n",
    "from uncertainties import unumpy as unp \n",
    "from uncertainties.unumpy import uarray                     # Array von Fehler: fehlerarray =  uarray(array, errarray)\n",
    "from uncertainties.unumpy import (nominal_values as noms,   # Wert:             noms(fehlerwert) = x\n",
    "                                  std_devs as stds)         # Abweichung:       stds(fehlerarray) = errarray"
   ]
  },
  {
   "cell_type": "markdown",
   "metadata": {},
   "source": [
    "Tabelle erstellen:"
   ]
  },
  {
   "cell_type": "code",
   "execution_count": 484,
   "metadata": {},
   "outputs": [
    {
     "name": "stdout",
     "output_type": "stream",
     "text": [
      "\\begin{tabular}{c c}\n",
      "\\toprule\n",
      " U/V &     n &  I/mikroA \\\\\n",
      "\\midrule\n",
      " 330 & 11649 &      0,20 \\\\\n",
      " 340 & 11928 &      0,20 \\\\\n",
      " 350 & 12322 &      0,20 \\\\\n",
      " 360 & 12488 &      0,21 \\\\\n",
      " 370 & 12538 &      0,21 \\\\\n",
      " 380 & 12482 &      0,20 \\\\\n",
      " 390 & 12726 &      0,25 \\\\\n",
      " 400 & 12510 &      0,35 \\\\\n",
      " 410 & 12494 &      0,40 \\\\\n",
      " 420 & 12678 &      0,40 \\\\\n",
      " 430 & 12718 &      0,40 \\\\\n",
      " 440 & 12487 &      0,41 \\\\\n",
      " 450 & 12825 &      0,50 \\\\\n",
      " 460 & 12824 &      0,55 \\\\\n",
      " 470 & 12850 &      0,55 \\\\\n",
      " 480 & 12862 &      0,60 \\\\\n",
      " 490 & 12962 &      0,60 \\\\\n",
      " 500 & 12882 &      0,60 \\\\\n",
      " 510 & 12815 &      0,61 \\\\\n",
      " 520 & 12954 &      0,62 \\\\\n",
      " 530 & 12922 &      0,65 \\\\\n",
      " 540 & 12996 &      0,70 \\\\\n",
      " 550 & 12914 &      0,75 \\\\\n",
      " 560 & 12854 &      0,75 \\\\\n",
      " 570 & 12916 &      0,80 \\\\\n",
      " 580 & 12931 &      0,80 \\\\\n",
      " 590 & 13047 &      0,90 \\\\\n",
      " 600 & 13003 &      0,90 \\\\\n",
      " 610 & 12837 &      0,95 \\\\\n",
      " 620 & 12718 &      0,95 \\\\\n",
      " 630 & 13000 &      1,00 \\\\\n",
      " 640 & 12967 &      1,00 \\\\\n",
      " 650 & 13132 &      1,00 \\\\\n",
      " 660 & 13129 &      1,10 \\\\\n",
      " 670 & 13269 &      1,10 \\\\\n",
      " 680 & 13438 &      1,10 \\\\\n",
      " 690 & 13413 &      1,10 \\\\\n",
      " 700 & 13552 &      1,15 \\\\\n",
      "\\bottomrule\n",
      "\\end{tabular}\n",
      "\n"
     ]
    }
   ],
   "source": [
    "md = pd.read_csv('tables/md.csv')\n",
    "#md1 = md.iloc[:, [0,1]]\n",
    "print(md.to_latex(index = False, column_format= \"c c\", decimal=',')) "
   ]
  },
  {
   "cell_type": "markdown",
   "metadata": {},
   "source": [
    "#### Aufgabenteil a)"
   ]
  },
  {
   "cell_type": "markdown",
   "metadata": {},
   "source": [
    "Daten auswerten:"
   ]
  },
  {
   "cell_type": "code",
   "execution_count": 485,
   "metadata": {},
   "outputs": [],
   "source": [
    "np.savetxt('tables/a.txt', md1.values, header='U/V N', fmt='%.3f')\n",
    "U, N = np.genfromtxt('tables/a.txt', unpack=True, skip_header=1)\n",
    "# Plateaubereich 380 - 620 V\n",
    "Up = U[5:30]\n",
    "Np = N[5:30]\n",
    "Np = Np/120\n",
    "\n",
    "# Ausgleichsgerade\n",
    "def g(u, a, b):\n",
    "    return a * u + b\n",
    "\n",
    "para, pcov = curve_fit(g, Up, Np)\n",
    "a, b = para\n",
    "pcov = sqrt(np.diag(pcov))\n",
    "fa, fb = pcov "
   ]
  },
  {
   "cell_type": "markdown",
   "metadata": {},
   "source": [
    "Fehler berechnen:"
   ]
  },
  {
   "cell_type": "code",
   "execution_count": 486,
   "metadata": {},
   "outputs": [
    {
     "name": "stdout",
     "output_type": "stream",
     "text": [
      "a = (0.013 ± 0.003)\n",
      "b = (100.018 ± 1.417)\n"
     ]
    }
   ],
   "source": [
    "ua = ufloat(a, fa)\n",
    "ub = ufloat(b, fb)\n",
    "print('a = (%.3f ± %.3f)' % (noms(ua), stds(ua)))\n",
    "print('b = (%.3f ± %.3f)' % (noms(ub), stds(ub)))"
   ]
  },
  {
   "cell_type": "markdown",
   "metadata": {},
   "source": [
    "Plot erstellen:"
   ]
  },
  {
   "cell_type": "code",
   "execution_count": 487,
   "metadata": {},
   "outputs": [
    {
     "data": {
      "image/png": "[encoded data removed]",
      "text/plain": [
       "<Figure size 432x288 with 1 Axes>"
      ]
     },
     "metadata": {
      "needs_background": "light"
     },
     "output_type": "display_data"
    }
   ],
   "source": [
    "xx = np.linspace(380, 620, 10000)   # Spannungen für das Plateau-Gebiet\n",
    "fN = sqrt(N)                        # N Poisson-verteilt\n",
    "uN = uarray(N, fN)\n",
    "uN = uN/120                         # Impulsrate mit Fehler\n",
    "plt.errorbar(U, noms(uN), yerr = stds(uN), fmt='r.', elinewidth = 1, capsize = 2, label = 'Messdaten')\n",
    "plt.plot(xx, g(xx, a, b), '-b', linewidth = 1, label = 'Plateaugerade')\n",
    "\n",
    "plt.xlabel(r'$U \\, / \\, \\mathrm{V}$')\n",
    "plt.ylabel(r'$N \\, / \\, \\mathrm{s^{-1}}$')\n",
    "plt.legend(loc=\"best\")                  # legend position\n",
    "plt.grid(True)                          # grid style"
   ]
  },
  {
   "cell_type": "markdown",
   "metadata": {},
   "source": [
    "Güte des Geiger-Müller-Zählrohrs in % pro 100 V:"
   ]
  },
  {
   "cell_type": "code",
   "execution_count": 488,
   "metadata": {},
   "outputs": [
    {
     "name": "stdout",
     "output_type": "stream",
     "text": [
      "M = (1.259 ± 0.247)\n"
     ]
    }
   ],
   "source": [
    "M = (1 - (ua * 400 + ub)/(ua * 500 + ub))*100\n",
    "print('M = (%.3f ± %.3f)' % (noms(M), stds(M)))"
   ]
  },
  {
   "cell_type": "markdown",
   "metadata": {},
   "source": [
    "#### Aufgabenteil b)"
   ]
  },
  {
   "cell_type": "code",
   "execution_count": 489,
   "metadata": {},
   "outputs": [
    {
     "name": "stdout",
     "output_type": "stream",
     "text": [
      "T_Nachentladung = 290.0 μs\n"
     ]
    }
   ],
   "source": [
    "# Peak zu Peak ablesen\n",
    "T_nach = 5.8 * 50\n",
    "print('T_Nachentladung =', T_nach, 'μs') "
   ]
  },
  {
   "cell_type": "markdown",
   "metadata": {},
   "source": [
    "#### Aufgabenteil c)\n",
    "Bestimmung der Tot-Zeit (Zwei-Quellen-Methode):"
   ]
  },
  {
   "cell_type": "code",
   "execution_count": 490,
   "metadata": {},
   "outputs": [
    {
     "name": "stdout",
     "output_type": "stream",
     "text": [
      "N1 = (1334.000 ± 36.524)\n",
      "N2 = (21994.000 ± 148.304)\n",
      "N12 = (23182.000 ± 152.256)\n",
      "0.0003+/-0.0004\n",
      "T_tot = (3+/-4)e+02 μs\n"
     ]
    }
   ],
   "source": [
    "def T(n1, n2, n12):\n",
    "    return (n1 + n2 - n12)/(2*n1*n2)\n",
    "\n",
    "# Zählraten und Poissonfehler der Quellen\n",
    "t = 120      # Integrationszeit ind s\n",
    "\n",
    "N1 = 1334\n",
    "fN1 = sqrt(N1)\n",
    "uN1 = ufloat(N1, fN1)\n",
    "uN1 = uN1/t\n",
    "print('N1 = (%.3f ± %.3f)' % (N1, fN1))\n",
    "\n",
    "N2 = 21994\n",
    "fN2 = sqrt(N2)\n",
    "uN2 = ufloat(N2, fN2)\n",
    "uN2 = uN2/t\n",
    "print('N2 = (%.3f ± %.3f)' % (N2, fN2))\n",
    "\n",
    "N12 = 23182\n",
    "fN12 = sqrt(N12)\n",
    "uN12 = ufloat(N12, fN12)\n",
    "uN12 = uN12/t\n",
    "print('N12 = (%.3f ± %.3f)' % (N12, fN12))\n",
    "\n",
    "# Totzeit berechnen\n",
    "T = T(uN1, uN2, uN12)\n",
    "print(T)\n",
    "print('T_tot =', T*1e6, 'μs')\n"
   ]
  },
  {
   "cell_type": "markdown",
   "metadata": {},
   "source": [
    "Oszilloskop-Methode:"
   ]
  },
  {
   "cell_type": "code",
   "execution_count": 491,
   "metadata": {},
   "outputs": [
    {
     "name": "stdout",
     "output_type": "stream",
     "text": [
      "Tot = 240.0 μs\n"
     ]
    }
   ],
   "source": [
    "# Peak zu Null ablesen\n",
    "T_Tot = 4.8 * 50\n",
    "print('Tot =', T_Tot, 'μs') "
   ]
  },
  {
   "cell_type": "markdown",
   "metadata": {},
   "source": [
    "#### Aufgabenteil d)\n",
    "Freigesetzte Ladungen:"
   ]
  },
  {
   "cell_type": "code",
   "execution_count": 492,
   "metadata": {},
   "outputs": [],
   "source": [
    "md2 = md.iloc[:, [1, 2]]\n",
    "np.savetxt('tables/b.txt', md2.values, header='N I/μA', fmt='%.3f')\n",
    "N, I = np.genfromtxt('tables/b.txt', unpack=True, skip_header=1)\n",
    "I *= 1e-6\n",
    "t = 120      # Integrationszeit in s \n",
    "\n",
    "# einfallende Teilchen\n",
    "e = const.elementary_charge\n",
    "def z(i, n):\n",
    "    e = const.elementary_charge\n",
    "    return i/(e*n)\n",
    "\n",
    "fI = 0.05*1e-6       # Fehler des Stroms in μA\n",
    "uI = uarray(I, fI)\n",
    "\n",
    "fN = sqrt(N)\n",
    "uN = uarray(N, fN)\n",
    "uN = uN/t\n",
    "\n",
    "Z = z(uI, uN)\n",
    "nomZ = z(I, N)\n"
   ]
  },
  {
   "cell_type": "markdown",
   "metadata": {},
   "source": [
    "Plot der freigesetzen Ladungen:"
   ]
  },
  {
   "cell_type": "code",
   "execution_count": 533,
   "metadata": {},
   "outputs": [
    {
     "name": "stdout",
     "output_type": "stream",
     "text": [
      "[1.00000000e+00 3.14009801e+08]\n"
     ]
    },
    {
     "name": "stderr",
     "output_type": "stream",
     "text": [
      "/home/erich/.local/anaconda3/lib/python3.8/site-packages/scipy/optimize/minpack.py:833: OptimizeWarning: Covariance of the parameters could not be estimated\n",
      "  warnings.warn('Covariance of the parameters could not be estimated',\n"
     ]
    },
    {
     "data": {
      "image/png": "[encoded data removed]",
      "text/plain": [
       "<Figure size 432x288 with 1 Axes>"
      ]
     },
     "metadata": {
      "needs_background": "light"
     },
     "output_type": "display_data"
    }
   ],
   "source": [
    "plt.errorbar(I, noms(Z), yerr = stds(Z), fmt='r.', elinewidth = 1, capsize = 2, label = 'Messdaten')\n",
    "\n",
    "# Ausgleichsgerade\n",
    "def g(u, a, b):\n",
    "    return a * u + b\n",
    "\n",
    "para, pcov = curve_fit(g, I, nomZ)\n",
    "a, b = para; print(para)\n",
    "# pcov = sqrt(np.diag(pcov))\n",
    "# fa, fb = pcov \n",
    "xx = np.linspace(0.19*1e-6, 1.2*1e-6, 10000)\n",
    "# xx = np.linspace(0.19, 1.2, 10000)\n",
    "plt.plot(xx, g(xx, a, b), '-b', linewidth = 1, label = 'Plateaugerade')\n",
    "\n",
    "plt.xlabel(r'$I \\, / \\, \\mu A$')\n",
    "plt.ylabel(r'$Z \\, / \\, \\mathrm{e}$')\n",
    "plt.legend(loc=\"best\")                  # legend position\n",
    "plt.grid(True)                          # grid style"
   ]
  },
  {
   "cell_type": "code",
   "execution_count": 494,
   "metadata": {},
   "outputs": [
    {
     "name": "stdout",
     "output_type": "stream",
     "text": [
      "\\begin{tabular}{c c c}\n",
      "\\toprule\n",
      "             I/μA &           N & Z/e*10**-10 \\\\\n",
      "\\midrule\n",
      "  (2.0+/-0.5)e-07 & 102.7+/-0.9 & 1.22+/-0.30 \\\\\n",
      "  (3.5+/-0.5)e-07 & 104.2+/-0.9 & 2.10+/-0.30 \\\\\n",
      "  (4.1+/-0.5)e-07 & 104.1+/-0.9 & 2.46+/-0.30 \\\\\n",
      "  (5.0+/-0.5)e-07 & 106.9+/-0.9 & 2.92+/-0.29 \\\\\n",
      "  (6.0+/-0.5)e-07 & 108.0+/-0.9 & 3.47+/-0.29 \\\\\n",
      "  (7.0+/-0.5)e-07 & 108.3+/-1.0 & 4.03+/-0.29 \\\\\n",
      "  (8.0+/-0.5)e-07 & 107.8+/-0.9 & 4.63+/-0.29 \\\\\n",
      "  (9.0+/-0.5)e-07 & 108.4+/-1.0 & 5.18+/-0.29 \\\\\n",
      "(1.00+/-0.05)e-06 & 109.4+/-1.0 & 5.70+/-0.29 \\\\\n",
      "(1.15+/-0.05)e-06 & 112.9+/-1.0 & 6.36+/-0.28 \\\\\n",
      "\\bottomrule\n",
      "\\end{tabular}\n",
      "\n"
     ]
    }
   ],
   "source": [
    "f = {'I/μA': uI, 'N': uN, 'Z/e*10**-10': Z*1e-10}\n",
    "df = pd.DataFrame(data = f)\n",
    "\n",
    "df = df.iloc[[2, 7, 11, 12, 16, 21, 25, 27, 32, 37],:]\n",
    "print(df.to_latex(index = False, column_format= \"c c c\", decimal=','))"
   ]
  },
  {
   "cell_type": "code",
   "execution_count": null,
   "metadata": {},
   "outputs": [],
   "source": []
  }
 ],
 "metadata": {
  "interpreter": {
   "hash": "35caa7b82a3757becf5a71cac731e28ec147500c0075d0177139a56986d9e143"
  },
  "kernelspec": {
   "display_name": "Python 3.8.8 ('base')",
   "language": "python",
   "name": "python3"
  },
  "language_info": {
   "codemirror_mode": {
    "name": "ipython",
    "version": 3
   },
   "file_extension": ".py",
   "mimetype": "text/x-python",
   "name": "python",
   "nbconvert_exporter": "python",
   "pygments_lexer": "ipython3",
   "version": "3.8.8"
  },
  "orig_nbformat": 4
 },
 "nbformat": 4,
 "nbformat_minor": 2
}

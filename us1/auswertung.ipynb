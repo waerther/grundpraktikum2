{
 "cells": [
  {
   "cell_type": "code",
   "execution_count": 2,
   "metadata": {},
   "outputs": [],
   "source": [
    "import pandas as pd\n",
    "import matplotlib.pyplot as plt\n",
    "import numpy as np\n",
    "from scipy.optimize import curve_fit                        # Funktionsfit:     popt, pcov = curve_fit(func, xdata, ydata) \n",
    "from uncertainties import ufloat                            # Fehler:           fehlerwert =  ulfaot(x, err)\n",
    "from uncertainties.unumpy import uarray                     # Array von Fehler: fehlerarray =  uarray(array, errarray)\n",
    "from uncertainties.unumpy import (nominal_values as noms,   # Wert:             noms(fehlerwert) = x\n",
    "                                  std_devs as stds)         # Abweichung:       stds(fehlerarray) = errarray\n",
    "from uncertainties import unumpy as unp \n",
    "import scipy.constants as const"
   ]
  },
  {
   "cell_type": "markdown",
   "metadata": {},
   "source": [
    "Messung Acrylplatte"
   ]
  },
  {
   "cell_type": "code",
   "execution_count": 14,
   "metadata": {},
   "outputs": [
    {
     "name": "stdout",
     "output_type": "stream",
     "text": [
      "(1.26+/-0.12)e+03\n"
     ]
    }
   ],
   "source": [
    "minima = [4.25, 4.5, 4.75, 4.5, 3.5, 4.75]\n",
    "minima_ufloat = ufloat(np.mean(minima), np.std(minima))\n",
    "c_acryl = 2 /(10**(-6) *  minima_ufloat) * 0.006\n",
    "f = 2.174\n",
    "lam = c_acryl / f\n",
    "print(lam)"
   ]
  },
  {
   "cell_type": "markdown",
   "metadata": {},
   "source": [
    "Erstellen der Plots"
   ]
  },
  {
   "cell_type": "code",
   "execution_count": 4,
   "metadata": {},
   "outputs": [
    {
     "ename": "NameError",
     "evalue": "name 'x' is not defined",
     "output_type": "error",
     "traceback": [
      "\u001b[0;31m---------------------------------------------------------------------------\u001b[0m",
      "\u001b[0;31mNameError\u001b[0m                                 Traceback (most recent call last)",
      "\u001b[1;32m/mnt/c/Users/tobyt/OneDrive/Desktop/Praktikumsberichte/grundpraktikum2/us1/auswertung.ipynb Cell 5'\u001b[0m in \u001b[0;36m<cell line: 6>\u001b[0;34m()\u001b[0m\n\u001b[1;32m      <a href='vscode-notebook-cell://wsl%2Bubuntu-20.04/mnt/c/Users/tobyt/OneDrive/Desktop/Praktikumsberichte/grundpraktikum2/us1/auswertung.ipynb#ch0000002vscode-remote?line=1'>2</a>\u001b[0m t \u001b[39m=\u001b[39m  np\u001b[39m.\u001b[39marray([\u001b[39m821.9\u001b[39m ,\u001b[39m983.6\u001b[39m ,\u001b[39m549.4\u001b[39m ,\u001b[39m519.9\u001b[39m ,\u001b[39m465.8\u001b[39m]) \u001b[39m*\u001b[39m \u001b[39m10\u001b[39m\u001b[39m*\u001b[39m\u001b[39m*\u001b[39m\u001b[39m12\u001b[39m\n\u001b[1;32m      <a href='vscode-notebook-cell://wsl%2Bubuntu-20.04/mnt/c/Users/tobyt/OneDrive/Desktop/Praktikumsberichte/grundpraktikum2/us1/auswertung.ipynb#ch0000002vscode-remote?line=2'>3</a>\u001b[0m minima \u001b[39m=\u001b[39m np\u001b[39m.\u001b[39marray([\u001b[39m1.430\u001b[39m ,\u001b[39m1.24\u001b[39m  ,\u001b[39m0.687\u001b[39m ,\u001b[39m0.560\u001b[39m ,\u001b[39m0.570\u001b[39m])\n\u001b[0;32m----> <a href='vscode-notebook-cell://wsl%2Bubuntu-20.04/mnt/c/Users/tobyt/OneDrive/Desktop/Praktikumsberichte/grundpraktikum2/us1/auswertung.ipynb#ch0000002vscode-remote?line=5'>6</a>\u001b[0m params, covariance_matrix \u001b[39m=\u001b[39m np\u001b[39m.\u001b[39mpolyfit(x, y, deg\u001b[39m=\u001b[39m\u001b[39m1\u001b[39m, cov\u001b[39m=\u001b[39m\u001b[39mTrue\u001b[39;00m)\n\u001b[1;32m      <a href='vscode-notebook-cell://wsl%2Bubuntu-20.04/mnt/c/Users/tobyt/OneDrive/Desktop/Praktikumsberichte/grundpraktikum2/us1/auswertung.ipynb#ch0000002vscode-remote?line=7'>8</a>\u001b[0m errors \u001b[39m=\u001b[39m np\u001b[39m.\u001b[39msqrt(np\u001b[39m.\u001b[39mdiag(covariance_matrix))\n\u001b[1;32m     <a href='vscode-notebook-cell://wsl%2Bubuntu-20.04/mnt/c/Users/tobyt/OneDrive/Desktop/Praktikumsberichte/grundpraktikum2/us1/auswertung.ipynb#ch0000002vscode-remote?line=9'>10</a>\u001b[0m \u001b[39mfor\u001b[39;00m name, value, error \u001b[39min\u001b[39;00m \u001b[39mzip\u001b[39m(\u001b[39m'\u001b[39m\u001b[39mab\u001b[39m\u001b[39m'\u001b[39m, params, errors):\n",
      "\u001b[0;31mNameError\u001b[0m: name 'x' is not defined"
     ]
    }
   ],
   "source": [
    "# Daten einlesen\n",
    "t =  np.array([821.9 ,983.6 ,549.4 ,519.9 ,465.8]) * 10**12\n",
    "minima = np.array([1.430 ,1.24  ,0.687 ,0.560 ,0.570])\n",
    "\n",
    "\n",
    "params, covariance_matrix = np.polyfit(x, y, deg=1, cov=True)\n",
    "\n",
    "errors = np.sqrt(np.diag(covariance_matrix))\n",
    "\n",
    "for name, value, error in zip('ab', params, errors):\n",
    "    print(f'{name} = {value} ± {error}')\n",
    "\n",
    "x_plot = np.linspace(np.min(x), np.max(x))\n",
    "\n",
    "plt.plot(x, y, 'x', label=\"Messwerte\")\n",
    "plt.plot(\n",
    "    x_plot,\n",
    "    params[0] * x_plot + params[1],\n",
    "    label='Lineare Regression',\n",
    "    linewidth=1,\n",
    ")\n",
    "plt.xlabel(r'$U / V$')\n",
    "plt.ylabel(r'$I / {nA} $')\n",
    "plt.grid(ls=':')\n",
    "plt.legend(loc=\"best\")"
   ]
  }
 ],
 "metadata": {
  "interpreter": {
   "hash": "4ef32ed23c28cedd878486b9bb2ae1d1ed39a4ae162496b7d4dd2e637309db31"
  },
  "kernelspec": {
   "display_name": "Python 3.8.8 ('base')",
   "language": "python",
   "name": "python3"
  },
  "language_info": {
   "codemirror_mode": {
    "name": "ipython",
    "version": 3
   },
   "file_extension": ".py",
   "mimetype": "text/x-python",
   "name": "python",
   "nbconvert_exporter": "python",
   "pygments_lexer": "ipython3",
   "version": "3.8.8"
  },
  "orig_nbformat": 4
 },
 "nbformat": 4,
 "nbformat_minor": 2
}

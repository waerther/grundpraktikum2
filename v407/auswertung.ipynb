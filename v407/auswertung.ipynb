{
 "cells": [
  {
   "cell_type": "code",
   "execution_count": null,
   "metadata": {},
   "outputs": [],
   "source": [
    "import pandas as pd\n",
    "import matplotlib.pyplot as plt\n",
    "import numpy as np\n",
    "from scipy.optimize import curve_fit                        # Funktionsfit:     popt, pcov = curve_fit(func, xdata, ydata) \n",
    "from uncertainties import ufloat                            # Fehler:           fehlerwert =  ulfaot(x, err)\n",
    "from uncertainties.unumpy import uarray                     # Array von Fehler: fehlerarray =  uarray(array, errarray)\n",
    "from uncertainties.unumpy import (nominal_values as noms,   # Wert:             noms(fehlerwert) = x\n",
    "                                  std_devs as stds)         # Abweichung:       stds(fehlerarray) = errarray\n",
    "from uncertainties import unumpy as unp \n",
    "import scipy.constants as const"
   ]
  }
 ],
 "metadata": {
  "language_info": {
   "name": "python"
  },
  "orig_nbformat": 4
 },
 "nbformat": 4,
 "nbformat_minor": 2
}

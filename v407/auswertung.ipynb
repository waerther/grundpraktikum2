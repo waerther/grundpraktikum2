{
 "cells": [
  {
   "cell_type": "code",
   "execution_count": 12,
   "metadata": {},
   "outputs": [],
   "source": [
    "import pandas as pd\n",
    "import matplotlib.pyplot as plt\n",
    "import numpy as np\n",
    "from scipy.optimize import curve_fit                        # Funktionsfit:     popt, pcov = curve_fit(func, xdata, ydata) \n",
    "from uncertainties import ufloat                            # Fehler:           fehlerwert =  ulfaot(x, err)\n",
    "from uncertainties.unumpy import uarray                     # Array von Fehler: fehlerarray =  uarray(array, errarray)\n",
    "from uncertainties.unumpy import (nominal_values as noms,   # Wert:             noms(fehlerwert) = x\n",
    "                                  std_devs as stds)         # Abweichung:       stds(fehlerarray) = errarray\n",
    "from uncertainties import unumpy as unp \n",
    "import scipy.constants as const"
   ]
  },
  {
   "cell_type": "markdown",
   "metadata": {},
   "source": [
    "Tabelle erstellen und Daten importieren"
   ]
  },
  {
   "cell_type": "code",
   "execution_count": 13,
   "metadata": {},
   "outputs": [],
   "source": [
    "md1 = pd.read_csv('tables/mess1.csv')\n",
    "# print(md1.to_latex(index = False, column_format= \"c c c c\", decimal=',')) \n",
    "\n",
    "md2 = pd.read_csv('tables/mess2.csv')\n",
    "# print(md2.to_latex(index = False, column_format= \"c c c c\", decimal=','))\n",
    "\n",
    "\n",
    "md1 = pd.DataFrame(md1).to_numpy()\n",
    "md2 = pd.DataFrame(md2).to_numpy()\n",
    "\n",
    "alpha1 = np.append(md1[:-2,0], md1[:,2]) * np.pi / 180\n",
    "Isenk = np.append(md1[:-2,1],md1[:,3])\n",
    "\n",
    "alpha2 = np.append(md2[:-2,0], md2[:,2]) * np.pi / 180\n",
    "Ipar = np.append(md2[:-2,1],md2[:,3])"
   ]
  },
  {
   "cell_type": "markdown",
   "metadata": {},
   "source": [
    "Daten auswerten:"
   ]
  },
  {
   "cell_type": "markdown",
   "metadata": {},
   "source": [
    "Berechnung des Brechungsindex"
   ]
  },
  {
   "cell_type": "code",
   "execution_count": 14,
   "metadata": {},
   "outputs": [],
   "source": [
    "def func(I):            # Berechnung von (gemessener Strom) / (Referenzstrom)\n",
    "    return (I / 0.167)\n",
    "\n",
    "werte1 = func(md1[:-2,1])\n",
    "werte2 = func(md1[:,3])\n",
    "\n",
    "# werteprint = pd.DataFrame(werte1, columns = ['Column_A'])\n",
    "# print(werteprint.to_latex(index = False, column_format= \"c\", decimal=',')) "
   ]
  },
  {
   "cell_type": "code",
   "execution_count": 15,
   "metadata": {},
   "outputs": [
    {
     "name": "stdout",
     "output_type": "stream",
     "text": [
      "Der Mittelwert für n beträgt: 4.776290067736398 ± 8.888084422378968\n"
     ]
    }
   ],
   "source": [
    "def func2(E, alpha):\n",
    "    return (np.sqrt(1 + (4 * E * (np.cos(alpha))**2) / (E - 1)**2))\n",
    "\n",
    "n1 = func2(werte1, md1[:-2,0] * np.pi / 180)\n",
    "n2 = func2(werte2, md1[:,2] * np.pi / 180)\n",
    "n_s = np.append(n1,n2)\n",
    "\n",
    "nmittel = np.mean(n_s[:])\n",
    "nstd = np.std(n_s[:])\n",
    "print('Der Mittelwert für n beträgt: ' +  str(nmittel) + ' ± ' + str(nstd))\n",
    "\n",
    "#prin = pd.DataFrame(n_s, columns = ['Column_A'])\n",
    "#print(prin.to_latex(index = False, column_format= \"c\", decimal=','))"
   ]
  },
  {
   "cell_type": "markdown",
   "metadata": {},
   "source": [
    "Tabelle 2 berechnen"
   ]
  },
  {
   "cell_type": "code",
   "execution_count": 16,
   "metadata": {},
   "outputs": [],
   "source": [
    "werte1 = func(md1[:-2,1])\n",
    "werte2 = func(md1[:,3])\n",
    "\n",
    "# werteprint = pd.DataFrame(werte1, columns = ['Column_A'])\n",
    "# print(werteprint.to_latex(index = False, column_format= \"c\", decimal=',')) "
   ]
  },
  {
   "cell_type": "code",
   "execution_count": 17,
   "metadata": {},
   "outputs": [
    {
     "name": "stdout",
     "output_type": "stream",
     "text": [
      "1.0364604739221577\n"
     ]
    }
   ],
   "source": [
    "def func2(Er, Ee, alpha):\n",
    "    summand1 = (Er + Ee) / ((Er - Ee) * np.cos(alpha))\n",
    "    summand2 = (Er + Ee) / (Er - Ee)\n",
    "    return np.sqrt(0.5 * summand1**2 + np.sqrt(0.25 * summand1**4 - summand2**2 * (np.tan(alpha))**2))\n",
    "\n",
    "print(func2(1, 60, 15 * np.pi / 180))"
   ]
  },
  {
   "cell_type": "code",
   "execution_count": 23,
   "metadata": {},
   "outputs": [
    {
     "name": "stdout",
     "output_type": "stream",
     "text": [
      "Der Mittelwert für n beträgt: 3.206026165960106 ± 1.3686279483093367\n"
     ]
    }
   ],
   "source": [
    "def func2(Er, Ee, alpha):\n",
    "    summand1 = (Er + Ee) / ((Er - Ee) * np.cos(alpha))\n",
    "    summand2 = (Er + Ee) / (Er - Ee)\n",
    "    return np.sqrt(0.5 * summand1**2 + np.sqrt(0.25 * summand1**4 - summand2**2 * (np.tan(alpha))**2))\n",
    "\n",
    "I_0 = 160 * 1e-6\n",
    "E_0 = np.sqrt(I_0)\n",
    "n_p = func2(E_0, np.sqrt(Ipar * 10**-6), alpha2 * np.pi / 180)\n",
    "\n",
    "nmittel = np.mean(n_p[:])\n",
    "nstd = np.std(n_p[:])\n",
    "print('Der Mittelwert für n beträgt: ' +  str(nmittel) + ' ± ' + str(nstd))\n",
    "\n",
    "# prin = pd.DataFrame(n_p, columns = ['Column_A'])\n",
    "# print(prin.to_latex(index = False, column_format= \"c\", decimal=','))"
   ]
  },
  {
   "cell_type": "markdown",
   "metadata": {},
   "source": [
    "Plot erstellen:"
   ]
  },
  {
   "cell_type": "code",
   "execution_count": 93,
   "metadata": {},
   "outputs": [
    {
     "data": {
      "image/png": "[encoded data removed]",
      "text/plain": [
       "<Figure size 432x288 with 1 Axes>"
      ]
     },
     "metadata": {
      "needs_background": "light"
     },
     "output_type": "display_data"
    }
   ],
   "source": [
    "plt.plot(alpha1, Isenk * 10**3, 'xr', markersize=5 , label = 'Senkrecht', alpha=0.65)\n",
    "plt.plot(alpha2, Ipar, 'x', markersize=5 , label = 'Parallel', alpha=0.65)\n",
    "\n",
    "nmittel = 3.465\n",
    "\n",
    "def Esenk(x):\n",
    "    return ((np.sqrt(nmittel**2-(np.sin(x))**2)-np.cos(x))**4)/(nmittel**2-1)**2\n",
    "def Epar(x):\n",
    "    return ((nmittel**2*np.cos(x)-np.sqrt(nmittel**2-np.sqrt(nmittel**2-(np.sin(x)**2))))/((nmittel**2*np.cos(x)+np.sqrt(nmittel**2-np.sqrt(nmittel**2-(np.sin(x)**2))))))**2\n",
    "x = np.linspace(0,np.pi/2,1000)\n",
    "plt.plot(x, Esenk(x) * 10**2.25,label = 'Senktrecht')\n",
    "plt.plot(x, Epar(x) * 10**2.25,label = 'Parallel')\n",
    "\n",
    "plt.xlabel(r'$\\alpha$')\n",
    "plt.ylabel(r'$I / nA$')\n",
    "plt.legend(loc=\"best\")                  # legend position\n",
    "plt.grid(True)                          # grid style"
   ]
  },
  {
   "cell_type": "code",
   "execution_count": 104,
   "metadata": {},
   "outputs": [
    {
     "name": "stdout",
     "output_type": "stream",
     "text": [
      "3.5+/-0.7\n"
     ]
    }
   ],
   "source": [
    "# RECHNER\n",
    "\n",
    "ns1 = ufloat(3.21, 1.37)\n",
    "ns2 = ufloat(3.73, 0.1)\n",
    "n = (ns1 + ns2) / 2\n",
    "print(n)"
   ]
  }
 ],
 "metadata": {
  "interpreter": {
   "hash": "4ef32ed23c28cedd878486b9bb2ae1d1ed39a4ae162496b7d4dd2e637309db31"
  },
  "kernelspec": {
   "display_name": "Python 3.8.8 ('base')",
   "language": "python",
   "name": "python3"
  },
  "language_info": {
   "codemirror_mode": {
    "name": "ipython",
    "version": 3
   },
   "file_extension": ".py",
   "mimetype": "text/x-python",
   "name": "python",
   "nbconvert_exporter": "python",
   "pygments_lexer": "ipython3",
   "version": "3.8.8"
  },
  "orig_nbformat": 4
 },
 "nbformat": 4,
 "nbformat_minor": 2
}

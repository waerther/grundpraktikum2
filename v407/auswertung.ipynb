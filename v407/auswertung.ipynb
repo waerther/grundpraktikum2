{
 "cells": [
  {
   "cell_type": "code",
   "execution_count": 1,
   "metadata": {},
   "outputs": [],
   "source": [
    "import pandas as pd\n",
    "import matplotlib.pyplot as plt\n",
    "import numpy as np\n",
    "from scipy.optimize import curve_fit                        # Funktionsfit:     popt, pcov = curve_fit(func, xdata, ydata) \n",
    "from uncertainties import ufloat                            # Fehler:           fehlerwert =  ulfaot(x, err)\n",
    "from uncertainties.unumpy import uarray                     # Array von Fehler: fehlerarray =  uarray(array, errarray)\n",
    "from uncertainties.unumpy import (nominal_values as noms,   # Wert:             noms(fehlerwert) = x\n",
    "                                  std_devs as stds)         # Abweichung:       stds(fehlerarray) = errarray\n",
    "from uncertainties import unumpy as unp \n",
    "import scipy.constants as const"
   ]
  },
  {
   "cell_type": "markdown",
   "metadata": {},
   "source": [
    "Tabelle erstellen:"
   ]
  },
  {
   "cell_type": "code",
   "execution_count": 2,
   "metadata": {},
   "outputs": [
    {
     "name": "stdout",
     "output_type": "stream",
     "text": [
      "\\begin{tabular}{c c c c}\n",
      "\\toprule\n",
      " alpha &     I &  alpha.1 &   I.1 \\\\\n",
      "\\midrule\n",
      "   6,0 & 0,013 &       46 & 0,083 \\\\\n",
      "   8,0 & 0,015 &       48 & 0,086 \\\\\n",
      "  10,0 & 0,015 &       50 & 0,088 \\\\\n",
      "  12,0 & 0,020 &       52 & 0,093 \\\\\n",
      "  14,0 & 0,021 &       54 & 0,096 \\\\\n",
      "  16,0 & 0,025 &       56 & 0,100 \\\\\n",
      "  18,0 & 0,027 &       58 & 0,106 \\\\\n",
      "  20,0 & 0,030 &       60 & 0,106 \\\\\n",
      "  22,0 & 0,033 &       62 & 0,113 \\\\\n",
      "  24,0 & 0,038 &       64 & 0,116 \\\\\n",
      "  26,0 & 0,040 &       66 & 0,120 \\\\\n",
      "  28,0 & 0,047 &       68 & 0,126 \\\\\n",
      "  30,0 & 0,050 &       70 & 0,130 \\\\\n",
      "  32,0 & 0,058 &       72 & 0,130 \\\\\n",
      "  34,0 & 0,060 &       74 & 0,140 \\\\\n",
      "  36,0 & 0,066 &       76 & 0,142 \\\\\n",
      "  38,0 & 0,068 &       78 & 0,146 \\\\\n",
      "  40,0 & 0,070 &       80 & 0,160 \\\\\n",
      "  42,0 & 0,080 &       82 & 0,166 \\\\\n",
      "  44,0 & 0,080 &       84 & 0,166 \\\\\n",
      "   NaN &   NaN &       86 & 0,166 \\\\\n",
      "   NaN &   NaN &       88 & 0,166 \\\\\n",
      "\\bottomrule\n",
      "\\end{tabular}\n",
      "\n"
     ]
    },
    {
     "name": "stderr",
     "output_type": "stream",
     "text": [
      "/tmp/ipykernel_1950/2217053273.py:3: FutureWarning: In future versions `DataFrame.to_latex` is expected to utilise the base implementation of `Styler.to_latex` for formatting and rendering. The arguments signature may therefore change. It is recommended instead to use `DataFrame.style.to_latex` which also contains additional functionality.\n",
      "  print(md.to_latex(index = False, column_format= \"c c c c\", decimal=','))\n"
     ]
    }
   ],
   "source": [
    "md = pd.read_csv('tables/mess1.csv')\n",
    "md_a = md.iloc[:, [0,1]]\n",
    "print(md.to_latex(index = False, column_format= \"c c c c\", decimal=',')) "
   ]
  },
  {
   "cell_type": "markdown",
   "metadata": {},
   "source": [
    "Daten auswerten:"
   ]
  },
  {
   "cell_type": "markdown",
   "metadata": {},
   "source": [
    "Berechnung des Brechungsindex"
   ]
  },
  {
   "cell_type": "code",
   "execution_count": 25,
   "metadata": {},
   "outputs": [],
   "source": [
    "def func(I):            # Berechnung von (gemessener Strom) / (Referenzstrom)\n",
    "    return (I / 0.167)\n",
    "\n",
    "md1 = pd.DataFrame(md).to_numpy()\n",
    "\n",
    "werte1 = func(md1[:-2,1])\n",
    "werte2 = func(md1[:,3])\n",
    "\n",
    "\n",
    "# md1 = werte2\n",
    "# md1 = pd.DataFrame(md1, columns = ['Column_A'])\n",
    "# print(md1.to_latex(index = False, column_format= \"c\", decimal=',')) "
   ]
  },
  {
   "cell_type": "code",
   "execution_count": 53,
   "metadata": {},
   "outputs": [
    {
     "name": "stdout",
     "output_type": "stream",
     "text": [
      "Der Mittelwert für n beträgt: 4.776290067736398 ± 8.888084422378968\n",
      "\\begin{tabular}{c}\n",
      "\\toprule\n",
      " Column\\_A \\\\\n",
      "\\midrule\n",
      " 2,189004 \\\\\n",
      " 2,218190 \\\\\n",
      " 2,211720 \\\\\n",
      " 2,302198 \\\\\n",
      " 2,322735 \\\\\n",
      " 2,377642 \\\\\n",
      " 2,518670 \\\\\n",
      " 2,399442 \\\\\n",
      " 2,589478 \\\\\n",
      " 2,593267 \\\\\n",
      " 2,646371 \\\\\n",
      " 2,833082 \\\\\n",
      " 2,901770 \\\\\n",
      " 2,656563 \\\\\n",
      " 3,278201 \\\\\n",
      " 3,143644 \\\\\n",
      " 3,249584 \\\\\n",
      " 8,171412 \\\\\n",
      "46,355221 \\\\\n",
      "34,822183 \\\\\n",
      "23,250316 \\\\\n",
      "11,664424 \\\\\n",
      "\\bottomrule\n",
      "\\end{tabular}\n",
      "\n"
     ]
    },
    {
     "name": "stderr",
     "output_type": "stream",
     "text": [
      "/tmp/ipykernel_1950/1971346999.py:15: FutureWarning: In future versions `DataFrame.to_latex` is expected to utilise the base implementation of `Styler.to_latex` for formatting and rendering. The arguments signature may therefore change. It is recommended instead to use `DataFrame.style.to_latex` which also contains additional functionality.\n",
      "  print(prin.to_latex(index = False, column_format= \"c\", decimal=','))\n"
     ]
    }
   ],
   "source": [
    "def func2(E, alpha):\n",
    "    return (np.sqrt(1 + (4 * E * (np.cos(alpha))**2) / (E - 1)**2))\n",
    "\n",
    "md1 = pd.DataFrame(md).to_numpy()\n",
    "\n",
    "n1 = func2(werte1, md1[:-2,0] * np.pi / 180)\n",
    "n2 = func2(werte2, md1[:,2] * np.pi / 180)\n",
    "\n",
    "nmittel = np.mean(np.append(n1,n2))\n",
    "nstd = np.std(np.append(n1,n2))\n",
    "print('Der Mittelwert für n beträgt: ' +  str(nmittel) + ' ± ' + str(nstd))\n",
    "\n",
    "prin = n2\n",
    "prin = pd.DataFrame(prin, columns = ['Column_A'])\n",
    "print(prin.to_latex(index = False, column_format= \"c\", decimal=','))"
   ]
  },
  {
   "cell_type": "code",
   "execution_count": null,
   "metadata": {},
   "outputs": [
    {
     "ename": "ValueError",
     "evalue": "too many values to unpack (expected 2)",
     "output_type": "error",
     "traceback": [
      "\u001b[0;31m---------------------------------------------------------------------------\u001b[0m",
      "\u001b[0;31mValueError\u001b[0m                                Traceback (most recent call last)",
      "\u001b[1;32m/mnt/c/Users/tobyt/OneDrive/Desktop/Praktikumsberichte/grundpraktikum2/v407/auswertung.ipynb Cell 7'\u001b[0m in \u001b[0;36m<cell line: 2>\u001b[0;34m()\u001b[0m\n\u001b[1;32m      <a href='vscode-notebook-cell://wsl%2Bubuntu-20.04/mnt/c/Users/tobyt/OneDrive/Desktop/Praktikumsberichte/grundpraktikum2/v407/auswertung.ipynb#ch0000006vscode-remote?line=0'>1</a>\u001b[0m np\u001b[39m.\u001b[39msavetxt(\u001b[39m'\u001b[39m\u001b[39mtables/a.txt\u001b[39m\u001b[39m'\u001b[39m, md\u001b[39m.\u001b[39mvalues, header\u001b[39m=\u001b[39m\u001b[39m'\u001b[39m\u001b[39mf/Hz U/V\u001b[39m\u001b[39m'\u001b[39m, fmt\u001b[39m=\u001b[39m\u001b[39m'\u001b[39m\u001b[39m%.3f\u001b[39;00m\u001b[39m'\u001b[39m)\n\u001b[0;32m----> <a href='vscode-notebook-cell://wsl%2Bubuntu-20.04/mnt/c/Users/tobyt/OneDrive/Desktop/Praktikumsberichte/grundpraktikum2/v407/auswertung.ipynb#ch0000006vscode-remote?line=1'>2</a>\u001b[0m f, U \u001b[39m=\u001b[39m np\u001b[39m.\u001b[39mgenfromtxt(\u001b[39m'\u001b[39m\u001b[39mtables/a.txt\u001b[39m\u001b[39m'\u001b[39m, unpack\u001b[39m=\u001b[39m\u001b[39mTrue\u001b[39;00m, skip_header\u001b[39m=\u001b[39m\u001b[39m1\u001b[39m)\n\u001b[1;32m      <a href='vscode-notebook-cell://wsl%2Bubuntu-20.04/mnt/c/Users/tobyt/OneDrive/Desktop/Praktikumsberichte/grundpraktikum2/v407/auswertung.ipynb#ch0000006vscode-remote?line=3'>4</a>\u001b[0m \u001b[39mdef\u001b[39;00m \u001b[39mg\u001b[39m(f, T):\n\u001b[1;32m      <a href='vscode-notebook-cell://wsl%2Bubuntu-20.04/mnt/c/Users/tobyt/OneDrive/Desktop/Praktikumsberichte/grundpraktikum2/v407/auswertung.ipynb#ch0000006vscode-remote?line=4'>5</a>\u001b[0m     w \u001b[39m=\u001b[39m \u001b[39m2\u001b[39m \u001b[39m*\u001b[39m np\u001b[39m.\u001b[39mpi \u001b[39m*\u001b[39m f\n",
      "\u001b[0;31mValueError\u001b[0m: too many values to unpack (expected 2)"
     ]
    }
   ],
   "source": [
    "np.savetxt('tables/a.txt', md.values, header='f/Hz U/V', fmt='%.3f')\n",
    "f, U = np.genfromtxt('tables/a.txt', unpack=True, skip_header=1)\n",
    "\n",
    "def g(f, T):\n",
    "    w = 2 * np.pi * f\n",
    "    return 1 / (np.sqrt(1 + w**2 * T**2))\n",
    "\n",
    "para, pcov = curve_fit(g, f, U)\n",
    "pcov = np.sqrt(np.diag(pcov))\n",
    "a = para\n",
    "fa = pcov "
   ]
  },
  {
   "cell_type": "markdown",
   "metadata": {},
   "source": [
    "Fehler berechnen:"
   ]
  },
  {
   "cell_type": "code",
   "execution_count": null,
   "metadata": {},
   "outputs": [],
   "source": [
    "ua = ufloat(a, fa) * 1e6\n",
    "T = ua\n",
    "print('T = (%.3f +- %.3f )10^-6' % (noms(T), stds(T)))"
   ]
  },
  {
   "cell_type": "markdown",
   "metadata": {},
   "source": [
    "Plot erstellen:"
   ]
  },
  {
   "cell_type": "code",
   "execution_count": null,
   "metadata": {},
   "outputs": [],
   "source": [
    "\n",
    "plt.plot(f, Uc, 'xr', markersize=6 , label = 'Messwerte', alpha=0.5)        # alpha: opacity\n",
    "xx = np.linspace(100, 150000, 10**4)\n",
    "plt.plot(xx, g(xx, a), '-b', linewidth = 1, label = 'Ausgleichsfunktion')\n",
    "\n",
    "plt.xlabel(r'$f \\, / \\, \\mathrm{Hz}$')\n",
    "plt.ylabel(r'$A(\\omega) \\, / \\, U_0$')\n",
    "plt.xscale('log')                       # axis scale \n",
    "plt.legend(loc=\"best\")                  # legend position\n",
    "plt.grid(True)                          # grid style\n",
    "plt.xlim(200, 150000)                   # limitation of visible scale in plot"
   ]
  }
 ],
 "metadata": {
  "interpreter": {
   "hash": "4ef32ed23c28cedd878486b9bb2ae1d1ed39a4ae162496b7d4dd2e637309db31"
  },
  "kernelspec": {
   "display_name": "Python 3.8.8 ('base')",
   "language": "python",
   "name": "python3"
  },
  "language_info": {
   "codemirror_mode": {
    "name": "ipython",
    "version": 3
   },
   "file_extension": ".py",
   "mimetype": "text/x-python",
   "name": "python",
   "nbconvert_exporter": "python",
   "pygments_lexer": "ipython3",
   "version": "3.8.8"
  },
  "orig_nbformat": 4
 },
 "nbformat": 4,
 "nbformat_minor": 2
}
